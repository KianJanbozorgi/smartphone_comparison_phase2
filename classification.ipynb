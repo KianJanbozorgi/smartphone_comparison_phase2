{
 "cells": [
  {
   "cell_type": "code",
   "execution_count": 1,
   "metadata": {},
   "outputs": [
    {
     "name": "stderr",
     "output_type": "stream",
     "text": [
      "C:\\Users\\Nathan\\AppData\\Local\\Temp\\ipykernel_10832\\2452857084.py:1: DeprecationWarning: \n",
      "Pyarrow will become a required dependency of pandas in the next major release of pandas (pandas 3.0),\n",
      "(to allow more performant data types, such as the Arrow string type, and better interoperability with other libraries)\n",
      "but was not found to be installed on your system.\n",
      "If this would cause problems for you,\n",
      "please provide us feedback at https://github.com/pandas-dev/pandas/issues/54466\n",
      "        \n",
      "  import pandas as pd\n"
     ]
    }
   ],
   "source": [
    "import pandas as pd\n",
    "import numpy as np\n",
    "import seaborn as sns \n",
    "import matplotlib.pyplot as plt\n",
    "from sklearn.preprocessing import StandardScaler , Normalizer , MaxAbsScaler\n",
    "from sklearn.preprocessing import LabelEncoder\n",
    "from sklearn.model_selection import train_test_split, GridSearchCV, cross_val_score\n",
    "from sklearn.neighbors import KNeighborsClassifier\n",
    "from sklearn.linear_model import LogisticRegression\n",
    "from sklearn.tree import DecisionTreeClassifier\n",
    "from sklearn.svm import SVC\n",
    "from sklearn.linear_model import LinearRegression\n",
    "from sklearn.ensemble import RandomForestClassifier\n",
    "from sklearn.naive_bayes import BernoulliNB , GaussianNB , MultinomialNB\n",
    "from sklearn.metrics import confusion_matrix , f1_score , accuracy_score , classification_report\n",
    "from sklearn.preprocessing import Binarizer"
   ]
  },
  {
   "cell_type": "code",
   "execution_count": 2,
   "metadata": {},
   "outputs": [],
   "source": [
    "df = pd.read_csv(\"data.csv\")"
   ]
  },
  {
   "cell_type": "code",
   "execution_count": 3,
   "metadata": {},
   "outputs": [
    {
     "data": {
      "text/plain": [
       "Index(['Unnamed: 0', 'name', 'brand', '2G', '3G', '4G', '5G', 'Announced',\n",
       "       'Status', 'Weight', 'Length', 'Width', 'Diameter', 'SIM',\n",
       "       'Display Type', 'Display Size', 'ppi', 'body ratio', 'OS',\n",
       "       'battery_capacity', 'Price', 'CPU', 'ratio', 'pixel', 'WLAN', 'Colors',\n",
       "       'Sensors', 'Bluetooth', 'GPU', 'Loudspeaker', '3.5mm jack', 'Chipset',\n",
       "       'Network', 'Internal', 'Card slot', 'RAM', 'Storage'],\n",
       "      dtype='object')"
      ]
     },
     "execution_count": 3,
     "metadata": {},
     "output_type": "execute_result"
    }
   ],
   "source": [
    "df.columns"
   ]
  },
  {
   "cell_type": "markdown",
   "metadata": {},
   "source": [
    "## Data Exploration"
   ]
  },
  {
   "cell_type": "code",
   "execution_count": 4,
   "metadata": {},
   "outputs": [
    {
     "data": {
      "text/plain": [
       "OS\n",
       "Android 10       251\n",
       "Android 9.0      188\n",
       "Android 11       185\n",
       "Android 4.4.2    175\n",
       "Android 12       124\n",
       "                ... \n",
       "Android 2.4        1\n",
       "KaiOS 3.0          1\n",
       "Mobile 6.5.3       1\n",
       "HarmonyOS 3.1      1\n",
       "Android 2.2.2      1\n",
       "Name: count, Length: 119, dtype: int64"
      ]
     },
     "execution_count": 4,
     "metadata": {},
     "output_type": "execute_result"
    }
   ],
   "source": [
    "df['OS'].value_counts()"
   ]
  },
  {
   "cell_type": "code",
   "execution_count": 5,
   "metadata": {},
   "outputs": [],
   "source": [
    "import re\n",
    "df['OS_name']=df['OS'].str.extract(r\"\\b(\\w+)\\s+\\d+\")"
   ]
  },
  {
   "cell_type": "code",
   "execution_count": 6,
   "metadata": {},
   "outputs": [],
   "source": [
    "df2 = df['OS_name'].groupby(df['OS_name']).count()"
   ]
  },
  {
   "cell_type": "code",
   "execution_count": 7,
   "metadata": {},
   "outputs": [
    {
     "data": {
      "text/plain": [
       "OS_name\n",
       "Android      2445\n",
       "EMUI            5\n",
       "Firefox         1\n",
       "HarmonyOS      21\n",
       "KaiOS           6\n",
       "Linux           1\n",
       "MeeGo           1\n",
       "Mobile          1\n",
       "OS              5\n",
       "Phone          64\n",
       "Symbian        10\n",
       "Tizen           3\n",
       "Windows         1\n",
       "iOS            60\n",
       "iPadOS          5\n",
       "platform        5\n",
       "Name: OS_name, dtype: int64"
      ]
     },
     "execution_count": 7,
     "metadata": {},
     "output_type": "execute_result"
    }
   ],
   "source": [
    "df['OS_name'].groupby(df['OS_name']).count()"
   ]
  },
  {
   "cell_type": "code",
   "execution_count": 8,
   "metadata": {},
   "outputs": [],
   "source": [
    "df.loc[df['OS_name']=='Phone', 'OS_name'] = 'Windows'\n",
    "df.loc[df['OS_name']=='Mobile', 'OS_name'] = 'Windows'\n",
    "df.loc[df['OS_name']=='platform', 'OS_name'] = 'Nokia'\n",
    "df.loc[74, 'OS_name'] = 'Firefox'\n",
    "df.loc[75, 'OS_name'] = 'Firefox'\n",
    "df.loc[93, 'OS_name'] = 'Firefox'\n",
    "df.loc[1807, 'OS_name'] = 'Firefox'\n",
    "df.loc[2598, 'OS_name'] = 'Android'"
   ]
  },
  {
   "cell_type": "code",
   "execution_count": 9,
   "metadata": {},
   "outputs": [
    {
     "data": {
      "text/plain": [
       "OS_name\n",
       "Android      2446\n",
       "EMUI            5\n",
       "Firefox         5\n",
       "HarmonyOS      21\n",
       "KaiOS           6\n",
       "Linux           1\n",
       "MeeGo           1\n",
       "Nokia           5\n",
       "Symbian        10\n",
       "Tizen           3\n",
       "Windows        66\n",
       "iOS            60\n",
       "iPadOS          5\n",
       "Name: OS_name, dtype: int64"
      ]
     },
     "execution_count": 9,
     "metadata": {},
     "output_type": "execute_result"
    }
   ],
   "source": [
    "df['OS_name'].groupby(df['OS_name']).count()"
   ]
  },
  {
   "cell_type": "code",
   "execution_count": 10,
   "metadata": {},
   "outputs": [],
   "source": [
    "mode_values = ['Firefox' ,'Linux' ,'MeeGo','Tizen', 'Symbian' , 'KaiOS' , 'Firefox' , 'EMUI' , 'HarmonyOS' , 'Nokia' ] \n",
    "df['OS_name'] = df['OS_name'].apply(lambda x: 'Others' if x in mode_values else x)"
   ]
  },
  {
   "cell_type": "code",
   "execution_count": 11,
   "metadata": {},
   "outputs": [],
   "source": [
    "mode_values = ['iPadOS'] \n",
    "df['OS_name'] = df['OS_name'].apply(lambda x: 'iOS' if x in mode_values else x)"
   ]
  },
  {
   "cell_type": "code",
   "execution_count": 12,
   "metadata": {},
   "outputs": [
    {
     "data": {
      "text/plain": [
       "OS_name\n",
       "Android    2446\n",
       "Others       57\n",
       "Windows      66\n",
       "iOS          65\n",
       "Name: OS_name, dtype: int64"
      ]
     },
     "execution_count": 12,
     "metadata": {},
     "output_type": "execute_result"
    }
   ],
   "source": [
    "df['OS_name'].groupby(df['OS_name']).count()"
   ]
  },
  {
   "cell_type": "code",
   "execution_count": 13,
   "metadata": {},
   "outputs": [],
   "source": [
    "df = df.dropna()"
   ]
  },
  {
   "cell_type": "code",
   "execution_count": 14,
   "metadata": {},
   "outputs": [],
   "source": [
    "df['Chipset']=df['Chipset'].apply(lambda x:x.split()[0])"
   ]
  },
  {
   "cell_type": "code",
   "execution_count": 15,
   "metadata": {},
   "outputs": [],
   "source": [
    "df['Chipset'] = df['Chipset'].str.lower()"
   ]
  },
  {
   "cell_type": "code",
   "execution_count": 16,
   "metadata": {},
   "outputs": [],
   "source": [
    "SIM=pd.get_dummies(df['SIM'],prefix='SIM')\n",
    "brand=pd.get_dummies(df['brand'],prefix='brand')\n",
    "Status=pd.get_dummies(df['Status'],prefix='Status')"
   ]
  },
  {
   "cell_type": "code",
   "execution_count": 17,
   "metadata": {},
   "outputs": [],
   "source": [
    "df=pd.concat([df,SIM,brand,Status],axis=1).drop(['SIM','brand','Status'],axis=1)"
   ]
  },
  {
   "cell_type": "code",
   "execution_count": 18,
   "metadata": {},
   "outputs": [
    {
     "data": {
      "text/html": [
       "<div>\n",
       "<style scoped>\n",
       "    .dataframe tbody tr th:only-of-type {\n",
       "        vertical-align: middle;\n",
       "    }\n",
       "\n",
       "    .dataframe tbody tr th {\n",
       "        vertical-align: top;\n",
       "    }\n",
       "\n",
       "    .dataframe thead th {\n",
       "        text-align: right;\n",
       "    }\n",
       "</style>\n",
       "<table border=\"1\" class=\"dataframe\">\n",
       "  <thead>\n",
       "    <tr style=\"text-align: right;\">\n",
       "      <th></th>\n",
       "      <th>Display Size</th>\n",
       "      <th>ppi</th>\n",
       "      <th>body ratio</th>\n",
       "      <th>pixel</th>\n",
       "    </tr>\n",
       "  </thead>\n",
       "  <tbody>\n",
       "    <tr>\n",
       "      <th>Display Size</th>\n",
       "      <td>1.000000</td>\n",
       "      <td>-0.061405</td>\n",
       "      <td>0.498759</td>\n",
       "      <td>0.517045</td>\n",
       "    </tr>\n",
       "    <tr>\n",
       "      <th>ppi</th>\n",
       "      <td>-0.061405</td>\n",
       "      <td>1.000000</td>\n",
       "      <td>0.469794</td>\n",
       "      <td>0.778518</td>\n",
       "    </tr>\n",
       "    <tr>\n",
       "      <th>body ratio</th>\n",
       "      <td>0.498759</td>\n",
       "      <td>0.469794</td>\n",
       "      <td>1.000000</td>\n",
       "      <td>0.622259</td>\n",
       "    </tr>\n",
       "    <tr>\n",
       "      <th>pixel</th>\n",
       "      <td>0.517045</td>\n",
       "      <td>0.778518</td>\n",
       "      <td>0.622259</td>\n",
       "      <td>1.000000</td>\n",
       "    </tr>\n",
       "  </tbody>\n",
       "</table>\n",
       "</div>"
      ],
      "text/plain": [
       "              Display Size       ppi  body ratio     pixel\n",
       "Display Size      1.000000 -0.061405    0.498759  0.517045\n",
       "ppi              -0.061405  1.000000    0.469794  0.778518\n",
       "body ratio        0.498759  0.469794    1.000000  0.622259\n",
       "pixel             0.517045  0.778518    0.622259  1.000000"
      ]
     },
     "execution_count": 18,
     "metadata": {},
     "output_type": "execute_result"
    }
   ],
   "source": [
    "df[['Display Size', 'ppi','body ratio','pixel']].corr()"
   ]
  },
  {
   "cell_type": "code",
   "execution_count": 19,
   "metadata": {},
   "outputs": [],
   "source": [
    "X=df.drop(['Unnamed: 0', 'name','Weight','OS',\n",
    "           'Length', 'Width', 'Diameter', \n",
    "           'Display Type','ratio','WLAN', \n",
    "           'Colors', 'Sensors', 'Bluetooth', \n",
    "           'GPU','Chipset', 'Network', 'Internal',\n",
    "           'Card slot','OS_name','pixel'],axis=1)\n",
    "y = df['OS_name']"
   ]
  },
  {
   "cell_type": "code",
   "execution_count": 20,
   "metadata": {},
   "outputs": [
    {
     "data": {
      "text/plain": [
       "Index(['2G', '3G', '4G', '5G', 'Announced', 'Display Size', 'ppi',\n",
       "       'body ratio', 'battery_capacity', 'Price', 'CPU', 'Loudspeaker',\n",
       "       '3.5mm jack', 'RAM', 'Storage', 'SIM_Micro-SIM', 'SIM_Mini-SIM',\n",
       "       'SIM_Nano-SIM', 'SIM_eSIM', 'brand_alcatel', 'brand_apple',\n",
       "       'brand_asus', 'brand_blu', 'brand_htc', 'brand_huawei', 'brand_infinix',\n",
       "       'brand_lenovo', 'brand_lg', 'brand_nokia', 'brand_samsung',\n",
       "       'brand_sony', 'brand_xiaomi', 'brand_zte', 'Status_Available',\n",
       "       'Status_Coming', 'Status_Discontinued'],\n",
       "      dtype='object')"
      ]
     },
     "execution_count": 20,
     "metadata": {},
     "output_type": "execute_result"
    }
   ],
   "source": [
    "X.columns"
   ]
  },
  {
   "cell_type": "code",
   "execution_count": 21,
   "metadata": {},
   "outputs": [
    {
     "data": {
      "text/plain": [
       "OS_name\n",
       "Android    2050\n",
       "iOS          62\n",
       "Windows      35\n",
       "Others       28\n",
       "Name: count, dtype: int64"
      ]
     },
     "execution_count": 21,
     "metadata": {},
     "output_type": "execute_result"
    }
   ],
   "source": [
    "y.value_counts()"
   ]
  },
  {
   "cell_type": "markdown",
   "metadata": {},
   "source": [
    "## Building a class for model evaluation"
   ]
  },
  {
   "cell_type": "code",
   "execution_count": 22,
   "metadata": {},
   "outputs": [],
   "source": [
    "class ModelTrainer:\n",
    "    def __init__(self, model, param_grid=None):\n",
    "        self.model = model\n",
    "        self.param_grid = param_grid\n",
    "\n",
    "    def train(self, X_train, y_train, X_val, y_val):\n",
    "        \n",
    "        if self.param_grid is None:\n",
    "            grid_search = self.model\n",
    "        else:\n",
    "            grid_search = GridSearchCV(self.model, self.param_grid, cv=5, return_train_score=True)\n",
    "        grid_search.fit(X_train, y_train)\n",
    "        \n",
    "        \n",
    "        if self.param_grid is not None:\n",
    "            print(\"Best Parameters:\", grid_search.best_params_)\n",
    "\n",
    "            best_model = grid_search.best_estimator_\n",
    "            cv_scores = cross_val_score(best_model, X_train, y_train, cv=5)\n",
    "            print(\"Cross Validation Scores:\", cv_scores)\n",
    "            print(\"Mean Cross Validation Score:\", cv_scores.mean())\n",
    "\n",
    "            train_scores = grid_search.cv_results_['mean_train_score']\n",
    "            print(\"Training Set Scores in Each Fold:\")\n",
    "            print(train_scores)\n",
    "            \n",
    "            \n",
    "        validation_set_score = grid_search.score(X_val, y_val)\n",
    "        print(\"validation Set Score:\", validation_set_score)\n",
    "\n",
    "        y_pred = grid_search.predict(X_val)\n",
    "        cm = confusion_matrix(y_val , y_pred)\n",
    "        print(\"Confusion Matrix:\")\n",
    "        print(cm)\n",
    "        print(\"F1 Score:\", f1_score(y_val , y_pred ,average='weighted'))\n",
    "        print(\"Accuracy Score:\", accuracy_score(y_val , y_pred))\n",
    "        print(\"Classification Report:\")\n",
    "        print(classification_report(y_val , y_pred))\n",
    "        return accuracy_score(y_val , y_pred)\n"
   ]
  },
  {
   "cell_type": "markdown",
   "metadata": {},
   "source": [
    "## Splitting Data"
   ]
  },
  {
   "cell_type": "code",
   "execution_count": 23,
   "metadata": {},
   "outputs": [],
   "source": [
    "X_train_val, X_test, y_train_val, y_test = train_test_split(X, y, test_size=0.15, random_state=42)\n",
    "\n",
    "X_train, X_val, y_train, y_val = train_test_split(X_train_val, y_train_val, test_size=0.25, random_state=42)"
   ]
  },
  {
   "cell_type": "markdown",
   "metadata": {},
   "source": [
    "## Scaling Data"
   ]
  },
  {
   "cell_type": "code",
   "execution_count": 24,
   "metadata": {},
   "outputs": [],
   "source": [
    "scaler = StandardScaler()\n",
    "X_train= scaler.fit_transform(X_train)\n",
    "X_test= scaler.transform(X_test)\n",
    "X_val= scaler.transform(X_val)"
   ]
  },
  {
   "cell_type": "markdown",
   "metadata": {},
   "source": [
    "## KNN"
   ]
  },
  {
   "cell_type": "code",
   "execution_count": 25,
   "metadata": {},
   "outputs": [],
   "source": [
    "model_name = []\n",
    "model_acc = []"
   ]
  },
  {
   "cell_type": "code",
   "execution_count": 26,
   "metadata": {},
   "outputs": [
    {
     "name": "stdout",
     "output_type": "stream",
     "text": [
      "Best Parameters: {'n_neighbors': 10, 'weights': 'distance'}\n",
      "Cross Validation Scores: [0.98561151 0.97833935 0.98555957 0.98194946 0.98916968]\n",
      "Mean Cross Validation Score: 0.9841259122665766\n",
      "Training Set Scores in Each Fold:\n",
      "[0.98791476 1.         0.98466794 1.         0.98340571 1.\n",
      " 0.97943752 1.         0.97474763 1.        ]\n",
      "validation Set Score: 0.9848484848484849\n",
      "Confusion Matrix:\n",
      "[[435   2   0   0]\n",
      " [  3   0   0   0]\n",
      " [  2   0   9   0]\n",
      " [  0   0   0  11]]\n",
      "F1 Score: 0.9835756983419468\n",
      "Accuracy Score: 0.9848484848484849\n",
      "Classification Report:\n",
      "              precision    recall  f1-score   support\n",
      "\n",
      "     Android       0.99      1.00      0.99       437\n",
      "      Others       0.00      0.00      0.00         3\n",
      "     Windows       1.00      0.82      0.90        11\n",
      "         iOS       1.00      1.00      1.00        11\n",
      "\n",
      "    accuracy                           0.98       462\n",
      "   macro avg       0.75      0.70      0.72       462\n",
      "weighted avg       0.98      0.98      0.98       462\n",
      "\n"
     ]
    }
   ],
   "source": [
    "knn = KNeighborsClassifier()\n",
    "param_grid = {'n_neighbors': [3, 5, 7,10,20], 'weights': ['uniform', 'distance']}\n",
    "\n",
    "trainer = ModelTrainer(knn, param_grid)\n",
    "\n",
    "acc = trainer.train(X_train, y_train, X_val, y_val)\n",
    "\n",
    "model_name.append(\"KNN\")\n",
    "model_acc.append(acc)"
   ]
  },
  {
   "cell_type": "markdown",
   "metadata": {},
   "source": [
    "## LogReg"
   ]
  },
  {
   "cell_type": "code",
   "execution_count": 27,
   "metadata": {},
   "outputs": [
    {
     "name": "stdout",
     "output_type": "stream",
     "text": [
      "validation Set Score: 0.9848484848484849\n",
      "Confusion Matrix:\n",
      "[[435   2   0   0]\n",
      " [  3   0   0   0]\n",
      " [  2   0   9   0]\n",
      " [  0   0   0  11]]\n",
      "F1 Score: 0.9835756983419468\n",
      "Accuracy Score: 0.9848484848484849\n",
      "Classification Report:\n",
      "              precision    recall  f1-score   support\n",
      "\n",
      "     Android       0.99      1.00      0.99       437\n",
      "      Others       0.00      0.00      0.00         3\n",
      "     Windows       1.00      0.82      0.90        11\n",
      "         iOS       1.00      1.00      1.00        11\n",
      "\n",
      "    accuracy                           0.98       462\n",
      "   macro avg       0.75      0.70      0.72       462\n",
      "weighted avg       0.98      0.98      0.98       462\n",
      "\n"
     ]
    }
   ],
   "source": [
    "LogReg = LogisticRegression()\n",
    "\n",
    "trainer = ModelTrainer(LogReg)\n",
    "\n",
    "acc = trainer.train(X_train, y_train, X_val, y_val)\n",
    "\n",
    "model_acc.append(acc)\n",
    "model_name.append(\"LogReg\")"
   ]
  },
  {
   "cell_type": "markdown",
   "metadata": {},
   "source": [
    "## DTC"
   ]
  },
  {
   "cell_type": "code",
   "execution_count": 28,
   "metadata": {},
   "outputs": [
    {
     "name": "stdout",
     "output_type": "stream",
     "text": [
      "Best Parameters: {'max_depth': 5, 'min_samples_leaf': 2, 'min_samples_split': 2}\n",
      "Cross Validation Scores: [0.98920863 0.98916968 0.99277978 0.98194946 0.99638989]\n",
      "Mean Cross Validation Score: 0.989899488351557\n",
      "Training Set Scores in Each Fold:\n",
      "[1.         0.99549029 0.99368671 0.99350636 0.99332586 0.99152243\n",
      " 0.98971868 0.98971868 0.98971868 0.98051958 0.98051958 0.98051958\n",
      " 0.98033923 0.98033923 0.98033923 0.97979804 0.97979804 0.97979804\n",
      " 0.98683238 0.98575    0.98538932 0.98953834 0.98953834 0.98935799\n",
      " 0.98953817 0.98953817 0.98953817 0.99440824 0.99314551 0.99242414\n",
      " 0.99242414 0.99242414 0.99152243 0.98971868 0.98971868 0.98971868]\n",
      "validation Set Score: 0.987012987012987\n",
      "Confusion Matrix:\n",
      "[[435   2   0   0]\n",
      " [  1   2   0   0]\n",
      " [  3   0   8   0]\n",
      " [  0   0   0  11]]\n",
      "F1 Score: 0.986978989013184\n",
      "Accuracy Score: 0.987012987012987\n",
      "Classification Report:\n",
      "              precision    recall  f1-score   support\n",
      "\n",
      "     Android       0.99      1.00      0.99       437\n",
      "      Others       0.50      0.67      0.57         3\n",
      "     Windows       1.00      0.73      0.84        11\n",
      "         iOS       1.00      1.00      1.00        11\n",
      "\n",
      "    accuracy                           0.99       462\n",
      "   macro avg       0.87      0.85      0.85       462\n",
      "weighted avg       0.99      0.99      0.99       462\n",
      "\n"
     ]
    }
   ],
   "source": [
    "tree_clf = DecisionTreeClassifier()\n",
    "param_grid = {'max_depth': [None, 3, 5, 7], 'min_samples_split': [2, 5, 10], 'min_samples_leaf': [1, 2, 4]}\n",
    "\n",
    "trainer = ModelTrainer(tree_clf,param_grid)\n",
    "\n",
    "\n",
    "acc = trainer.train(X_train, y_train, X_val, y_val)\n",
    "\n",
    "model_acc.append(acc)\n",
    "model_name.append(\"DTC\")"
   ]
  },
  {
   "cell_type": "code",
   "execution_count": 29,
   "metadata": {},
   "outputs": [
    {
     "name": "stdout",
     "output_type": "stream",
     "text": [
      "validation Set Score: 0.9458874458874459\n",
      "Confusion Matrix:\n",
      "[[437   0   0   0]\n",
      " [  3   0   0   0]\n",
      " [ 11   0   0   0]\n",
      " [ 11   0   0   0]]\n",
      "F1 Score: 0.9195835680818996\n",
      "Accuracy Score: 0.9458874458874459\n",
      "Classification Report:\n",
      "              precision    recall  f1-score   support\n",
      "\n",
      "     Android       0.95      1.00      0.97       437\n",
      "      Others       0.00      0.00      0.00         3\n",
      "     Windows       0.00      0.00      0.00        11\n",
      "         iOS       0.00      0.00      0.00        11\n",
      "\n",
      "    accuracy                           0.95       462\n",
      "   macro avg       0.24      0.25      0.24       462\n",
      "weighted avg       0.89      0.95      0.92       462\n",
      "\n"
     ]
    },
    {
     "name": "stderr",
     "output_type": "stream",
     "text": [
      "c:\\Users\\Nathan\\AppData\\Local\\Programs\\Python\\Python311\\Lib\\site-packages\\sklearn\\metrics\\_classification.py:1509: UndefinedMetricWarning: Precision is ill-defined and being set to 0.0 in labels with no predicted samples. Use `zero_division` parameter to control this behavior.\n",
      "  _warn_prf(average, modifier, f\"{metric.capitalize()} is\", len(result))\n",
      "c:\\Users\\Nathan\\AppData\\Local\\Programs\\Python\\Python311\\Lib\\site-packages\\sklearn\\metrics\\_classification.py:1509: UndefinedMetricWarning: Precision is ill-defined and being set to 0.0 in labels with no predicted samples. Use `zero_division` parameter to control this behavior.\n",
      "  _warn_prf(average, modifier, f\"{metric.capitalize()} is\", len(result))\n",
      "c:\\Users\\Nathan\\AppData\\Local\\Programs\\Python\\Python311\\Lib\\site-packages\\sklearn\\metrics\\_classification.py:1509: UndefinedMetricWarning: Precision is ill-defined and being set to 0.0 in labels with no predicted samples. Use `zero_division` parameter to control this behavior.\n",
      "  _warn_prf(average, modifier, f\"{metric.capitalize()} is\", len(result))\n"
     ]
    }
   ],
   "source": [
    "dtc2 = DecisionTreeClassifier(criterion= 'entropy' , ccp_alpha=0.25)\n",
    "\n",
    "trainer = ModelTrainer(dtc2)\n",
    "\n",
    "acc = trainer.train(X_train, y_train, X_val, y_val)\n",
    "\n",
    "model_acc.append(acc)\n",
    "model_name.append(\"DTC_entropy\")"
   ]
  },
  {
   "cell_type": "markdown",
   "metadata": {},
   "source": [
    "## SVC"
   ]
  },
  {
   "cell_type": "code",
   "execution_count": 30,
   "metadata": {},
   "outputs": [
    {
     "name": "stdout",
     "output_type": "stream",
     "text": [
      "Best Parameters: {'C': 1, 'gamma': 'scale', 'kernel': 'linear'}\n",
      "Cross Validation Scores: [0.98561151 0.98916968 0.98555957 0.98916968 0.98916968]\n",
      "Mean Cross Validation Score: 0.9877360205698256\n",
      "Training Set Scores in Each Fold:\n",
      "[0.98809543 0.9740261  0.96103866 0.95508654 0.98809543 0.97384576\n",
      " 0.96103866 0.95580791 0.99098124 0.98899715 0.98160163 0.9705991\n",
      " 0.99098124 0.98827561 0.98142129 0.97077944 0.99512977 0.99476925\n",
      " 0.99224396 0.97564853 0.99512977 0.99494959 0.99206362 0.97528785]\n",
      "validation Set Score: 0.9848484848484849\n",
      "Confusion Matrix:\n",
      "[[435   2   0   0]\n",
      " [  3   0   0   0]\n",
      " [  2   0   9   0]\n",
      " [  0   0   0  11]]\n",
      "F1 Score: 0.9835756983419468\n",
      "Accuracy Score: 0.9848484848484849\n",
      "Classification Report:\n",
      "              precision    recall  f1-score   support\n",
      "\n",
      "     Android       0.99      1.00      0.99       437\n",
      "      Others       0.00      0.00      0.00         3\n",
      "     Windows       1.00      0.82      0.90        11\n",
      "         iOS       1.00      1.00      1.00        11\n",
      "\n",
      "    accuracy                           0.98       462\n",
      "   macro avg       0.75      0.70      0.72       462\n",
      "weighted avg       0.98      0.98      0.98       462\n",
      "\n"
     ]
    }
   ],
   "source": [
    "svc = SVC()\n",
    "\n",
    "param_grid = {'C': [0.1, 1, 10], 'kernel': ['linear', 'poly', 'rbf', 'sigmoid'], 'gamma': ['scale', 'auto']}\n",
    "\n",
    "trainer = ModelTrainer(svc,param_grid)\n",
    "\n",
    "acc = trainer.train(X_train, y_train, X_val, y_val)\n",
    "\n",
    "model_acc.append(acc)\n",
    "model_name.append(\"SVC\")"
   ]
  },
  {
   "cell_type": "markdown",
   "metadata": {},
   "source": [
    "## NaiveBayes"
   ]
  },
  {
   "cell_type": "code",
   "execution_count": 31,
   "metadata": {},
   "outputs": [
    {
     "name": "stderr",
     "output_type": "stream",
     "text": [
      "c:\\Users\\Nathan\\AppData\\Local\\Programs\\Python\\Python311\\Lib\\site-packages\\sklearn\\naive_bayes.py:1199: RuntimeWarning: invalid value encountered in log\n",
      "  self.feature_log_prob_ = np.log(smoothed_fc) - np.log(\n",
      "c:\\Users\\Nathan\\AppData\\Local\\Programs\\Python\\Python311\\Lib\\site-packages\\sklearn\\naive_bayes.py:1214: RuntimeWarning: invalid value encountered in log\n",
      "  neg_prob = np.log(1 - np.exp(self.feature_log_prob_))\n",
      "c:\\Users\\Nathan\\AppData\\Local\\Programs\\Python\\Python311\\Lib\\site-packages\\sklearn\\naive_bayes.py:1214: RuntimeWarning: invalid value encountered in log\n",
      "  neg_prob = np.log(1 - np.exp(self.feature_log_prob_))\n",
      "c:\\Users\\Nathan\\AppData\\Local\\Programs\\Python\\Python311\\Lib\\site-packages\\sklearn\\naive_bayes.py:1199: RuntimeWarning: invalid value encountered in log\n",
      "  self.feature_log_prob_ = np.log(smoothed_fc) - np.log(\n",
      "c:\\Users\\Nathan\\AppData\\Local\\Programs\\Python\\Python311\\Lib\\site-packages\\sklearn\\naive_bayes.py:1214: RuntimeWarning: invalid value encountered in log\n",
      "  neg_prob = np.log(1 - np.exp(self.feature_log_prob_))\n",
      "c:\\Users\\Nathan\\AppData\\Local\\Programs\\Python\\Python311\\Lib\\site-packages\\sklearn\\naive_bayes.py:1214: RuntimeWarning: invalid value encountered in log\n",
      "  neg_prob = np.log(1 - np.exp(self.feature_log_prob_))\n",
      "c:\\Users\\Nathan\\AppData\\Local\\Programs\\Python\\Python311\\Lib\\site-packages\\sklearn\\naive_bayes.py:1199: RuntimeWarning: invalid value encountered in log\n",
      "  self.feature_log_prob_ = np.log(smoothed_fc) - np.log(\n",
      "c:\\Users\\Nathan\\AppData\\Local\\Programs\\Python\\Python311\\Lib\\site-packages\\sklearn\\naive_bayes.py:1214: RuntimeWarning: invalid value encountered in log\n",
      "  neg_prob = np.log(1 - np.exp(self.feature_log_prob_))\n",
      "c:\\Users\\Nathan\\AppData\\Local\\Programs\\Python\\Python311\\Lib\\site-packages\\sklearn\\naive_bayes.py:1214: RuntimeWarning: invalid value encountered in log\n",
      "  neg_prob = np.log(1 - np.exp(self.feature_log_prob_))\n",
      "c:\\Users\\Nathan\\AppData\\Local\\Programs\\Python\\Python311\\Lib\\site-packages\\sklearn\\naive_bayes.py:1199: RuntimeWarning: invalid value encountered in log\n",
      "  self.feature_log_prob_ = np.log(smoothed_fc) - np.log(\n",
      "c:\\Users\\Nathan\\AppData\\Local\\Programs\\Python\\Python311\\Lib\\site-packages\\sklearn\\naive_bayes.py:1214: RuntimeWarning: invalid value encountered in log\n",
      "  neg_prob = np.log(1 - np.exp(self.feature_log_prob_))\n",
      "c:\\Users\\Nathan\\AppData\\Local\\Programs\\Python\\Python311\\Lib\\site-packages\\sklearn\\naive_bayes.py:1214: RuntimeWarning: invalid value encountered in log\n",
      "  neg_prob = np.log(1 - np.exp(self.feature_log_prob_))\n",
      "c:\\Users\\Nathan\\AppData\\Local\\Programs\\Python\\Python311\\Lib\\site-packages\\sklearn\\naive_bayes.py:1199: RuntimeWarning: invalid value encountered in log\n",
      "  self.feature_log_prob_ = np.log(smoothed_fc) - np.log(\n",
      "c:\\Users\\Nathan\\AppData\\Local\\Programs\\Python\\Python311\\Lib\\site-packages\\sklearn\\naive_bayes.py:1214: RuntimeWarning: invalid value encountered in log\n",
      "  neg_prob = np.log(1 - np.exp(self.feature_log_prob_))\n",
      "c:\\Users\\Nathan\\AppData\\Local\\Programs\\Python\\Python311\\Lib\\site-packages\\sklearn\\naive_bayes.py:1214: RuntimeWarning: invalid value encountered in log\n",
      "  neg_prob = np.log(1 - np.exp(self.feature_log_prob_))\n",
      "c:\\Users\\Nathan\\AppData\\Local\\Programs\\Python\\Python311\\Lib\\site-packages\\sklearn\\naive_bayes.py:1199: RuntimeWarning: invalid value encountered in log\n",
      "  self.feature_log_prob_ = np.log(smoothed_fc) - np.log(\n",
      "c:\\Users\\Nathan\\AppData\\Local\\Programs\\Python\\Python311\\Lib\\site-packages\\sklearn\\naive_bayes.py:1214: RuntimeWarning: invalid value encountered in log\n",
      "  neg_prob = np.log(1 - np.exp(self.feature_log_prob_))\n",
      "c:\\Users\\Nathan\\AppData\\Local\\Programs\\Python\\Python311\\Lib\\site-packages\\sklearn\\naive_bayes.py:1214: RuntimeWarning: invalid value encountered in log\n",
      "  neg_prob = np.log(1 - np.exp(self.feature_log_prob_))\n",
      "c:\\Users\\Nathan\\AppData\\Local\\Programs\\Python\\Python311\\Lib\\site-packages\\sklearn\\naive_bayes.py:1199: RuntimeWarning: invalid value encountered in log\n",
      "  self.feature_log_prob_ = np.log(smoothed_fc) - np.log(\n",
      "c:\\Users\\Nathan\\AppData\\Local\\Programs\\Python\\Python311\\Lib\\site-packages\\sklearn\\naive_bayes.py:1214: RuntimeWarning: invalid value encountered in log\n",
      "  neg_prob = np.log(1 - np.exp(self.feature_log_prob_))\n",
      "c:\\Users\\Nathan\\AppData\\Local\\Programs\\Python\\Python311\\Lib\\site-packages\\sklearn\\naive_bayes.py:1214: RuntimeWarning: invalid value encountered in log\n",
      "  neg_prob = np.log(1 - np.exp(self.feature_log_prob_))\n",
      "c:\\Users\\Nathan\\AppData\\Local\\Programs\\Python\\Python311\\Lib\\site-packages\\sklearn\\naive_bayes.py:1199: RuntimeWarning: invalid value encountered in log\n",
      "  self.feature_log_prob_ = np.log(smoothed_fc) - np.log(\n",
      "c:\\Users\\Nathan\\AppData\\Local\\Programs\\Python\\Python311\\Lib\\site-packages\\sklearn\\naive_bayes.py:1214: RuntimeWarning: invalid value encountered in log\n",
      "  neg_prob = np.log(1 - np.exp(self.feature_log_prob_))\n",
      "c:\\Users\\Nathan\\AppData\\Local\\Programs\\Python\\Python311\\Lib\\site-packages\\sklearn\\naive_bayes.py:1214: RuntimeWarning: invalid value encountered in log\n",
      "  neg_prob = np.log(1 - np.exp(self.feature_log_prob_))\n",
      "c:\\Users\\Nathan\\AppData\\Local\\Programs\\Python\\Python311\\Lib\\site-packages\\sklearn\\naive_bayes.py:1199: RuntimeWarning: invalid value encountered in log\n",
      "  self.feature_log_prob_ = np.log(smoothed_fc) - np.log(\n",
      "c:\\Users\\Nathan\\AppData\\Local\\Programs\\Python\\Python311\\Lib\\site-packages\\sklearn\\naive_bayes.py:1214: RuntimeWarning: invalid value encountered in log\n",
      "  neg_prob = np.log(1 - np.exp(self.feature_log_prob_))\n",
      "c:\\Users\\Nathan\\AppData\\Local\\Programs\\Python\\Python311\\Lib\\site-packages\\sklearn\\naive_bayes.py:1214: RuntimeWarning: invalid value encountered in log\n",
      "  neg_prob = np.log(1 - np.exp(self.feature_log_prob_))\n",
      "c:\\Users\\Nathan\\AppData\\Local\\Programs\\Python\\Python311\\Lib\\site-packages\\sklearn\\naive_bayes.py:1199: RuntimeWarning: invalid value encountered in log\n",
      "  self.feature_log_prob_ = np.log(smoothed_fc) - np.log(\n",
      "c:\\Users\\Nathan\\AppData\\Local\\Programs\\Python\\Python311\\Lib\\site-packages\\sklearn\\naive_bayes.py:1214: RuntimeWarning: invalid value encountered in log\n",
      "  neg_prob = np.log(1 - np.exp(self.feature_log_prob_))\n",
      "c:\\Users\\Nathan\\AppData\\Local\\Programs\\Python\\Python311\\Lib\\site-packages\\sklearn\\naive_bayes.py:1214: RuntimeWarning: invalid value encountered in log\n",
      "  neg_prob = np.log(1 - np.exp(self.feature_log_prob_))\n",
      "c:\\Users\\Nathan\\AppData\\Local\\Programs\\Python\\Python311\\Lib\\site-packages\\sklearn\\naive_bayes.py:1199: RuntimeWarning: invalid value encountered in log\n",
      "  self.feature_log_prob_ = np.log(smoothed_fc) - np.log(\n",
      "c:\\Users\\Nathan\\AppData\\Local\\Programs\\Python\\Python311\\Lib\\site-packages\\sklearn\\naive_bayes.py:1214: RuntimeWarning: invalid value encountered in log\n",
      "  neg_prob = np.log(1 - np.exp(self.feature_log_prob_))\n",
      "c:\\Users\\Nathan\\AppData\\Local\\Programs\\Python\\Python311\\Lib\\site-packages\\sklearn\\naive_bayes.py:1214: RuntimeWarning: invalid value encountered in log\n",
      "  neg_prob = np.log(1 - np.exp(self.feature_log_prob_))\n",
      "c:\\Users\\Nathan\\AppData\\Local\\Programs\\Python\\Python311\\Lib\\site-packages\\sklearn\\naive_bayes.py:1199: RuntimeWarning: invalid value encountered in log\n",
      "  self.feature_log_prob_ = np.log(smoothed_fc) - np.log(\n",
      "c:\\Users\\Nathan\\AppData\\Local\\Programs\\Python\\Python311\\Lib\\site-packages\\sklearn\\naive_bayes.py:1214: RuntimeWarning: invalid value encountered in log\n",
      "  neg_prob = np.log(1 - np.exp(self.feature_log_prob_))\n",
      "c:\\Users\\Nathan\\AppData\\Local\\Programs\\Python\\Python311\\Lib\\site-packages\\sklearn\\naive_bayes.py:1214: RuntimeWarning: invalid value encountered in log\n",
      "  neg_prob = np.log(1 - np.exp(self.feature_log_prob_))\n",
      "c:\\Users\\Nathan\\AppData\\Local\\Programs\\Python\\Python311\\Lib\\site-packages\\sklearn\\naive_bayes.py:1199: RuntimeWarning: invalid value encountered in log\n",
      "  self.feature_log_prob_ = np.log(smoothed_fc) - np.log(\n",
      "c:\\Users\\Nathan\\AppData\\Local\\Programs\\Python\\Python311\\Lib\\site-packages\\sklearn\\naive_bayes.py:1214: RuntimeWarning: invalid value encountered in log\n",
      "  neg_prob = np.log(1 - np.exp(self.feature_log_prob_))\n",
      "c:\\Users\\Nathan\\AppData\\Local\\Programs\\Python\\Python311\\Lib\\site-packages\\sklearn\\naive_bayes.py:1214: RuntimeWarning: invalid value encountered in log\n",
      "  neg_prob = np.log(1 - np.exp(self.feature_log_prob_))\n",
      "c:\\Users\\Nathan\\AppData\\Local\\Programs\\Python\\Python311\\Lib\\site-packages\\sklearn\\naive_bayes.py:1199: RuntimeWarning: invalid value encountered in log\n",
      "  self.feature_log_prob_ = np.log(smoothed_fc) - np.log(\n",
      "c:\\Users\\Nathan\\AppData\\Local\\Programs\\Python\\Python311\\Lib\\site-packages\\sklearn\\naive_bayes.py:1214: RuntimeWarning: invalid value encountered in log\n",
      "  neg_prob = np.log(1 - np.exp(self.feature_log_prob_))\n",
      "c:\\Users\\Nathan\\AppData\\Local\\Programs\\Python\\Python311\\Lib\\site-packages\\sklearn\\naive_bayes.py:1214: RuntimeWarning: invalid value encountered in log\n",
      "  neg_prob = np.log(1 - np.exp(self.feature_log_prob_))\n",
      "c:\\Users\\Nathan\\AppData\\Local\\Programs\\Python\\Python311\\Lib\\site-packages\\sklearn\\naive_bayes.py:1199: RuntimeWarning: invalid value encountered in log\n",
      "  self.feature_log_prob_ = np.log(smoothed_fc) - np.log(\n",
      "c:\\Users\\Nathan\\AppData\\Local\\Programs\\Python\\Python311\\Lib\\site-packages\\sklearn\\naive_bayes.py:1214: RuntimeWarning: invalid value encountered in log\n",
      "  neg_prob = np.log(1 - np.exp(self.feature_log_prob_))\n",
      "c:\\Users\\Nathan\\AppData\\Local\\Programs\\Python\\Python311\\Lib\\site-packages\\sklearn\\naive_bayes.py:1214: RuntimeWarning: invalid value encountered in log\n",
      "  neg_prob = np.log(1 - np.exp(self.feature_log_prob_))\n"
     ]
    },
    {
     "name": "stdout",
     "output_type": "stream",
     "text": [
      "Best Parameters: {'alpha': 10.0, 'binarize': 0.5}\n",
      "Cross Validation Scores: [0.96043165 0.9566787  0.96028881 0.94584838 0.96389892]\n",
      "Mean Cross Validation Score: 0.9574292912240605\n",
      "Training Set Scores in Each Fold:\n",
      "[0.943723   0.78481118 0.87428001 0.943723   0.72871517 0.83730424\n",
      " 0.943723   0.95238238 0.95815318]\n",
      "validation Set Score: 0.9588744588744589\n",
      "Confusion Matrix:\n",
      "[[435   0   0   2]\n",
      " [  3   0   0   0]\n",
      " [ 11   0   0   0]\n",
      " [  3   0   0   8]]\n",
      "F1 Score: 0.9438122182779101\n",
      "Accuracy Score: 0.9588744588744589\n",
      "Classification Report:\n",
      "              precision    recall  f1-score   support\n",
      "\n",
      "     Android       0.96      1.00      0.98       437\n",
      "      Others       0.00      0.00      0.00         3\n",
      "     Windows       0.00      0.00      0.00        11\n",
      "         iOS       0.80      0.73      0.76        11\n",
      "\n",
      "    accuracy                           0.96       462\n",
      "   macro avg       0.44      0.43      0.44       462\n",
      "weighted avg       0.93      0.96      0.94       462\n",
      "\n"
     ]
    },
    {
     "name": "stderr",
     "output_type": "stream",
     "text": [
      "c:\\Users\\Nathan\\AppData\\Local\\Programs\\Python\\Python311\\Lib\\site-packages\\sklearn\\metrics\\_classification.py:1509: UndefinedMetricWarning: Precision is ill-defined and being set to 0.0 in labels with no predicted samples. Use `zero_division` parameter to control this behavior.\n",
      "  _warn_prf(average, modifier, f\"{metric.capitalize()} is\", len(result))\n",
      "c:\\Users\\Nathan\\AppData\\Local\\Programs\\Python\\Python311\\Lib\\site-packages\\sklearn\\metrics\\_classification.py:1509: UndefinedMetricWarning: Precision is ill-defined and being set to 0.0 in labels with no predicted samples. Use `zero_division` parameter to control this behavior.\n",
      "  _warn_prf(average, modifier, f\"{metric.capitalize()} is\", len(result))\n",
      "c:\\Users\\Nathan\\AppData\\Local\\Programs\\Python\\Python311\\Lib\\site-packages\\sklearn\\metrics\\_classification.py:1509: UndefinedMetricWarning: Precision is ill-defined and being set to 0.0 in labels with no predicted samples. Use `zero_division` parameter to control this behavior.\n",
      "  _warn_prf(average, modifier, f\"{metric.capitalize()} is\", len(result))\n"
     ]
    }
   ],
   "source": [
    "bnb = BernoulliNB()\n",
    "\n",
    "param_grid = {'alpha': [0.1, 1.0, 10.0], 'binarize': [None, 0.0, 0.5]}\n",
    "\n",
    "binarizer = Binarizer()\n",
    "X_train_binarized = binarizer.fit_transform(X_train)\n",
    "X_val_binarized = binarizer.transform(X_val)\n",
    "X_test_binarized = binarizer.transform(X_test)\n",
    "\n",
    "trainer = ModelTrainer(bnb,param_grid)\n",
    "\n",
    "acc = trainer.train(X_train, y_train, X_val, y_val)\n",
    "\n",
    "model_acc.append(acc)\n",
    "model_name.append(\"BernouliNB\")"
   ]
  },
  {
   "cell_type": "markdown",
   "metadata": {},
   "source": [
    "## GaussianNB"
   ]
  },
  {
   "cell_type": "code",
   "execution_count": 32,
   "metadata": {},
   "outputs": [
    {
     "name": "stdout",
     "output_type": "stream",
     "text": [
      "validation Set Score: 0.6212121212121212\n",
      "Confusion Matrix:\n",
      "[[262 123  52   0]\n",
      " [  0   3   0   0]\n",
      " [  0   0  11   0]\n",
      " [  0   0   0  11]]\n",
      "F1 Score: 0.7402673386304488\n",
      "Accuracy Score: 0.6212121212121212\n",
      "Classification Report:\n",
      "              precision    recall  f1-score   support\n",
      "\n",
      "     Android       1.00      0.60      0.75       437\n",
      "      Others       0.02      1.00      0.05         3\n",
      "     Windows       0.17      1.00      0.30        11\n",
      "         iOS       1.00      1.00      1.00        11\n",
      "\n",
      "    accuracy                           0.62       462\n",
      "   macro avg       0.55      0.90      0.52       462\n",
      "weighted avg       0.97      0.62      0.74       462\n",
      "\n"
     ]
    }
   ],
   "source": [
    "gaussNB = GaussianNB()\n",
    "\n",
    "trainer = ModelTrainer(gaussNB)\n",
    "\n",
    "acc = trainer.train(X_train, y_train, X_val, y_val)\n",
    "\n",
    "model_acc.append(acc)\n",
    "model_name.append(\"GaussianNB\")"
   ]
  },
  {
   "cell_type": "markdown",
   "metadata": {},
   "source": [
    "## Rndom Forest"
   ]
  },
  {
   "cell_type": "code",
   "execution_count": 33,
   "metadata": {},
   "outputs": [
    {
     "name": "stdout",
     "output_type": "stream",
     "text": [
      "Best Parameters: {'max_depth': 10, 'min_samples_leaf': 1, 'min_samples_split': 5, 'n_estimators': 300}\n",
      "Cross Validation Scores: [0.97841727 0.98555957 0.98916968 0.98194946 0.98194946]\n",
      "Mean Cross Validation Score: 0.983409085006363\n",
      "Training Set Scores in Each Fold:\n",
      "[1.         1.         1.         0.99296517 0.99296517 0.99278499\n",
      " 0.99043989 0.99134193 0.99134209 0.99116126 0.99152227 0.99152243\n",
      " 0.99044005 0.99116142 0.99116142 0.98935799 0.9888168  0.98845612\n",
      " 0.98250383 0.98304502 0.98358621 0.98124143 0.98412708 0.98286501\n",
      " 0.97925701 0.98088075 0.98160179 0.97510848 0.97474763 0.97348491\n",
      " 0.97384592 0.97294372 0.97312422 0.97276354 0.97276338 0.97240269\n",
      " 0.97366525 0.97294388 0.97294388 0.97420628 0.97366525 0.9731239\n",
      " 0.97240253 0.97222219 0.97258287 0.97113997 0.9718615  0.9718615\n",
      " 0.97222219 0.97168116 0.9718615  0.97168116 0.97150082 0.97114013\n",
      " 0.99585147 0.99567113 0.99639233 0.99170261 0.99170277 0.99188312\n",
      " 0.99062055 0.99044021 0.99098124 0.99080073 0.99134193 0.99116142\n",
      " 0.99098124 0.9908009  0.99080073 0.98737374 0.98755424 0.98827545\n",
      " 0.98124209 0.98268401 0.98232398 0.98123997 0.98178246 0.98340571\n",
      " 0.98124062 0.98196281 0.97925653]\n",
      "validation Set Score: 0.987012987012987\n",
      "Confusion Matrix:\n",
      "[[437   0   0   0]\n",
      " [  3   0   0   0]\n",
      " [  3   0   8   0]\n",
      " [  0   0   0  11]]\n",
      "F1 Score: 0.9832978624246566\n",
      "Accuracy Score: 0.987012987012987\n",
      "Classification Report:\n",
      "              precision    recall  f1-score   support\n",
      "\n",
      "     Android       0.99      1.00      0.99       437\n",
      "      Others       0.00      0.00      0.00         3\n",
      "     Windows       1.00      0.73      0.84        11\n",
      "         iOS       1.00      1.00      1.00        11\n",
      "\n",
      "    accuracy                           0.99       462\n",
      "   macro avg       0.75      0.68      0.71       462\n",
      "weighted avg       0.98      0.99      0.98       462\n",
      "\n"
     ]
    },
    {
     "name": "stderr",
     "output_type": "stream",
     "text": [
      "c:\\Users\\Nathan\\AppData\\Local\\Programs\\Python\\Python311\\Lib\\site-packages\\sklearn\\metrics\\_classification.py:1509: UndefinedMetricWarning: Precision is ill-defined and being set to 0.0 in labels with no predicted samples. Use `zero_division` parameter to control this behavior.\n",
      "  _warn_prf(average, modifier, f\"{metric.capitalize()} is\", len(result))\n",
      "c:\\Users\\Nathan\\AppData\\Local\\Programs\\Python\\Python311\\Lib\\site-packages\\sklearn\\metrics\\_classification.py:1509: UndefinedMetricWarning: Precision is ill-defined and being set to 0.0 in labels with no predicted samples. Use `zero_division` parameter to control this behavior.\n",
      "  _warn_prf(average, modifier, f\"{metric.capitalize()} is\", len(result))\n",
      "c:\\Users\\Nathan\\AppData\\Local\\Programs\\Python\\Python311\\Lib\\site-packages\\sklearn\\metrics\\_classification.py:1509: UndefinedMetricWarning: Precision is ill-defined and being set to 0.0 in labels with no predicted samples. Use `zero_division` parameter to control this behavior.\n",
      "  _warn_prf(average, modifier, f\"{metric.capitalize()} is\", len(result))\n"
     ]
    }
   ],
   "source": [
    "rf = RandomForestClassifier()\n",
    "\n",
    "param_grid = {\n",
    "    'n_estimators': [100, 200, 300],\n",
    "    'max_depth': [None, 5, 10],\n",
    "    'min_samples_split': [2, 5, 10],\n",
    "    'min_samples_leaf': [1, 2, 4]\n",
    "}\n",
    "\n",
    "trainer = ModelTrainer(rf,param_grid)\n",
    "acc = trainer.train(X_train, y_train, X_val, y_val)\n",
    "\n",
    "model_acc.append(acc)\n",
    "model_name.append(\"RF\")"
   ]
  },
  {
   "cell_type": "code",
   "execution_count": 34,
   "metadata": {},
   "outputs": [
    {
     "data": {
      "text/plain": [
       "[<matplotlib.lines.Line2D at 0x2443f577b10>]"
      ]
     },
     "execution_count": 34,
     "metadata": {},
     "output_type": "execute_result"
    },
    {
     "data": {
      "image/png": "[encoded data removed]",
      "text/plain": [
       "<Figure size 2000x1000 with 1 Axes>"
      ]
     },
     "metadata": {},
     "output_type": "display_data"
    }
   ],
   "source": [
    "ax = plt.subplots(figsize=(20,10))\n",
    "ax = plt.plot(model_name , model_acc)\n",
    "ax"
   ]
  },
  {
   "cell_type": "markdown",
   "metadata": {},
   "source": [
    "## more detailed search in Random Forest Hyper parameters"
   ]
  },
  {
   "cell_type": "code",
   "execution_count": 35,
   "metadata": {},
   "outputs": [],
   "source": [
    "#Number of trees\n",
    "n_estimator = [int(x) for x in np.linspace(start = 10 ,stop = 80, num = 10)]\n",
    "#Number of features to consider at every split\n",
    "max_features = ['log2' , 'sqrt']\n",
    "#Maximum samples required\n",
    "max_depth =  [int(x) for x in np.linspace(start = 10 ,stop = 100, num = 5)]\n",
    "#Minimum samples required to split the node\n",
    "min_samples_split = [int(x) for x in np.linspace(start = 5 ,stop = 60, num = 5)]\n",
    "#Minimum number of samples required at each leaf\n",
    "min_samples_leaf = [int(x) for x in np.linspace(start = 1 ,stop = 10, num = 2)]\n",
    "#Method of selecting samples for training each tree\n",
    "bootstrap = [True , False]"
   ]
  },
  {
   "cell_type": "code",
   "execution_count": 36,
   "metadata": {},
   "outputs": [],
   "source": [
    "#creating the param grid\n",
    "param_grid = {\n",
    "    'n_estimators': n_estimator,\n",
    "    'max_features': max_features,\n",
    "    'max_depth': max_depth,\n",
    "    'min_samples_split': min_samples_split,\n",
    "    'min_samples_leaf': min_samples_leaf,\n",
    "    'bootstrap':bootstrap\n",
    "}\n"
   ]
  },
  {
   "cell_type": "code",
   "execution_count": 37,
   "metadata": {},
   "outputs": [
    {
     "name": "stdout",
     "output_type": "stream",
     "text": [
      "Best Parameters: {'bootstrap': False, 'max_depth': 77, 'max_features': 'sqrt', 'min_samples_leaf': 1, 'min_samples_split': 5, 'n_estimators': 17}\n",
      "Cross Validation Scores: [0.98920863 0.98194946 0.99277978 0.97833935 0.98194946]\n",
      "Mean Cross Validation Score: 0.9848453367270082\n",
      "Training Set Scores in Each Fold:\n",
      "[0.99062023 0.99007888 0.99170245 ... 0.9671721  0.96699127 0.96699095]\n",
      "validation Set Score: 0.9848484848484849\n",
      "Confusion Matrix:\n",
      "[[435   2   0   0]\n",
      " [  3   0   0   0]\n",
      " [  2   0   9   0]\n",
      " [  0   0   0  11]]\n",
      "F1 Score: 0.9835756983419468\n",
      "Accuracy Score: 0.9848484848484849\n",
      "Classification Report:\n",
      "              precision    recall  f1-score   support\n",
      "\n",
      "     Android       0.99      1.00      0.99       437\n",
      "      Others       0.00      0.00      0.00         3\n",
      "     Windows       1.00      0.82      0.90        11\n",
      "         iOS       1.00      1.00      1.00        11\n",
      "\n",
      "    accuracy                           0.98       462\n",
      "   macro avg       0.75      0.70      0.72       462\n",
      "weighted avg       0.98      0.98      0.98       462\n",
      "\n"
     ]
    }
   ],
   "source": [
    "rf_Model2 = RandomForestClassifier()\n",
    "\n",
    "trainer = ModelTrainer(rf_Model2,param_grid)\n",
    "\n",
    "acc = trainer.train(X_train, y_train, X_val, y_val)\n",
    "\n",
    "model_acc.append(acc)\n",
    "model_name.append(\"RF_tuned\")"
   ]
  },
  {
   "cell_type": "markdown",
   "metadata": {},
   "source": [
    "## Choosing the best model to fit on the test data"
   ]
  },
  {
   "cell_type": "code",
   "execution_count": 38,
   "metadata": {},
   "outputs": [
    {
     "data": {
      "text/plain": [
       "[<matplotlib.lines.Line2D at 0x244507d3850>]"
      ]
     },
     "execution_count": 38,
     "metadata": {},
     "output_type": "execute_result"
    },
    {
     "data": {
      "image/png": "[encoded data removed]",
      "text/plain": [
       "<Figure size 2000x1000 with 1 Axes>"
      ]
     },
     "metadata": {},
     "output_type": "display_data"
    }
   ],
   "source": [
    "ax = plt.subplots(figsize=(20,10))\n",
    "ax = plt.plot(model_name , model_acc)\n",
    "ax"
   ]
  },
  {
   "cell_type": "code",
   "execution_count": 39,
   "metadata": {},
   "outputs": [
    {
     "name": "stdout",
     "output_type": "stream",
     "text": [
      "Best Parameters: {'C': 1, 'gamma': 'scale', 'kernel': 'linear'}\n",
      "Cross Validation Scores: [0.98561151 0.98916968 0.98555957 0.98916968 0.98916968]\n",
      "Mean Cross Validation Score: 0.9877360205698256\n",
      "Training Set Scores in Each Fold:\n",
      "[0.98809543 0.9740261  0.96103866 0.95508654 0.98809543 0.97384576\n",
      " 0.96103866 0.95580791 0.99098124 0.98899715 0.98160163 0.9705991\n",
      " 0.99098124 0.98827561 0.98142129 0.97077944 0.99512977 0.99476925\n",
      " 0.99224396 0.97564853 0.99512977 0.99494959 0.99206362 0.97528785]\n",
      "validation Set Score: 0.981651376146789\n",
      "Confusion Matrix:\n",
      "[[304   0   1   0]\n",
      " [  2   4   0   0]\n",
      " [  3   0   1   0]\n",
      " [  0   0   0  12]]\n",
      "F1 Score: 0.9790607868723997\n",
      "Accuracy Score: 0.981651376146789\n",
      "Classification Report:\n",
      "              precision    recall  f1-score   support\n",
      "\n",
      "     Android       0.98      1.00      0.99       305\n",
      "      Others       1.00      0.67      0.80         6\n",
      "     Windows       0.50      0.25      0.33         4\n",
      "         iOS       1.00      1.00      1.00        12\n",
      "\n",
      "    accuracy                           0.98       327\n",
      "   macro avg       0.87      0.73      0.78       327\n",
      "weighted avg       0.98      0.98      0.98       327\n",
      "\n"
     ]
    }
   ],
   "source": [
    "svc = SVC()\n",
    "\n",
    "param_grid = {'C': [0.1, 1, 10], 'kernel': ['linear', 'poly', 'rbf', 'sigmoid'], 'gamma': ['scale', 'auto']}\n",
    "\n",
    "trainer = ModelTrainer(svc,param_grid)\n",
    "\n",
    "acc = trainer.train(X_train, y_train, X_test, y_test)\n",
    "\n"
   ]
  },
  {
   "cell_type": "markdown",
   "metadata": {},
   "source": [
    "## Dividing Battery Capacity"
   ]
  },
  {
   "cell_type": "code",
   "execution_count": 40,
   "metadata": {},
   "outputs": [
    {
     "data": {
      "text/plain": [
       "50.0"
      ]
     },
     "execution_count": 40,
     "metadata": {},
     "output_type": "execute_result"
    }
   ],
   "source": [
    "X['battery_capacity'].min()"
   ]
  },
  {
   "cell_type": "code",
   "execution_count": 41,
   "metadata": {},
   "outputs": [
    {
     "data": {
      "text/plain": [
       "11560.0"
      ]
     },
     "execution_count": 41,
     "metadata": {},
     "output_type": "execute_result"
    }
   ],
   "source": [
    "X['battery_capacity'].max()"
   ]
  },
  {
   "cell_type": "code",
   "execution_count": 42,
   "metadata": {},
   "outputs": [
    {
     "data": {
      "text/plain": [
       "3665.9245977011497"
      ]
     },
     "execution_count": 42,
     "metadata": {},
     "output_type": "execute_result"
    }
   ],
   "source": [
    "X['battery_capacity'].mean()"
   ]
  },
  {
   "cell_type": "code",
   "execution_count": 43,
   "metadata": {},
   "outputs": [
    {
     "data": {
      "text/plain": [
       "(array([  6., 471., 700., 457., 376.,  67.,  54.,  22.,  16.,   6.]),\n",
       " array([   50.,  1201.,  2352.,  3503.,  4654.,  5805.,  6956.,  8107.,\n",
       "         9258., 10409., 11560.]),\n",
       " <BarContainer object of 10 artists>)"
      ]
     },
     "execution_count": 43,
     "metadata": {},
     "output_type": "execute_result"
    },
    {
     "data": {
      "image/png": "[encoded data removed]",
      "text/plain": [
       "<Figure size 640x480 with 1 Axes>"
      ]
     },
     "metadata": {},
     "output_type": "display_data"
    }
   ],
   "source": [
    "plt.hist(X['battery_capacity'])"
   ]
  },
  {
   "cell_type": "code",
   "execution_count": 44,
   "metadata": {},
   "outputs": [],
   "source": [
    "def clustering(x):\n",
    "    if  0<float(x)<3666:\n",
    "        return 1\n",
    "    elif 3665<=float(x)<5000:\n",
    "        return 2\n",
    "    elif 5000<=float(x)<12000: \n",
    "        return 3"
   ]
  },
  {
   "cell_type": "code",
   "execution_count": 45,
   "metadata": {},
   "outputs": [],
   "source": [
    "X['battery_capacity'] = X['battery_capacity'].apply(clustering)"
   ]
  },
  {
   "cell_type": "code",
   "execution_count": 46,
   "metadata": {},
   "outputs": [],
   "source": [
    "X_train_val, X_test, y_train_val, y_test = train_test_split(X, y, test_size=0.15, random_state=42)\n",
    "\n",
    "X_train, X_val, y_train, y_val = train_test_split(X_train_val, y_train_val, test_size=0.25, random_state=42)"
   ]
  },
  {
   "cell_type": "code",
   "execution_count": 47,
   "metadata": {},
   "outputs": [],
   "source": [
    "scaler = StandardScaler()\n",
    "X_train= scaler.fit_transform(X_train)\n",
    "X_test= scaler.transform(X_test)\n",
    "X_val= scaler.transform(X_val)"
   ]
  },
  {
   "cell_type": "code",
   "execution_count": 48,
   "metadata": {},
   "outputs": [
    {
     "name": "stdout",
     "output_type": "stream",
     "text": [
      "Best Parameters: {'C': 10, 'gamma': 'scale', 'kernel': 'poly'}\n",
      "Cross Validation Scores: [0.98920863 0.98555957 0.98555957 0.98194946 0.99638989]\n",
      "Mean Cross Validation Score: 0.9877334233696076\n",
      "Training Set Scores in Each Fold:\n",
      "[0.98701338 0.97420644 0.96212088 0.95454551 0.98701338 0.9740261\n",
      " 0.96266224 0.9561686  0.98989902 0.98899715 0.98178214 0.97168116\n",
      " 0.98989902 0.98845612 0.98142129 0.97222219 0.99404755 0.99476925\n",
      " 0.99224396 0.97546868 0.99404755 0.99494959 0.99206362 0.97546884]\n",
      "validation Set Score: 0.9785932721712538\n",
      "Confusion Matrix:\n",
      "[[303   0   2   0]\n",
      " [  2   4   0   0]\n",
      " [  3   0   1   0]\n",
      " [  0   0   0  12]]\n",
      "F1 Score: 0.9769418532637476\n",
      "Accuracy Score: 0.9785932721712538\n",
      "Classification Report:\n",
      "              precision    recall  f1-score   support\n",
      "\n",
      "     Android       0.98      0.99      0.99       305\n",
      "      Others       1.00      0.67      0.80         6\n",
      "     Windows       0.33      0.25      0.29         4\n",
      "         iOS       1.00      1.00      1.00        12\n",
      "\n",
      "    accuracy                           0.98       327\n",
      "   macro avg       0.83      0.73      0.77       327\n",
      "weighted avg       0.98      0.98      0.98       327\n",
      "\n"
     ]
    }
   ],
   "source": [
    "svc = SVC()\n",
    "\n",
    "param_grid = {'C': [0.1, 1, 10], 'kernel': ['linear', 'poly', 'rbf', 'sigmoid'], 'gamma': ['scale', 'auto']}\n",
    "\n",
    "trainer = ModelTrainer(svc,param_grid)\n",
    "\n",
    "acc = trainer.train(X_train, y_train, X_test, y_test)"
   ]
  },
  {
   "cell_type": "markdown",
   "metadata": {},
   "source": [
    "## EXTERA"
   ]
  },
  {
   "cell_type": "markdown",
   "metadata": {},
   "source": [
    "## Preproseccing"
   ]
  },
  {
   "cell_type": "code",
   "execution_count": 49,
   "metadata": {},
   "outputs": [],
   "source": [
    "df['battery_capacity'] = df['battery_capacity'].apply(clustering)"
   ]
  },
  {
   "cell_type": "code",
   "execution_count": 50,
   "metadata": {},
   "outputs": [
    {
     "data": {
      "text/html": [
       "<div>\n",
       "<style scoped>\n",
       "    .dataframe tbody tr th:only-of-type {\n",
       "        vertical-align: middle;\n",
       "    }\n",
       "\n",
       "    .dataframe tbody tr th {\n",
       "        vertical-align: top;\n",
       "    }\n",
       "\n",
       "    .dataframe thead th {\n",
       "        text-align: right;\n",
       "    }\n",
       "</style>\n",
       "<table border=\"1\" class=\"dataframe\">\n",
       "  <thead>\n",
       "    <tr style=\"text-align: right;\">\n",
       "      <th></th>\n",
       "      <th>2G</th>\n",
       "      <th>3G</th>\n",
       "      <th>4G</th>\n",
       "      <th>5G</th>\n",
       "      <th>Announced</th>\n",
       "      <th>Display Size</th>\n",
       "      <th>ppi</th>\n",
       "      <th>body ratio</th>\n",
       "      <th>Price</th>\n",
       "      <th>CPU</th>\n",
       "      <th>...</th>\n",
       "      <th>brand_sony</th>\n",
       "      <th>brand_xiaomi</th>\n",
       "      <th>brand_zte</th>\n",
       "      <th>Status_Available</th>\n",
       "      <th>Status_Coming</th>\n",
       "      <th>Status_Discontinued</th>\n",
       "      <th>OS_name_Android</th>\n",
       "      <th>OS_name_Others</th>\n",
       "      <th>OS_name_Windows</th>\n",
       "      <th>OS_name_iOS</th>\n",
       "    </tr>\n",
       "  </thead>\n",
       "  <tbody>\n",
       "    <tr>\n",
       "      <th>0</th>\n",
       "      <td>True</td>\n",
       "      <td>True</td>\n",
       "      <td>True</td>\n",
       "      <td>False</td>\n",
       "      <td>2022.0</td>\n",
       "      <td>5.50</td>\n",
       "      <td>293.0</td>\n",
       "      <td>74.0</td>\n",
       "      <td>100.0</td>\n",
       "      <td>4.0</td>\n",
       "      <td>...</td>\n",
       "      <td>False</td>\n",
       "      <td>False</td>\n",
       "      <td>False</td>\n",
       "      <td>True</td>\n",
       "      <td>False</td>\n",
       "      <td>False</td>\n",
       "      <td>True</td>\n",
       "      <td>False</td>\n",
       "      <td>False</td>\n",
       "      <td>False</td>\n",
       "    </tr>\n",
       "    <tr>\n",
       "      <th>1</th>\n",
       "      <td>True</td>\n",
       "      <td>True</td>\n",
       "      <td>True</td>\n",
       "      <td>False</td>\n",
       "      <td>2021.0</td>\n",
       "      <td>6.10</td>\n",
       "      <td>282.0</td>\n",
       "      <td>78.1</td>\n",
       "      <td>110.0</td>\n",
       "      <td>8.0</td>\n",
       "      <td>...</td>\n",
       "      <td>False</td>\n",
       "      <td>False</td>\n",
       "      <td>False</td>\n",
       "      <td>True</td>\n",
       "      <td>False</td>\n",
       "      <td>False</td>\n",
       "      <td>True</td>\n",
       "      <td>False</td>\n",
       "      <td>False</td>\n",
       "      <td>False</td>\n",
       "    </tr>\n",
       "    <tr>\n",
       "      <th>2</th>\n",
       "      <td>True</td>\n",
       "      <td>True</td>\n",
       "      <td>True</td>\n",
       "      <td>False</td>\n",
       "      <td>2021.0</td>\n",
       "      <td>5.00</td>\n",
       "      <td>215.0</td>\n",
       "      <td>71.4</td>\n",
       "      <td>60.0</td>\n",
       "      <td>4.0</td>\n",
       "      <td>...</td>\n",
       "      <td>False</td>\n",
       "      <td>False</td>\n",
       "      <td>False</td>\n",
       "      <td>True</td>\n",
       "      <td>False</td>\n",
       "      <td>False</td>\n",
       "      <td>True</td>\n",
       "      <td>False</td>\n",
       "      <td>False</td>\n",
       "      <td>False</td>\n",
       "    </tr>\n",
       "    <tr>\n",
       "      <th>3</th>\n",
       "      <td>True</td>\n",
       "      <td>True</td>\n",
       "      <td>True</td>\n",
       "      <td>False</td>\n",
       "      <td>2021.0</td>\n",
       "      <td>6.52</td>\n",
       "      <td>269.0</td>\n",
       "      <td>82.0</td>\n",
       "      <td>330.0</td>\n",
       "      <td>8.0</td>\n",
       "      <td>...</td>\n",
       "      <td>False</td>\n",
       "      <td>False</td>\n",
       "      <td>False</td>\n",
       "      <td>True</td>\n",
       "      <td>False</td>\n",
       "      <td>False</td>\n",
       "      <td>True</td>\n",
       "      <td>False</td>\n",
       "      <td>False</td>\n",
       "      <td>False</td>\n",
       "    </tr>\n",
       "    <tr>\n",
       "      <th>4</th>\n",
       "      <td>True</td>\n",
       "      <td>True</td>\n",
       "      <td>True</td>\n",
       "      <td>False</td>\n",
       "      <td>2021.0</td>\n",
       "      <td>6.52</td>\n",
       "      <td>269.0</td>\n",
       "      <td>82.0</td>\n",
       "      <td>130.0</td>\n",
       "      <td>8.0</td>\n",
       "      <td>...</td>\n",
       "      <td>False</td>\n",
       "      <td>False</td>\n",
       "      <td>False</td>\n",
       "      <td>True</td>\n",
       "      <td>False</td>\n",
       "      <td>False</td>\n",
       "      <td>True</td>\n",
       "      <td>False</td>\n",
       "      <td>False</td>\n",
       "      <td>False</td>\n",
       "    </tr>\n",
       "    <tr>\n",
       "      <th>...</th>\n",
       "      <td>...</td>\n",
       "      <td>...</td>\n",
       "      <td>...</td>\n",
       "      <td>...</td>\n",
       "      <td>...</td>\n",
       "      <td>...</td>\n",
       "      <td>...</td>\n",
       "      <td>...</td>\n",
       "      <td>...</td>\n",
       "      <td>...</td>\n",
       "      <td>...</td>\n",
       "      <td>...</td>\n",
       "      <td>...</td>\n",
       "      <td>...</td>\n",
       "      <td>...</td>\n",
       "      <td>...</td>\n",
       "      <td>...</td>\n",
       "      <td>...</td>\n",
       "      <td>...</td>\n",
       "      <td>...</td>\n",
       "      <td>...</td>\n",
       "    </tr>\n",
       "    <tr>\n",
       "      <th>2618</th>\n",
       "      <td>True</td>\n",
       "      <td>True</td>\n",
       "      <td>False</td>\n",
       "      <td>False</td>\n",
       "      <td>2011.0</td>\n",
       "      <td>4.20</td>\n",
       "      <td>222.0</td>\n",
       "      <td>60.9</td>\n",
       "      <td>200.0</td>\n",
       "      <td>2.0</td>\n",
       "      <td>...</td>\n",
       "      <td>False</td>\n",
       "      <td>False</td>\n",
       "      <td>False</td>\n",
       "      <td>False</td>\n",
       "      <td>False</td>\n",
       "      <td>True</td>\n",
       "      <td>True</td>\n",
       "      <td>False</td>\n",
       "      <td>False</td>\n",
       "      <td>False</td>\n",
       "    </tr>\n",
       "    <tr>\n",
       "      <th>2626</th>\n",
       "      <td>True</td>\n",
       "      <td>True</td>\n",
       "      <td>False</td>\n",
       "      <td>False</td>\n",
       "      <td>2011.0</td>\n",
       "      <td>10.10</td>\n",
       "      <td>149.0</td>\n",
       "      <td>65.7</td>\n",
       "      <td>370.0</td>\n",
       "      <td>2.0</td>\n",
       "      <td>...</td>\n",
       "      <td>False</td>\n",
       "      <td>False</td>\n",
       "      <td>False</td>\n",
       "      <td>False</td>\n",
       "      <td>False</td>\n",
       "      <td>True</td>\n",
       "      <td>True</td>\n",
       "      <td>False</td>\n",
       "      <td>False</td>\n",
       "      <td>False</td>\n",
       "    </tr>\n",
       "    <tr>\n",
       "      <th>2627</th>\n",
       "      <td>True</td>\n",
       "      <td>True</td>\n",
       "      <td>True</td>\n",
       "      <td>False</td>\n",
       "      <td>2011.0</td>\n",
       "      <td>10.10</td>\n",
       "      <td>149.0</td>\n",
       "      <td>65.7</td>\n",
       "      <td>290.0</td>\n",
       "      <td>2.0</td>\n",
       "      <td>...</td>\n",
       "      <td>False</td>\n",
       "      <td>False</td>\n",
       "      <td>False</td>\n",
       "      <td>False</td>\n",
       "      <td>False</td>\n",
       "      <td>True</td>\n",
       "      <td>True</td>\n",
       "      <td>False</td>\n",
       "      <td>False</td>\n",
       "      <td>False</td>\n",
       "    </tr>\n",
       "    <tr>\n",
       "      <th>2628</th>\n",
       "      <td>True</td>\n",
       "      <td>True</td>\n",
       "      <td>False</td>\n",
       "      <td>False</td>\n",
       "      <td>2011.0</td>\n",
       "      <td>8.90</td>\n",
       "      <td>170.0</td>\n",
       "      <td>63.0</td>\n",
       "      <td>290.0</td>\n",
       "      <td>2.0</td>\n",
       "      <td>...</td>\n",
       "      <td>False</td>\n",
       "      <td>False</td>\n",
       "      <td>False</td>\n",
       "      <td>False</td>\n",
       "      <td>False</td>\n",
       "      <td>True</td>\n",
       "      <td>True</td>\n",
       "      <td>False</td>\n",
       "      <td>False</td>\n",
       "      <td>False</td>\n",
       "    </tr>\n",
       "    <tr>\n",
       "      <th>2631</th>\n",
       "      <td>True</td>\n",
       "      <td>True</td>\n",
       "      <td>False</td>\n",
       "      <td>False</td>\n",
       "      <td>2011.0</td>\n",
       "      <td>4.30</td>\n",
       "      <td>217.0</td>\n",
       "      <td>63.5</td>\n",
       "      <td>170.0</td>\n",
       "      <td>2.0</td>\n",
       "      <td>...</td>\n",
       "      <td>False</td>\n",
       "      <td>False</td>\n",
       "      <td>False</td>\n",
       "      <td>False</td>\n",
       "      <td>False</td>\n",
       "      <td>True</td>\n",
       "      <td>True</td>\n",
       "      <td>False</td>\n",
       "      <td>False</td>\n",
       "      <td>False</td>\n",
       "    </tr>\n",
       "  </tbody>\n",
       "</table>\n",
       "<p>2175 rows × 39 columns</p>\n",
       "</div>"
      ],
      "text/plain": [
       "        2G    3G     4G     5G  Announced  Display Size    ppi  body ratio  \\\n",
       "0     True  True   True  False     2022.0          5.50  293.0        74.0   \n",
       "1     True  True   True  False     2021.0          6.10  282.0        78.1   \n",
       "2     True  True   True  False     2021.0          5.00  215.0        71.4   \n",
       "3     True  True   True  False     2021.0          6.52  269.0        82.0   \n",
       "4     True  True   True  False     2021.0          6.52  269.0        82.0   \n",
       "...    ...   ...    ...    ...        ...           ...    ...         ...   \n",
       "2618  True  True  False  False     2011.0          4.20  222.0        60.9   \n",
       "2626  True  True  False  False     2011.0         10.10  149.0        65.7   \n",
       "2627  True  True   True  False     2011.0         10.10  149.0        65.7   \n",
       "2628  True  True  False  False     2011.0          8.90  170.0        63.0   \n",
       "2631  True  True  False  False     2011.0          4.30  217.0        63.5   \n",
       "\n",
       "      Price  CPU  ...  brand_sony  brand_xiaomi  brand_zte  Status_Available  \\\n",
       "0     100.0  4.0  ...       False         False      False              True   \n",
       "1     110.0  8.0  ...       False         False      False              True   \n",
       "2      60.0  4.0  ...       False         False      False              True   \n",
       "3     330.0  8.0  ...       False         False      False              True   \n",
       "4     130.0  8.0  ...       False         False      False              True   \n",
       "...     ...  ...  ...         ...           ...        ...               ...   \n",
       "2618  200.0  2.0  ...       False         False      False             False   \n",
       "2626  370.0  2.0  ...       False         False      False             False   \n",
       "2627  290.0  2.0  ...       False         False      False             False   \n",
       "2628  290.0  2.0  ...       False         False      False             False   \n",
       "2631  170.0  2.0  ...       False         False      False             False   \n",
       "\n",
       "      Status_Coming  Status_Discontinued  OS_name_Android  OS_name_Others  \\\n",
       "0             False                False             True           False   \n",
       "1             False                False             True           False   \n",
       "2             False                False             True           False   \n",
       "3             False                False             True           False   \n",
       "4             False                False             True           False   \n",
       "...             ...                  ...              ...             ...   \n",
       "2618          False                 True             True           False   \n",
       "2626          False                 True             True           False   \n",
       "2627          False                 True             True           False   \n",
       "2628          False                 True             True           False   \n",
       "2631          False                 True             True           False   \n",
       "\n",
       "      OS_name_Windows  OS_name_iOS  \n",
       "0               False        False  \n",
       "1               False        False  \n",
       "2               False        False  \n",
       "3               False        False  \n",
       "4               False        False  \n",
       "...               ...          ...  \n",
       "2618            False        False  \n",
       "2626            False        False  \n",
       "2627            False        False  \n",
       "2628            False        False  \n",
       "2631            False        False  \n",
       "\n",
       "[2175 rows x 39 columns]"
      ]
     },
     "execution_count": 50,
     "metadata": {},
     "output_type": "execute_result"
    }
   ],
   "source": [
    "X=df.drop(['Unnamed: 0', 'name','Weight','OS',\n",
    "           'Length', 'Width', 'Diameter', \n",
    "           'Display Type','ratio','WLAN', \n",
    "           'Colors', 'Sensors', 'Bluetooth', \n",
    "           'GPU','Chipset', 'Network', 'Internal',\n",
    "           'Card slot','pixel','battery_capacity'],axis=1)\n",
    "y = df['battery_capacity']\n",
    "OS_name = pd.get_dummies(X['OS_name'],prefix='OS_name')\n",
    "X = pd.concat([X,OS_name],axis=1).drop(['OS_name'],axis=1)\n",
    "X"
   ]
  },
  {
   "cell_type": "code",
   "execution_count": 51,
   "metadata": {},
   "outputs": [],
   "source": [
    "X_train_val, X_test, y_train_val, y_test = train_test_split(X, y, test_size=0.15, random_state=42)\n",
    "\n",
    "X_train, X_val, y_train, y_val = train_test_split(X_train_val, y_train_val, test_size=0.25, random_state=42)"
   ]
  },
  {
   "cell_type": "code",
   "execution_count": 52,
   "metadata": {},
   "outputs": [],
   "source": [
    "scaler = StandardScaler()\n",
    "X_train= scaler.fit_transform(X_train)\n",
    "X_test= scaler.transform(X_test)\n",
    "X_val= scaler.transform(X_val)"
   ]
  },
  {
   "cell_type": "code",
   "execution_count": 53,
   "metadata": {},
   "outputs": [],
   "source": [
    "model_name = []\n",
    "model_acc = []"
   ]
  },
  {
   "cell_type": "markdown",
   "metadata": {},
   "source": [
    "## KNN"
   ]
  },
  {
   "cell_type": "code",
   "execution_count": 54,
   "metadata": {},
   "outputs": [
    {
     "name": "stdout",
     "output_type": "stream",
     "text": [
      "Best Parameters: {'n_neighbors': 3, 'weights': 'distance'}\n",
      "Cross Validation Scores: [0.78057554 0.77256318 0.7833935  0.77256318 0.79783394]\n",
      "Mean Cross Validation Score: 0.7813858660364128\n",
      "Training Set Scores in Each Fold:\n",
      "[0.87463875 1.         0.83675898 1.         0.81475506 1.\n",
      " 0.79870049 1.         0.75216411 1.        ]\n",
      "validation Set Score: 0.7965367965367965\n",
      "Confusion Matrix:\n",
      "[[248  16   6]\n",
      " [ 31  42  11]\n",
      " [  4  26  78]]\n",
      "F1 Score: 0.7947295580269329\n",
      "Accuracy Score: 0.7965367965367965\n",
      "Classification Report:\n",
      "              precision    recall  f1-score   support\n",
      "\n",
      "           1       0.88      0.92      0.90       270\n",
      "           2       0.50      0.50      0.50        84\n",
      "           3       0.82      0.72      0.77       108\n",
      "\n",
      "    accuracy                           0.80       462\n",
      "   macro avg       0.73      0.71      0.72       462\n",
      "weighted avg       0.79      0.80      0.79       462\n",
      "\n"
     ]
    }
   ],
   "source": [
    "knn = KNeighborsClassifier()\n",
    "param_grid = {'n_neighbors': [3, 5, 7,10,20], 'weights': ['uniform', 'distance']}\n",
    "\n",
    "trainer = ModelTrainer(knn, param_grid)\n",
    "\n",
    "acc = trainer.train(X_train, y_train, X_val, y_val)\n",
    "\n",
    "model_name.append(\"KNN\")\n",
    "model_acc.append(acc)"
   ]
  },
  {
   "cell_type": "markdown",
   "metadata": {},
   "source": [
    "## LogisticRegression"
   ]
  },
  {
   "cell_type": "code",
   "execution_count": 55,
   "metadata": {},
   "outputs": [
    {
     "name": "stdout",
     "output_type": "stream",
     "text": [
      "validation Set Score: 0.8225108225108225\n",
      "Confusion Matrix:\n",
      "[[255  11   4]\n",
      " [ 27  44  13]\n",
      " [  2  25  81]]\n",
      "F1 Score: 0.8193964637345437\n",
      "Accuracy Score: 0.8225108225108225\n",
      "Classification Report:\n",
      "              precision    recall  f1-score   support\n",
      "\n",
      "           1       0.90      0.94      0.92       270\n",
      "           2       0.55      0.52      0.54        84\n",
      "           3       0.83      0.75      0.79       108\n",
      "\n",
      "    accuracy                           0.82       462\n",
      "   macro avg       0.76      0.74      0.75       462\n",
      "weighted avg       0.82      0.82      0.82       462\n",
      "\n"
     ]
    }
   ],
   "source": [
    "LogReg = LogisticRegression()\n",
    "\n",
    "trainer = ModelTrainer(LogReg)\n",
    "\n",
    "acc = trainer.train(X_train, y_train, X_val, y_val)\n",
    "\n",
    "model_acc.append(acc)\n",
    "model_name.append(\"LogReg\")"
   ]
  },
  {
   "cell_type": "markdown",
   "metadata": {},
   "source": [
    "## Decision Tree"
   ]
  },
  {
   "cell_type": "code",
   "execution_count": 56,
   "metadata": {},
   "outputs": [
    {
     "name": "stdout",
     "output_type": "stream",
     "text": [
      "Best Parameters: {'max_depth': None, 'min_samples_leaf': 4, 'min_samples_split': 5}\n",
      "Cross Validation Scores: [0.85251799 0.80505415 0.8267148  0.8267148  0.81949458]\n",
      "Mean Cross Validation Score: 0.8260992649923382\n",
      "Training Set Scores in Each Fold:\n",
      "[1.         0.97258336 0.94227928 0.95436566 0.94913426 0.92694723\n",
      " 0.9168456  0.9168456  0.91377912 0.80933924 0.80933924 0.80933924\n",
      " 0.80861771 0.80861771 0.80861771 0.80861771 0.80861771 0.80861771\n",
      " 0.84992659 0.84884454 0.84776216 0.84667994 0.84667994 0.8459584\n",
      " 0.84379364 0.84379364 0.84379364 0.89935204 0.89466248 0.88888988\n",
      " 0.88907055 0.88870954 0.88474119 0.88239527 0.88275595 0.88077219]\n",
      "validation Set Score: 0.8398268398268398\n",
      "Confusion Matrix:\n",
      "[[247  15   8]\n",
      " [ 22  55   7]\n",
      " [  6  16  86]]\n",
      "F1 Score: 0.8397559933024215\n",
      "Accuracy Score: 0.8398268398268398\n",
      "Classification Report:\n",
      "              precision    recall  f1-score   support\n",
      "\n",
      "           1       0.90      0.91      0.91       270\n",
      "           2       0.64      0.65      0.65        84\n",
      "           3       0.85      0.80      0.82       108\n",
      "\n",
      "    accuracy                           0.84       462\n",
      "   macro avg       0.80      0.79      0.79       462\n",
      "weighted avg       0.84      0.84      0.84       462\n",
      "\n"
     ]
    }
   ],
   "source": [
    "tree_clf = DecisionTreeClassifier()\n",
    "param_grid = {'max_depth': [None, 3, 5, 7], 'min_samples_split': [2, 5, 10], 'min_samples_leaf': [1, 2, 4]}\n",
    "\n",
    "trainer = ModelTrainer(tree_clf,param_grid)\n",
    "\n",
    "\n",
    "acc = trainer.train(X_train, y_train, X_val, y_val)\n",
    "\n",
    "model_acc.append(acc)\n",
    "model_name.append(\"DTC\")"
   ]
  },
  {
   "cell_type": "markdown",
   "metadata": {},
   "source": [
    "## SVC"
   ]
  },
  {
   "cell_type": "code",
   "execution_count": 57,
   "metadata": {},
   "outputs": [
    {
     "name": "stdout",
     "output_type": "stream",
     "text": [
      "Best Parameters: {'C': 10, 'gamma': 'scale', 'kernel': 'rbf'}\n",
      "Cross Validation Scores: [0.85971223 0.87364621 0.81588448 0.84115523 0.84115523]\n",
      "Mean Cross Validation Score: 0.8463106770900968\n",
      "Training Set Scores in Each Fold:\n",
      "[0.84397431 0.64033051 0.7613637  0.72997838 0.84397431 0.63708402\n",
      " 0.76064217 0.72763279 0.85876355 0.80447601 0.86363491 0.77507023\n",
      " 0.85876355 0.79726133 0.86363491 0.7748894  0.86146983 0.91053214\n",
      " 0.92478295 0.72600841 0.86146983 0.90872855 0.92442227 0.72185938]\n",
      "validation Set Score: 0.841991341991342\n",
      "Confusion Matrix:\n",
      "[[250  17   3]\n",
      " [ 21  53  10]\n",
      " [  3  19  86]]\n",
      "F1 Score: 0.8427902667384212\n",
      "Accuracy Score: 0.841991341991342\n",
      "Classification Report:\n",
      "              precision    recall  f1-score   support\n",
      "\n",
      "           1       0.91      0.93      0.92       270\n",
      "           2       0.60      0.63      0.61        84\n",
      "           3       0.87      0.80      0.83       108\n",
      "\n",
      "    accuracy                           0.84       462\n",
      "   macro avg       0.79      0.78      0.79       462\n",
      "weighted avg       0.84      0.84      0.84       462\n",
      "\n"
     ]
    }
   ],
   "source": [
    "svc = SVC()\n",
    "\n",
    "param_grid = {'C': [0.1, 1, 10], 'kernel': ['linear', 'poly', 'rbf', 'sigmoid'], 'gamma': ['scale', 'auto']}\n",
    "\n",
    "trainer = ModelTrainer(svc,param_grid)\n",
    "\n",
    "acc = trainer.train(X_train, y_train, X_val, y_val)\n",
    "\n",
    "model_acc.append(acc)\n",
    "model_name.append(\"SVC\")"
   ]
  },
  {
   "cell_type": "markdown",
   "metadata": {},
   "source": [
    "## Random Forest"
   ]
  },
  {
   "cell_type": "code",
   "execution_count": 58,
   "metadata": {},
   "outputs": [
    {
     "name": "stdout",
     "output_type": "stream",
     "text": [
      "Best Parameters: {'max_depth': None, 'min_samples_leaf': 1, 'min_samples_split': 2, 'n_estimators': 100}\n",
      "Cross Validation Scores: [0.90647482 0.85920578 0.86642599 0.87364621 0.8700361 ]\n",
      "Mean Cross Validation Score: 0.8751577799132535\n",
      "Training Set Scores in Each Fold:\n",
      "[1.         1.         1.         0.9814208  0.98214282 0.98123981\n",
      " 0.95093801 0.95238091 0.95165987 0.96103931 0.96176003 0.96139935\n",
      " 0.95761118 0.95833287 0.95707064 0.93704902 0.93885294 0.93849258\n",
      " 0.91991273 0.91991338 0.9206341  0.91901069 0.91955285 0.91919201\n",
      " 0.91504331 0.91468198 0.91666705 0.86994951 0.87265449 0.87590179\n",
      " 0.8681456  0.8742779  0.87355718 0.87012936 0.87229283 0.8695885\n",
      " 0.86724405 0.869227   0.87301615 0.86742211 0.87030873 0.87067137\n",
      " 0.86850482 0.87048956 0.87175229 0.86399592 0.86616313 0.86796493\n",
      " 0.86002822 0.86183279 0.8652593  0.86039037 0.86778475 0.86399609\n",
      " 0.96789347 0.96843401 0.96789299 0.95039666 0.95328279 0.95364364\n",
      " 0.93506444 0.93849176 0.93560595 0.94300163 0.94336215 0.94444405\n",
      " 0.93939348 0.94155742 0.94083687 0.9256845  0.92568516 0.92424241\n",
      " 0.91161631 0.91341941 0.91359943 0.91269755 0.91414144 0.91378091\n",
      " 0.91233703 0.9123372  0.9125177 ]\n",
      "validation Set Score: 0.8831168831168831\n",
      "Confusion Matrix:\n",
      "[[258   9   3]\n",
      " [ 21  55   8]\n",
      " [  3  10  95]]\n",
      "F1 Score: 0.8804332629293153\n",
      "Accuracy Score: 0.8831168831168831\n",
      "Classification Report:\n",
      "              precision    recall  f1-score   support\n",
      "\n",
      "           1       0.91      0.96      0.93       270\n",
      "           2       0.74      0.65      0.70        84\n",
      "           3       0.90      0.88      0.89       108\n",
      "\n",
      "    accuracy                           0.88       462\n",
      "   macro avg       0.85      0.83      0.84       462\n",
      "weighted avg       0.88      0.88      0.88       462\n",
      "\n"
     ]
    }
   ],
   "source": [
    "rf = RandomForestClassifier()\n",
    "\n",
    "param_grid = {\n",
    "    'n_estimators': [100, 200, 300],\n",
    "    'max_depth': [None, 5, 10],\n",
    "    'min_samples_split': [2, 5, 10],\n",
    "    'min_samples_leaf': [1, 2, 4]\n",
    "}\n",
    "\n",
    "trainer = ModelTrainer(rf,param_grid)\n",
    "acc = trainer.train(X_train, y_train, X_val, y_val)\n",
    "\n",
    "model_acc.append(acc)\n",
    "model_name.append(\"RF\")"
   ]
  },
  {
   "cell_type": "code",
   "execution_count": 59,
   "metadata": {},
   "outputs": [
    {
     "data": {
      "text/plain": [
       "[<matplotlib.lines.Line2D at 0x24450af44d0>]"
      ]
     },
     "execution_count": 59,
     "metadata": {},
     "output_type": "execute_result"
    },
    {
     "data": {
      "image/png": "[encoded data removed]",
      "text/plain": [
       "<Figure size 2000x1000 with 1 Axes>"
      ]
     },
     "metadata": {},
     "output_type": "display_data"
    }
   ],
   "source": [
    "ax = plt.subplots(figsize=(20,10))\n",
    "ax = plt.plot(model_name , model_acc)\n",
    "ax"
   ]
  },
  {
   "cell_type": "markdown",
   "metadata": {},
   "source": [
    "## more detailed search in Random Forest Hyper parameters"
   ]
  },
  {
   "cell_type": "code",
   "execution_count": 60,
   "metadata": {},
   "outputs": [],
   "source": [
    "#Number of trees\n",
    "n_estimator = [int(x) for x in np.linspace(start = 10 ,stop = 80, num = 10)]\n",
    "#Number of features to consider at every split\n",
    "max_features = ['log2' , 'sqrt']\n",
    "#Maximum samples required\n",
    "max_depth =  [int(x) for x in np.linspace(start = 10 ,stop = 100, num = 5)]\n",
    "#Minimum samples required to split the node\n",
    "min_samples_split = [int(x) for x in np.linspace(start = 5 ,stop = 60, num = 5)]\n",
    "#Minimum number of samples required at each leaf\n",
    "min_samples_leaf = [int(x) for x in np.linspace(start = 1 ,stop = 10, num = 2)]\n",
    "#Method of selecting samples for training each tree\n",
    "bootstrap = [True , False]"
   ]
  },
  {
   "cell_type": "code",
   "execution_count": 61,
   "metadata": {},
   "outputs": [],
   "source": [
    "#creating the param grid\n",
    "param_grid = {\n",
    "    'n_estimators': n_estimator,\n",
    "    'max_features': max_features,\n",
    "    'max_depth': max_depth,\n",
    "    'min_samples_split': min_samples_split,\n",
    "    'min_samples_leaf': min_samples_leaf,\n",
    "    'bootstrap':bootstrap\n",
    "}"
   ]
  },
  {
   "cell_type": "code",
   "execution_count": 62,
   "metadata": {},
   "outputs": [
    {
     "name": "stdout",
     "output_type": "stream",
     "text": [
      "Best Parameters: {'bootstrap': False, 'max_depth': 77, 'max_features': 'log2', 'min_samples_leaf': 1, 'min_samples_split': 5, 'n_estimators': 48}\n",
      "Cross Validation Scores: [0.89568345 0.86642599 0.85198556 0.86281588 0.87364621]\n",
      "Mean Cross Validation Score: 0.8701114198893594\n",
      "Training Set Scores in Each Fold:\n",
      "[0.93326101 0.93903377 0.93957496 ... 0.87066958 0.87175229 0.87084911]\n",
      "validation Set Score: 0.8831168831168831\n",
      "Confusion Matrix:\n",
      "[[259   8   3]\n",
      " [ 21  56   7]\n",
      " [  4  11  93]]\n",
      "F1 Score: 0.8805811178271826\n",
      "Accuracy Score: 0.8831168831168831\n",
      "Classification Report:\n",
      "              precision    recall  f1-score   support\n",
      "\n",
      "           1       0.91      0.96      0.94       270\n",
      "           2       0.75      0.67      0.70        84\n",
      "           3       0.90      0.86      0.88       108\n",
      "\n",
      "    accuracy                           0.88       462\n",
      "   macro avg       0.85      0.83      0.84       462\n",
      "weighted avg       0.88      0.88      0.88       462\n",
      "\n"
     ]
    }
   ],
   "source": [
    "rf_Model2 = RandomForestClassifier()\n",
    "\n",
    "trainer = ModelTrainer(rf_Model2,param_grid)\n",
    "\n",
    "acc = trainer.train(X_train, y_train, X_val, y_val)\n",
    "\n",
    "model_acc.append(acc)\n",
    "model_name.append(\"RF_tuned\")"
   ]
  },
  {
   "cell_type": "markdown",
   "metadata": {},
   "source": [
    "## Choosing the best model"
   ]
  },
  {
   "cell_type": "code",
   "execution_count": 63,
   "metadata": {},
   "outputs": [
    {
     "data": {
      "text/plain": [
       "[<matplotlib.lines.Line2D at 0x24450b229d0>]"
      ]
     },
     "execution_count": 63,
     "metadata": {},
     "output_type": "execute_result"
    },
    {
     "data": {
      "image/png": "[encoded data removed]",
      "text/plain": [
       "<Figure size 2000x1000 with 1 Axes>"
      ]
     },
     "metadata": {},
     "output_type": "display_data"
    }
   ],
   "source": [
    "ax = plt.subplots(figsize=(20,10))\n",
    "ax = plt.plot(model_name , model_acc)\n",
    "ax"
   ]
  },
  {
   "cell_type": "code",
   "execution_count": 64,
   "metadata": {},
   "outputs": [
    {
     "name": "stdout",
     "output_type": "stream",
     "text": [
      "Best Parameters: {'bootstrap': False, 'max_depth': 32, 'max_features': 'log2', 'min_samples_leaf': 1, 'min_samples_split': 5, 'n_estimators': 41}\n",
      "Cross Validation Scores: [0.89568345 0.86642599 0.85198556 0.8700361  0.89169675]\n",
      "Mean Cross Validation Score: 0.875165571513908\n",
      "Training Set Scores in Each Fold:\n",
      "[0.93650702 0.94336232 0.94137708 ... 0.86994853 0.87085057 0.87337602]\n",
      "validation Set Score: 0.8868501529051988\n",
      "Confusion Matrix:\n",
      "[[171   6   0]\n",
      " [ 13  50   8]\n",
      " [  2   8  69]]\n",
      "F1 Score: 0.8845184665312549\n",
      "Accuracy Score: 0.8868501529051988\n",
      "Classification Report:\n",
      "              precision    recall  f1-score   support\n",
      "\n",
      "           1       0.92      0.97      0.94       177\n",
      "           2       0.78      0.70      0.74        71\n",
      "           3       0.90      0.87      0.88        79\n",
      "\n",
      "    accuracy                           0.89       327\n",
      "   macro avg       0.87      0.85      0.86       327\n",
      "weighted avg       0.88      0.89      0.88       327\n",
      "\n"
     ]
    }
   ],
   "source": [
    "rf_Model2 = RandomForestClassifier()\n",
    "\n",
    "trainer = ModelTrainer(rf_Model2,param_grid)\n",
    "\n",
    "acc = trainer.train(X_train, y_train, X_test, y_test)\n",
    "\n",
    "model_acc.append(acc)\n",
    "model_name.append(\"RF_tuned\")"
   ]
  }
 ],
 "metadata": {
  "kernelspec": {
   "display_name": "Python 3 (ipykernel)",
   "language": "python",
   "name": "python3"
  },
  "language_info": {
   "codemirror_mode": {
    "name": "ipython",
    "version": 3
   },
   "file_extension": ".py",
   "mimetype": "text/x-python",
   "name": "python",
   "nbconvert_exporter": "python",
   "pygments_lexer": "ipython3",
   "version": "3.11.4"
  }
 },
 "nbformat": 4,
 "nbformat_minor": 2
}
