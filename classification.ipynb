{
 "cells": [
  {
   "cell_type": "code",
   "execution_count": 56,
   "metadata": {},
   "outputs": [],
   "source": [
    "import pandas as pd\n",
    "import numpy as np\n",
    "import seaborn as sns \n",
    "import matplotlib.pyplot as plt\n",
    "from sklearn.preprocessing import StandardScaler , Normalizer , MaxAbsScaler\n",
    "from sklearn.preprocessing import LabelEncoder\n",
    "from sklearn.model_selection import train_test_split, GridSearchCV, cross_val_score\n",
    "from sklearn.neighbors import KNeighborsClassifier\n",
    "from sklearn.linear_model import LogisticRegression\n",
    "from sklearn.tree import DecisionTreeClassifier\n",
    "from sklearn.svm import SVC\n",
    "from sklearn.linear_model import LinearRegression\n",
    "from sklearn.ensemble import RandomForestClassifier\n",
    "from sklearn.naive_bayes import BernoulliNB , GaussianNB , MultinomialNB\n",
    "from sklearn.metrics import confusion_matrix , f1_score , accuracy_score , classification_report\n",
    "from sklearn.preprocessing import Binarizer"
   ]
  },
  {
   "cell_type": "code",
   "execution_count": 57,
   "metadata": {},
   "outputs": [],
   "source": [
    "df = pd.read_csv(\"data.csv\")"
   ]
  },
  {
   "cell_type": "code",
   "execution_count": 58,
   "metadata": {},
   "outputs": [
    {
     "data": {
      "text/plain": [
       "Index(['Unnamed: 0', 'name', 'brand', '2G', '3G', '4G', '5G', 'Announced',\n",
       "       'Status', 'Weight', 'Length', 'Width', 'Diameter', 'SIM',\n",
       "       'Display Type', 'Display Size', 'ppi', 'body ratio', 'OS',\n",
       "       'battery_capacity', 'Price', 'CPU', 'ratio', 'pixel', 'WLAN', 'Colors',\n",
       "       'Sensors', 'Bluetooth', 'GPU', 'Loudspeaker', '3.5mm jack', 'Chipset',\n",
       "       'Network', 'Internal', 'Card slot', 'RAM', 'Storage'],\n",
       "      dtype='object')"
      ]
     },
     "execution_count": 58,
     "metadata": {},
     "output_type": "execute_result"
    }
   ],
   "source": [
    "df.columns"
   ]
  },
  {
   "cell_type": "markdown",
   "metadata": {},
   "source": [
    "## Data Exploration"
   ]
  },
  {
   "cell_type": "code",
   "execution_count": 59,
   "metadata": {},
   "outputs": [
    {
     "data": {
      "text/plain": [
       "OS\n",
       "Android 10       251\n",
       "Android 9.0      188\n",
       "Android 11       185\n",
       "Android 4.4.2    175\n",
       "Android 12       124\n",
       "                ... \n",
       "Android 2.4        1\n",
       "KaiOS 3.0          1\n",
       "Mobile 6.5.3       1\n",
       "HarmonyOS 3.1      1\n",
       "Android 2.2.2      1\n",
       "Name: count, Length: 119, dtype: int64"
      ]
     },
     "execution_count": 59,
     "metadata": {},
     "output_type": "execute_result"
    }
   ],
   "source": [
    "df['OS'].value_counts()"
   ]
  },
  {
   "cell_type": "code",
   "execution_count": 60,
   "metadata": {},
   "outputs": [],
   "source": [
    "import re\n",
    "df['OS_name']=df['OS'].str.extract(r\"\\b(\\w+)\\s+\\d+\")"
   ]
  },
  {
   "cell_type": "code",
   "execution_count": 61,
   "metadata": {},
   "outputs": [],
   "source": [
    "df2 = df['OS_name'].groupby(df['OS_name']).count()"
   ]
  },
  {
   "cell_type": "code",
   "execution_count": 62,
   "metadata": {},
   "outputs": [
    {
     "data": {
      "text/plain": [
       "OS_name\n",
       "Android      2445\n",
       "EMUI            5\n",
       "Firefox         1\n",
       "HarmonyOS      21\n",
       "KaiOS           6\n",
       "Linux           1\n",
       "MeeGo           1\n",
       "Mobile          1\n",
       "OS              5\n",
       "Phone          64\n",
       "Symbian        10\n",
       "Tizen           3\n",
       "Windows         1\n",
       "iOS            60\n",
       "iPadOS          5\n",
       "platform        5\n",
       "Name: OS_name, dtype: int64"
      ]
     },
     "execution_count": 62,
     "metadata": {},
     "output_type": "execute_result"
    }
   ],
   "source": [
    "df['OS_name'].groupby(df['OS_name']).count()"
   ]
  },
  {
   "cell_type": "code",
   "execution_count": 63,
   "metadata": {},
   "outputs": [],
   "source": [
    "df.loc[df['OS_name']=='Phone', 'OS_name'] = 'Windows'\n",
    "df.loc[df['OS_name']=='Mobile', 'OS_name'] = 'Windows'\n",
    "df.loc[df['OS_name']=='platform', 'OS_name'] = 'Nokia'\n",
    "df.loc[74, 'OS_name'] = 'Firefox'\n",
    "df.loc[75, 'OS_name'] = 'Firefox'\n",
    "df.loc[93, 'OS_name'] = 'Firefox'\n",
    "df.loc[1807, 'OS_name'] = 'Firefox'\n",
    "df.loc[2598, 'OS_name'] = 'Android'"
   ]
  },
  {
   "cell_type": "code",
   "execution_count": 64,
   "metadata": {},
   "outputs": [
    {
     "data": {
      "text/plain": [
       "OS_name\n",
       "Android      2446\n",
       "EMUI            5\n",
       "Firefox         5\n",
       "HarmonyOS      21\n",
       "KaiOS           6\n",
       "Linux           1\n",
       "MeeGo           1\n",
       "Nokia           5\n",
       "Symbian        10\n",
       "Tizen           3\n",
       "Windows        66\n",
       "iOS            60\n",
       "iPadOS          5\n",
       "Name: OS_name, dtype: int64"
      ]
     },
     "execution_count": 64,
     "metadata": {},
     "output_type": "execute_result"
    }
   ],
   "source": [
    "df['OS_name'].groupby(df['OS_name']).count()"
   ]
  },
  {
   "cell_type": "code",
   "execution_count": 65,
   "metadata": {},
   "outputs": [],
   "source": [
    "mode_values = ['Firefox' ,'Linux' ,'MeeGo','Tizen',] \n",
    "df['OS_name'] = df['OS_name'].apply(lambda x: 'Others' if x in mode_values else x)"
   ]
  },
  {
   "cell_type": "code",
   "execution_count": 66,
   "metadata": {},
   "outputs": [
    {
     "data": {
      "text/plain": [
       "OS_name\n",
       "Android      2446\n",
       "EMUI            5\n",
       "HarmonyOS      21\n",
       "KaiOS           6\n",
       "Nokia           5\n",
       "Others         10\n",
       "Symbian        10\n",
       "Windows        66\n",
       "iOS            60\n",
       "iPadOS          5\n",
       "Name: OS_name, dtype: int64"
      ]
     },
     "execution_count": 66,
     "metadata": {},
     "output_type": "execute_result"
    }
   ],
   "source": [
    "df['OS_name'].groupby(df['OS_name']).count()"
   ]
  },
  {
   "cell_type": "code",
   "execution_count": 67,
   "metadata": {},
   "outputs": [],
   "source": [
    "df = df.dropna()"
   ]
  },
  {
   "cell_type": "code",
   "execution_count": 68,
   "metadata": {},
   "outputs": [],
   "source": [
    "df['Chipset']=df['Chipset'].apply(lambda x:x.split()[0])"
   ]
  },
  {
   "cell_type": "code",
   "execution_count": 69,
   "metadata": {},
   "outputs": [],
   "source": [
    "df['Chipset'] = df['Chipset'].str.lower()"
   ]
  },
  {
   "cell_type": "code",
   "execution_count": 70,
   "metadata": {},
   "outputs": [],
   "source": [
    "SIM=pd.get_dummies(df['SIM'],prefix='SIM')\n",
    "brand=pd.get_dummies(df['brand'],prefix='brand')\n",
    "Status=pd.get_dummies(df['Status'],prefix='Status')"
   ]
  },
  {
   "cell_type": "code",
   "execution_count": 71,
   "metadata": {},
   "outputs": [],
   "source": [
    "df=pd.concat([df,SIM,brand,Status],axis=1).drop(['SIM','brand','Status'],axis=1)"
   ]
  },
  {
   "cell_type": "code",
   "execution_count": 72,
   "metadata": {},
   "outputs": [
    {
     "data": {
      "text/html": [
       "<div>\n",
       "<style scoped>\n",
       "    .dataframe tbody tr th:only-of-type {\n",
       "        vertical-align: middle;\n",
       "    }\n",
       "\n",
       "    .dataframe tbody tr th {\n",
       "        vertical-align: top;\n",
       "    }\n",
       "\n",
       "    .dataframe thead th {\n",
       "        text-align: right;\n",
       "    }\n",
       "</style>\n",
       "<table border=\"1\" class=\"dataframe\">\n",
       "  <thead>\n",
       "    <tr style=\"text-align: right;\">\n",
       "      <th></th>\n",
       "      <th>Display Size</th>\n",
       "      <th>ppi</th>\n",
       "      <th>body ratio</th>\n",
       "      <th>pixel</th>\n",
       "    </tr>\n",
       "  </thead>\n",
       "  <tbody>\n",
       "    <tr>\n",
       "      <th>Display Size</th>\n",
       "      <td>1.000000</td>\n",
       "      <td>-0.061405</td>\n",
       "      <td>0.498759</td>\n",
       "      <td>0.517045</td>\n",
       "    </tr>\n",
       "    <tr>\n",
       "      <th>ppi</th>\n",
       "      <td>-0.061405</td>\n",
       "      <td>1.000000</td>\n",
       "      <td>0.469794</td>\n",
       "      <td>0.778518</td>\n",
       "    </tr>\n",
       "    <tr>\n",
       "      <th>body ratio</th>\n",
       "      <td>0.498759</td>\n",
       "      <td>0.469794</td>\n",
       "      <td>1.000000</td>\n",
       "      <td>0.622259</td>\n",
       "    </tr>\n",
       "    <tr>\n",
       "      <th>pixel</th>\n",
       "      <td>0.517045</td>\n",
       "      <td>0.778518</td>\n",
       "      <td>0.622259</td>\n",
       "      <td>1.000000</td>\n",
       "    </tr>\n",
       "  </tbody>\n",
       "</table>\n",
       "</div>"
      ],
      "text/plain": [
       "              Display Size       ppi  body ratio     pixel\n",
       "Display Size      1.000000 -0.061405    0.498759  0.517045\n",
       "ppi              -0.061405  1.000000    0.469794  0.778518\n",
       "body ratio        0.498759  0.469794    1.000000  0.622259\n",
       "pixel             0.517045  0.778518    0.622259  1.000000"
      ]
     },
     "execution_count": 72,
     "metadata": {},
     "output_type": "execute_result"
    }
   ],
   "source": [
    "df[['Display Size', 'ppi','body ratio','pixel']].corr()"
   ]
  },
  {
   "cell_type": "code",
   "execution_count": 73,
   "metadata": {},
   "outputs": [],
   "source": [
    "X=df.drop(['Unnamed: 0', 'name','Weight','OS',\n",
    "           'Length', 'Width', 'Diameter', \n",
    "           'Display Type','ratio','WLAN', \n",
    "           'Colors', 'Sensors', 'Bluetooth', \n",
    "           'GPU','Chipset', 'Network', 'Internal',\n",
    "           'Card slot','OS_name','pixel'],axis=1)\n",
    "y = df['OS_name']"
   ]
  },
  {
   "cell_type": "code",
   "execution_count": 74,
   "metadata": {},
   "outputs": [
    {
     "data": {
      "text/plain": [
       "Index(['2G', '3G', '4G', '5G', 'Announced', 'Display Size', 'ppi',\n",
       "       'body ratio', 'battery_capacity', 'Price', 'CPU', 'Loudspeaker',\n",
       "       '3.5mm jack', 'RAM', 'Storage', 'SIM_Micro-SIM', 'SIM_Mini-SIM',\n",
       "       'SIM_Nano-SIM', 'SIM_eSIM', 'brand_alcatel', 'brand_apple',\n",
       "       'brand_asus', 'brand_blu', 'brand_htc', 'brand_huawei', 'brand_infinix',\n",
       "       'brand_lenovo', 'brand_lg', 'brand_nokia', 'brand_samsung',\n",
       "       'brand_sony', 'brand_xiaomi', 'brand_zte', 'Status_Available',\n",
       "       'Status_Coming', 'Status_Discontinued'],\n",
       "      dtype='object')"
      ]
     },
     "execution_count": 74,
     "metadata": {},
     "output_type": "execute_result"
    }
   ],
   "source": [
    "X.columns"
   ]
  },
  {
   "cell_type": "code",
   "execution_count": 75,
   "metadata": {},
   "outputs": [
    {
     "data": {
      "text/plain": [
       "OS_name\n",
       "Android      2050\n",
       "iOS            57\n",
       "Windows        35\n",
       "HarmonyOS      19\n",
       "Others          5\n",
       "iPadOS          5\n",
       "EMUI            4\n",
       "Name: count, dtype: int64"
      ]
     },
     "execution_count": 75,
     "metadata": {},
     "output_type": "execute_result"
    }
   ],
   "source": [
    "y.value_counts()"
   ]
  },
  {
   "cell_type": "markdown",
   "metadata": {},
   "source": [
    "## Building a class for model evaluation"
   ]
  },
  {
   "cell_type": "code",
   "execution_count": 76,
   "metadata": {},
   "outputs": [],
   "source": [
    "class ModelTrainer:\n",
    "    def __init__(self, model, param_grid=None):\n",
    "        self.model = model\n",
    "        self.param_grid = param_grid\n",
    "\n",
    "    def train(self, X_train, y_train, X_val, y_val):\n",
    "        \n",
    "        if self.param_grid is None:\n",
    "            grid_search = self.model\n",
    "        else:\n",
    "            grid_search = GridSearchCV(self.model, self.param_grid, cv=5, return_train_score=True)\n",
    "        grid_search.fit(X_train, y_train)\n",
    "        \n",
    "        \n",
    "        if self.param_grid is not None:\n",
    "            print(\"Best Parameters:\", grid_search.best_params_)\n",
    "\n",
    "            best_model = grid_search.best_estimator_\n",
    "            cv_scores = cross_val_score(best_model, X_train, y_train, cv=5)\n",
    "            print(\"Cross Validation Scores:\", cv_scores)\n",
    "            print(\"Mean Cross Validation Score:\", cv_scores.mean())\n",
    "\n",
    "            train_scores = grid_search.cv_results_['mean_train_score']\n",
    "            print(\"Training Set Scores in Each Fold:\")\n",
    "            print(train_scores)\n",
    "            \n",
    "            \n",
    "        validation_set_score = grid_search.score(X_val, y_val)\n",
    "        print(\"validation Set Score:\", validation_set_score)\n",
    "\n",
    "        y_pred = grid_search.predict(X_val)\n",
    "        cm = confusion_matrix(y_val , y_pred)\n",
    "        print(\"Confusion Matrix:\")\n",
    "        print(cm)\n",
    "        print(\"F1 Score:\", f1_score(y_val , y_pred ,average='weighted'))\n",
    "        print(\"Accuracy Score:\", accuracy_score(y_val , y_pred))\n",
    "        print(\"Classification Report:\")\n",
    "        print(classification_report(y_val , y_pred))\n",
    "        return accuracy_score(y_val , y_pred)\n"
   ]
  },
  {
   "cell_type": "markdown",
   "metadata": {},
   "source": [
    "## Splitting Data"
   ]
  },
  {
   "cell_type": "code",
   "execution_count": 77,
   "metadata": {},
   "outputs": [],
   "source": [
    "X_train_val, X_test, y_train_val, y_test = train_test_split(X, y, test_size=0.15, random_state=42)\n",
    "\n",
    "X_train, X_val, y_train, y_val = train_test_split(X_train_val, y_train_val, test_size=0.25, random_state=42)"
   ]
  },
  {
   "cell_type": "markdown",
   "metadata": {},
   "source": [
    "## Scaling Data"
   ]
  },
  {
   "cell_type": "code",
   "execution_count": 78,
   "metadata": {},
   "outputs": [],
   "source": [
    "scaler = StandardScaler()\n",
    "X_train= scaler.fit_transform(X_train)\n",
    "X_test= scaler.transform(X_test)\n",
    "X_val= scaler.transform(X_val)"
   ]
  },
  {
   "cell_type": "markdown",
   "metadata": {},
   "source": [
    "## KNN"
   ]
  },
  {
   "cell_type": "code",
   "execution_count": 79,
   "metadata": {},
   "outputs": [],
   "source": [
    "model_name = []\n",
    "model_acc = []"
   ]
  },
  {
   "cell_type": "code",
   "execution_count": 80,
   "metadata": {},
   "outputs": [
    {
     "name": "stderr",
     "output_type": "stream",
     "text": [
      "c:\\Users\\Nathan\\AppData\\Local\\Programs\\Python\\Python311\\Lib\\site-packages\\sklearn\\model_selection\\_split.py:737: UserWarning: The least populated class in y has only 2 members, which is less than n_splits=5.\n",
      "  warnings.warn(\n"
     ]
    },
    {
     "name": "stdout",
     "output_type": "stream",
     "text": [
      "Best Parameters: {'n_neighbors': 10, 'weights': 'distance'}\n",
      "Cross Validation Scores: [0.97841727 0.97472924 0.98194946 0.97833935 0.98194946]\n",
      "Mean Cross Validation Score: 0.9790769550424642\n",
      "Training Set Scores in Each Fold:\n",
      "[0.98412692 1.         0.98051974 1.         0.97853532 1.\n",
      " 0.9761907  1.         0.97150098 1.        ]\n",
      "validation Set Score: 0.9891774891774892\n",
      "Confusion Matrix:\n",
      "[[437   0   0   0   0   0]\n",
      " [  2   0   0   0   0   0]\n",
      " [  1   0   0   0   0   0]\n",
      " [  2   0   0   9   0   0]\n",
      " [  0   0   0   0  10   0]\n",
      " [  0   0   0   0   0   1]]\n",
      "F1 Score: 0.9857450664617899\n",
      "Accuracy Score: 0.9891774891774892\n",
      "Classification Report:\n",
      "              precision    recall  f1-score   support\n",
      "\n",
      "     Android       0.99      1.00      0.99       437\n",
      "        EMUI       0.00      0.00      0.00         2\n",
      "      Others       0.00      0.00      0.00         1\n",
      "     Windows       1.00      0.82      0.90        11\n",
      "         iOS       1.00      1.00      1.00        10\n",
      "      iPadOS       1.00      1.00      1.00         1\n",
      "\n",
      "    accuracy                           0.99       462\n",
      "   macro avg       0.66      0.64      0.65       462\n",
      "weighted avg       0.98      0.99      0.99       462\n",
      "\n"
     ]
    },
    {
     "name": "stderr",
     "output_type": "stream",
     "text": [
      "c:\\Users\\Nathan\\AppData\\Local\\Programs\\Python\\Python311\\Lib\\site-packages\\sklearn\\model_selection\\_split.py:737: UserWarning: The least populated class in y has only 2 members, which is less than n_splits=5.\n",
      "  warnings.warn(\n",
      "c:\\Users\\Nathan\\AppData\\Local\\Programs\\Python\\Python311\\Lib\\site-packages\\sklearn\\metrics\\_classification.py:1509: UndefinedMetricWarning: Precision is ill-defined and being set to 0.0 in labels with no predicted samples. Use `zero_division` parameter to control this behavior.\n",
      "  _warn_prf(average, modifier, f\"{metric.capitalize()} is\", len(result))\n",
      "c:\\Users\\Nathan\\AppData\\Local\\Programs\\Python\\Python311\\Lib\\site-packages\\sklearn\\metrics\\_classification.py:1509: UndefinedMetricWarning: Precision is ill-defined and being set to 0.0 in labels with no predicted samples. Use `zero_division` parameter to control this behavior.\n",
      "  _warn_prf(average, modifier, f\"{metric.capitalize()} is\", len(result))\n",
      "c:\\Users\\Nathan\\AppData\\Local\\Programs\\Python\\Python311\\Lib\\site-packages\\sklearn\\metrics\\_classification.py:1509: UndefinedMetricWarning: Precision is ill-defined and being set to 0.0 in labels with no predicted samples. Use `zero_division` parameter to control this behavior.\n",
      "  _warn_prf(average, modifier, f\"{metric.capitalize()} is\", len(result))\n"
     ]
    }
   ],
   "source": [
    "knn = KNeighborsClassifier()\n",
    "param_grid = {'n_neighbors': [3, 5, 7,10,20], 'weights': ['uniform', 'distance']}\n",
    "\n",
    "trainer = ModelTrainer(knn, param_grid)\n",
    "\n",
    "acc = trainer.train(X_train, y_train, X_val, y_val)\n",
    "\n",
    "model_name.append(\"KNN\")\n",
    "model_acc.append(acc)"
   ]
  },
  {
   "cell_type": "markdown",
   "metadata": {},
   "source": [
    "## LogReg"
   ]
  },
  {
   "cell_type": "code",
   "execution_count": 81,
   "metadata": {},
   "outputs": [
    {
     "name": "stdout",
     "output_type": "stream",
     "text": [
      "validation Set Score: 0.9826839826839827\n",
      "Confusion Matrix:\n",
      "[[435   0   2   0   0   0   0]\n",
      " [  2   0   0   0   0   0   0]\n",
      " [  0   0   0   0   0   0   0]\n",
      " [  1   0   0   0   0   0   0]\n",
      " [  2   0   0   0   9   0   0]\n",
      " [  0   0   0   0   0   9   1]\n",
      " [  0   0   0   0   0   0   1]]\n",
      "F1 Score: 0.9817149859549186\n",
      "Accuracy Score: 0.9826839826839827\n",
      "Classification Report:\n",
      "              precision    recall  f1-score   support\n",
      "\n",
      "     Android       0.99      1.00      0.99       437\n",
      "        EMUI       0.00      0.00      0.00         2\n",
      "   HarmonyOS       0.00      0.00      0.00         0\n",
      "      Others       0.00      0.00      0.00         1\n",
      "     Windows       1.00      0.82      0.90        11\n",
      "         iOS       1.00      0.90      0.95        10\n",
      "      iPadOS       0.50      1.00      0.67         1\n",
      "\n",
      "    accuracy                           0.98       462\n",
      "   macro avg       0.50      0.53      0.50       462\n",
      "weighted avg       0.98      0.98      0.98       462\n",
      "\n"
     ]
    },
    {
     "name": "stderr",
     "output_type": "stream",
     "text": [
      "c:\\Users\\Nathan\\AppData\\Local\\Programs\\Python\\Python311\\Lib\\site-packages\\sklearn\\metrics\\_classification.py:1509: UndefinedMetricWarning: Precision is ill-defined and being set to 0.0 in labels with no predicted samples. Use `zero_division` parameter to control this behavior.\n",
      "  _warn_prf(average, modifier, f\"{metric.capitalize()} is\", len(result))\n",
      "c:\\Users\\Nathan\\AppData\\Local\\Programs\\Python\\Python311\\Lib\\site-packages\\sklearn\\metrics\\_classification.py:1509: UndefinedMetricWarning: Recall is ill-defined and being set to 0.0 in labels with no true samples. Use `zero_division` parameter to control this behavior.\n",
      "  _warn_prf(average, modifier, f\"{metric.capitalize()} is\", len(result))\n",
      "c:\\Users\\Nathan\\AppData\\Local\\Programs\\Python\\Python311\\Lib\\site-packages\\sklearn\\metrics\\_classification.py:1509: UndefinedMetricWarning: Precision is ill-defined and being set to 0.0 in labels with no predicted samples. Use `zero_division` parameter to control this behavior.\n",
      "  _warn_prf(average, modifier, f\"{metric.capitalize()} is\", len(result))\n",
      "c:\\Users\\Nathan\\AppData\\Local\\Programs\\Python\\Python311\\Lib\\site-packages\\sklearn\\metrics\\_classification.py:1509: UndefinedMetricWarning: Recall is ill-defined and being set to 0.0 in labels with no true samples. Use `zero_division` parameter to control this behavior.\n",
      "  _warn_prf(average, modifier, f\"{metric.capitalize()} is\", len(result))\n",
      "c:\\Users\\Nathan\\AppData\\Local\\Programs\\Python\\Python311\\Lib\\site-packages\\sklearn\\metrics\\_classification.py:1509: UndefinedMetricWarning: Precision is ill-defined and being set to 0.0 in labels with no predicted samples. Use `zero_division` parameter to control this behavior.\n",
      "  _warn_prf(average, modifier, f\"{metric.capitalize()} is\", len(result))\n",
      "c:\\Users\\Nathan\\AppData\\Local\\Programs\\Python\\Python311\\Lib\\site-packages\\sklearn\\metrics\\_classification.py:1509: UndefinedMetricWarning: Recall is ill-defined and being set to 0.0 in labels with no true samples. Use `zero_division` parameter to control this behavior.\n",
      "  _warn_prf(average, modifier, f\"{metric.capitalize()} is\", len(result))\n"
     ]
    }
   ],
   "source": [
    "LogReg = LogisticRegression()\n",
    "\n",
    "trainer = ModelTrainer(LogReg)\n",
    "\n",
    "acc = trainer.train(X_train, y_train, X_val, y_val)\n",
    "\n",
    "model_acc.append(acc)\n",
    "model_name.append(\"LogReg\")"
   ]
  },
  {
   "cell_type": "markdown",
   "metadata": {},
   "source": [
    "## DTC"
   ]
  },
  {
   "cell_type": "code",
   "execution_count": 82,
   "metadata": {},
   "outputs": [
    {
     "name": "stderr",
     "output_type": "stream",
     "text": [
      "c:\\Users\\Nathan\\AppData\\Local\\Programs\\Python\\Python311\\Lib\\site-packages\\sklearn\\model_selection\\_split.py:737: UserWarning: The least populated class in y has only 2 members, which is less than n_splits=5.\n",
      "  warnings.warn(\n"
     ]
    },
    {
     "name": "stdout",
     "output_type": "stream",
     "text": [
      "Best Parameters: {'max_depth': 5, 'min_samples_leaf': 2, 'min_samples_split': 5}\n",
      "Cross Validation Scores: [0.98561151 0.98194946 0.99277978 0.97472924 0.98555957]\n",
      "Mean Cross Validation Score: 0.9841259122665766\n",
      "Training Set Scores in Each Fold:\n",
      "[1.         0.99458842 0.98989902 0.99260465 0.99188295 0.98737406\n",
      " 0.98683287 0.98683287 0.98683287 0.98069992 0.98069992 0.97871582\n",
      " 0.98015889 0.98015889 0.97835514 0.97781395 0.97781395 0.97781395\n",
      " 0.98629135 0.98538932 0.98304454 0.98863646 0.98863646 0.98683271\n",
      " 0.98629152 0.98629152 0.98629152 0.99170294 0.99062055 0.9875544\n",
      " 0.99152243 0.99098124 0.98737406 0.98683287 0.98683287 0.98683287]\n",
      "validation Set Score: 0.9805194805194806\n",
      "Confusion Matrix:\n",
      "[[435   0   2   0   0   0   0]\n",
      " [  0   0   2   0   0   0   0]\n",
      " [  0   0   0   0   0   0   0]\n",
      " [  1   0   0   0   0   0   0]\n",
      " [  3   0   0   0   8   0   0]\n",
      " [  0   0   0   0   0   9   1]\n",
      " [  0   0   0   0   0   0   1]]\n",
      "F1 Score: 0.9814077014870093\n",
      "Accuracy Score: 0.9805194805194806\n",
      "Classification Report:\n",
      "              precision    recall  f1-score   support\n",
      "\n",
      "     Android       0.99      1.00      0.99       437\n",
      "        EMUI       0.00      0.00      0.00         2\n",
      "   HarmonyOS       0.00      0.00      0.00         0\n",
      "      Others       0.00      0.00      0.00         1\n",
      "     Windows       1.00      0.73      0.84        11\n",
      "         iOS       1.00      0.90      0.95        10\n",
      "      iPadOS       0.50      1.00      0.67         1\n",
      "\n",
      "    accuracy                           0.98       462\n",
      "   macro avg       0.50      0.52      0.49       462\n",
      "weighted avg       0.98      0.98      0.98       462\n",
      "\n"
     ]
    },
    {
     "name": "stderr",
     "output_type": "stream",
     "text": [
      "c:\\Users\\Nathan\\AppData\\Local\\Programs\\Python\\Python311\\Lib\\site-packages\\sklearn\\model_selection\\_split.py:737: UserWarning: The least populated class in y has only 2 members, which is less than n_splits=5.\n",
      "  warnings.warn(\n",
      "c:\\Users\\Nathan\\AppData\\Local\\Programs\\Python\\Python311\\Lib\\site-packages\\sklearn\\metrics\\_classification.py:1509: UndefinedMetricWarning: Precision is ill-defined and being set to 0.0 in labels with no predicted samples. Use `zero_division` parameter to control this behavior.\n",
      "  _warn_prf(average, modifier, f\"{metric.capitalize()} is\", len(result))\n",
      "c:\\Users\\Nathan\\AppData\\Local\\Programs\\Python\\Python311\\Lib\\site-packages\\sklearn\\metrics\\_classification.py:1509: UndefinedMetricWarning: Recall is ill-defined and being set to 0.0 in labels with no true samples. Use `zero_division` parameter to control this behavior.\n",
      "  _warn_prf(average, modifier, f\"{metric.capitalize()} is\", len(result))\n",
      "c:\\Users\\Nathan\\AppData\\Local\\Programs\\Python\\Python311\\Lib\\site-packages\\sklearn\\metrics\\_classification.py:1509: UndefinedMetricWarning: Precision is ill-defined and being set to 0.0 in labels with no predicted samples. Use `zero_division` parameter to control this behavior.\n",
      "  _warn_prf(average, modifier, f\"{metric.capitalize()} is\", len(result))\n",
      "c:\\Users\\Nathan\\AppData\\Local\\Programs\\Python\\Python311\\Lib\\site-packages\\sklearn\\metrics\\_classification.py:1509: UndefinedMetricWarning: Recall is ill-defined and being set to 0.0 in labels with no true samples. Use `zero_division` parameter to control this behavior.\n",
      "  _warn_prf(average, modifier, f\"{metric.capitalize()} is\", len(result))\n",
      "c:\\Users\\Nathan\\AppData\\Local\\Programs\\Python\\Python311\\Lib\\site-packages\\sklearn\\metrics\\_classification.py:1509: UndefinedMetricWarning: Precision is ill-defined and being set to 0.0 in labels with no predicted samples. Use `zero_division` parameter to control this behavior.\n",
      "  _warn_prf(average, modifier, f\"{metric.capitalize()} is\", len(result))\n",
      "c:\\Users\\Nathan\\AppData\\Local\\Programs\\Python\\Python311\\Lib\\site-packages\\sklearn\\metrics\\_classification.py:1509: UndefinedMetricWarning: Recall is ill-defined and being set to 0.0 in labels with no true samples. Use `zero_division` parameter to control this behavior.\n",
      "  _warn_prf(average, modifier, f\"{metric.capitalize()} is\", len(result))\n"
     ]
    }
   ],
   "source": [
    "tree_clf = DecisionTreeClassifier()\n",
    "param_grid = {'max_depth': [None, 3, 5, 7], 'min_samples_split': [2, 5, 10], 'min_samples_leaf': [1, 2, 4]}\n",
    "\n",
    "trainer = ModelTrainer(tree_clf,param_grid)\n",
    "\n",
    "\n",
    "acc = trainer.train(X_train, y_train, X_val, y_val)\n",
    "\n",
    "model_acc.append(acc)\n",
    "model_name.append(\"DTC\")"
   ]
  },
  {
   "cell_type": "code",
   "execution_count": 83,
   "metadata": {},
   "outputs": [
    {
     "name": "stdout",
     "output_type": "stream",
     "text": [
      "validation Set Score: 0.9458874458874459\n",
      "Confusion Matrix:\n",
      "[[437   0   0   0   0   0]\n",
      " [  2   0   0   0   0   0]\n",
      " [  1   0   0   0   0   0]\n",
      " [ 11   0   0   0   0   0]\n",
      " [ 10   0   0   0   0   0]\n",
      " [  1   0   0   0   0   0]]\n",
      "F1 Score: 0.9195835680818996\n",
      "Accuracy Score: 0.9458874458874459\n",
      "Classification Report:\n",
      "              precision    recall  f1-score   support\n",
      "\n",
      "     Android       0.95      1.00      0.97       437\n",
      "        EMUI       0.00      0.00      0.00         2\n",
      "      Others       0.00      0.00      0.00         1\n",
      "     Windows       0.00      0.00      0.00        11\n",
      "         iOS       0.00      0.00      0.00        10\n",
      "      iPadOS       0.00      0.00      0.00         1\n",
      "\n",
      "    accuracy                           0.95       462\n",
      "   macro avg       0.16      0.17      0.16       462\n",
      "weighted avg       0.89      0.95      0.92       462\n",
      "\n"
     ]
    },
    {
     "name": "stderr",
     "output_type": "stream",
     "text": [
      "c:\\Users\\Nathan\\AppData\\Local\\Programs\\Python\\Python311\\Lib\\site-packages\\sklearn\\metrics\\_classification.py:1509: UndefinedMetricWarning: Precision is ill-defined and being set to 0.0 in labels with no predicted samples. Use `zero_division` parameter to control this behavior.\n",
      "  _warn_prf(average, modifier, f\"{metric.capitalize()} is\", len(result))\n",
      "c:\\Users\\Nathan\\AppData\\Local\\Programs\\Python\\Python311\\Lib\\site-packages\\sklearn\\metrics\\_classification.py:1509: UndefinedMetricWarning: Precision is ill-defined and being set to 0.0 in labels with no predicted samples. Use `zero_division` parameter to control this behavior.\n",
      "  _warn_prf(average, modifier, f\"{metric.capitalize()} is\", len(result))\n",
      "c:\\Users\\Nathan\\AppData\\Local\\Programs\\Python\\Python311\\Lib\\site-packages\\sklearn\\metrics\\_classification.py:1509: UndefinedMetricWarning: Precision is ill-defined and being set to 0.0 in labels with no predicted samples. Use `zero_division` parameter to control this behavior.\n",
      "  _warn_prf(average, modifier, f\"{metric.capitalize()} is\", len(result))\n"
     ]
    }
   ],
   "source": [
    "dtc2 = DecisionTreeClassifier(criterion= 'entropy' , ccp_alpha=0.25)\n",
    "\n",
    "trainer = ModelTrainer(dtc2)\n",
    "\n",
    "acc = trainer.train(X_train, y_train, X_val, y_val)\n",
    "\n",
    "model_acc.append(acc)\n",
    "model_name.append(\"DTC_entropy\")"
   ]
  },
  {
   "cell_type": "markdown",
   "metadata": {},
   "source": [
    "## SVC"
   ]
  },
  {
   "cell_type": "code",
   "execution_count": 84,
   "metadata": {},
   "outputs": [
    {
     "name": "stderr",
     "output_type": "stream",
     "text": [
      "c:\\Users\\Nathan\\AppData\\Local\\Programs\\Python\\Python311\\Lib\\site-packages\\sklearn\\model_selection\\_split.py:737: UserWarning: The least populated class in y has only 2 members, which is less than n_splits=5.\n",
      "  warnings.warn(\n"
     ]
    },
    {
     "name": "stdout",
     "output_type": "stream",
     "text": [
      "Best Parameters: {'C': 1, 'gamma': 'scale', 'kernel': 'linear'}\n",
      "Cross Validation Scores: [0.97482014 0.97833935 0.98916968 0.98555957 0.99277978]\n",
      "Mean Cross Validation Score: 0.9841337038672311\n",
      "Training Set Scores in Each Fold:\n",
      "[0.98665253 0.97240253 0.95797251 0.95652945 0.98665253 0.97222219\n",
      " 0.95869388 0.95797251 0.99152243 0.98755424 0.97799413 0.96933622\n",
      " 0.99152243 0.98683287 0.97781378 0.96933622 0.99675318 0.99386754\n",
      " 0.99134225 0.97077879 0.99675318 0.99404788 0.99116191 0.97113948]\n",
      "validation Set Score: 0.987012987012987\n",
      "Confusion Matrix:\n",
      "[[435   0   2   0   0   0   0]\n",
      " [  1   0   1   0   0   0   0]\n",
      " [  0   0   0   0   0   0   0]\n",
      " [  0   0   0   1   0   0   0]\n",
      " [  2   0   0   0   9   0   0]\n",
      " [  0   0   0   0   0  10   0]\n",
      " [  0   0   0   0   0   0   1]]\n",
      "F1 Score: 0.9878849721706865\n",
      "Accuracy Score: 0.987012987012987\n",
      "Classification Report:\n",
      "              precision    recall  f1-score   support\n",
      "\n",
      "     Android       0.99      1.00      0.99       437\n",
      "        EMUI       0.00      0.00      0.00         2\n",
      "   HarmonyOS       0.00      0.00      0.00         0\n",
      "      Others       1.00      1.00      1.00         1\n",
      "     Windows       1.00      0.82      0.90        11\n",
      "         iOS       1.00      1.00      1.00        10\n",
      "      iPadOS       1.00      1.00      1.00         1\n",
      "\n",
      "    accuracy                           0.99       462\n",
      "   macro avg       0.71      0.69      0.70       462\n",
      "weighted avg       0.99      0.99      0.99       462\n",
      "\n"
     ]
    },
    {
     "name": "stderr",
     "output_type": "stream",
     "text": [
      "c:\\Users\\Nathan\\AppData\\Local\\Programs\\Python\\Python311\\Lib\\site-packages\\sklearn\\model_selection\\_split.py:737: UserWarning: The least populated class in y has only 2 members, which is less than n_splits=5.\n",
      "  warnings.warn(\n",
      "c:\\Users\\Nathan\\AppData\\Local\\Programs\\Python\\Python311\\Lib\\site-packages\\sklearn\\metrics\\_classification.py:1509: UndefinedMetricWarning: Precision is ill-defined and being set to 0.0 in labels with no predicted samples. Use `zero_division` parameter to control this behavior.\n",
      "  _warn_prf(average, modifier, f\"{metric.capitalize()} is\", len(result))\n",
      "c:\\Users\\Nathan\\AppData\\Local\\Programs\\Python\\Python311\\Lib\\site-packages\\sklearn\\metrics\\_classification.py:1509: UndefinedMetricWarning: Recall is ill-defined and being set to 0.0 in labels with no true samples. Use `zero_division` parameter to control this behavior.\n",
      "  _warn_prf(average, modifier, f\"{metric.capitalize()} is\", len(result))\n",
      "c:\\Users\\Nathan\\AppData\\Local\\Programs\\Python\\Python311\\Lib\\site-packages\\sklearn\\metrics\\_classification.py:1509: UndefinedMetricWarning: Precision is ill-defined and being set to 0.0 in labels with no predicted samples. Use `zero_division` parameter to control this behavior.\n",
      "  _warn_prf(average, modifier, f\"{metric.capitalize()} is\", len(result))\n",
      "c:\\Users\\Nathan\\AppData\\Local\\Programs\\Python\\Python311\\Lib\\site-packages\\sklearn\\metrics\\_classification.py:1509: UndefinedMetricWarning: Recall is ill-defined and being set to 0.0 in labels with no true samples. Use `zero_division` parameter to control this behavior.\n",
      "  _warn_prf(average, modifier, f\"{metric.capitalize()} is\", len(result))\n",
      "c:\\Users\\Nathan\\AppData\\Local\\Programs\\Python\\Python311\\Lib\\site-packages\\sklearn\\metrics\\_classification.py:1509: UndefinedMetricWarning: Precision is ill-defined and being set to 0.0 in labels with no predicted samples. Use `zero_division` parameter to control this behavior.\n",
      "  _warn_prf(average, modifier, f\"{metric.capitalize()} is\", len(result))\n",
      "c:\\Users\\Nathan\\AppData\\Local\\Programs\\Python\\Python311\\Lib\\site-packages\\sklearn\\metrics\\_classification.py:1509: UndefinedMetricWarning: Recall is ill-defined and being set to 0.0 in labels with no true samples. Use `zero_division` parameter to control this behavior.\n",
      "  _warn_prf(average, modifier, f\"{metric.capitalize()} is\", len(result))\n"
     ]
    }
   ],
   "source": [
    "svc = SVC()\n",
    "\n",
    "param_grid = {'C': [0.1, 1, 10], 'kernel': ['linear', 'poly', 'rbf', 'sigmoid'], 'gamma': ['scale', 'auto']}\n",
    "\n",
    "trainer = ModelTrainer(svc,param_grid)\n",
    "\n",
    "acc = trainer.train(X_train, y_train, X_val, y_val)\n",
    "\n",
    "model_acc.append(acc)\n",
    "model_name.append(\"SVC\")"
   ]
  },
  {
   "cell_type": "markdown",
   "metadata": {},
   "source": [
    "## NaiveBayes"
   ]
  },
  {
   "cell_type": "code",
   "execution_count": 85,
   "metadata": {},
   "outputs": [
    {
     "name": "stderr",
     "output_type": "stream",
     "text": [
      "c:\\Users\\Nathan\\AppData\\Local\\Programs\\Python\\Python311\\Lib\\site-packages\\sklearn\\model_selection\\_split.py:737: UserWarning: The least populated class in y has only 2 members, which is less than n_splits=5.\n",
      "  warnings.warn(\n",
      "c:\\Users\\Nathan\\AppData\\Local\\Programs\\Python\\Python311\\Lib\\site-packages\\sklearn\\naive_bayes.py:1199: RuntimeWarning: invalid value encountered in log\n",
      "  self.feature_log_prob_ = np.log(smoothed_fc) - np.log(\n",
      "c:\\Users\\Nathan\\AppData\\Local\\Programs\\Python\\Python311\\Lib\\site-packages\\sklearn\\naive_bayes.py:1214: RuntimeWarning: invalid value encountered in log\n",
      "  neg_prob = np.log(1 - np.exp(self.feature_log_prob_))\n",
      "c:\\Users\\Nathan\\AppData\\Local\\Programs\\Python\\Python311\\Lib\\site-packages\\sklearn\\naive_bayes.py:1214: RuntimeWarning: invalid value encountered in log\n",
      "  neg_prob = np.log(1 - np.exp(self.feature_log_prob_))\n",
      "c:\\Users\\Nathan\\AppData\\Local\\Programs\\Python\\Python311\\Lib\\site-packages\\sklearn\\naive_bayes.py:1199: RuntimeWarning: invalid value encountered in log\n",
      "  self.feature_log_prob_ = np.log(smoothed_fc) - np.log(\n",
      "c:\\Users\\Nathan\\AppData\\Local\\Programs\\Python\\Python311\\Lib\\site-packages\\sklearn\\naive_bayes.py:1214: RuntimeWarning: invalid value encountered in log\n",
      "  neg_prob = np.log(1 - np.exp(self.feature_log_prob_))\n",
      "c:\\Users\\Nathan\\AppData\\Local\\Programs\\Python\\Python311\\Lib\\site-packages\\sklearn\\naive_bayes.py:1214: RuntimeWarning: invalid value encountered in log\n",
      "  neg_prob = np.log(1 - np.exp(self.feature_log_prob_))\n",
      "c:\\Users\\Nathan\\AppData\\Local\\Programs\\Python\\Python311\\Lib\\site-packages\\sklearn\\naive_bayes.py:1199: RuntimeWarning: invalid value encountered in log\n",
      "  self.feature_log_prob_ = np.log(smoothed_fc) - np.log(\n",
      "c:\\Users\\Nathan\\AppData\\Local\\Programs\\Python\\Python311\\Lib\\site-packages\\sklearn\\naive_bayes.py:1214: RuntimeWarning: invalid value encountered in log\n",
      "  neg_prob = np.log(1 - np.exp(self.feature_log_prob_))\n",
      "c:\\Users\\Nathan\\AppData\\Local\\Programs\\Python\\Python311\\Lib\\site-packages\\sklearn\\naive_bayes.py:1214: RuntimeWarning: invalid value encountered in log\n",
      "  neg_prob = np.log(1 - np.exp(self.feature_log_prob_))\n",
      "c:\\Users\\Nathan\\AppData\\Local\\Programs\\Python\\Python311\\Lib\\site-packages\\sklearn\\naive_bayes.py:1199: RuntimeWarning: invalid value encountered in log\n",
      "  self.feature_log_prob_ = np.log(smoothed_fc) - np.log(\n",
      "c:\\Users\\Nathan\\AppData\\Local\\Programs\\Python\\Python311\\Lib\\site-packages\\sklearn\\naive_bayes.py:1214: RuntimeWarning: invalid value encountered in log\n",
      "  neg_prob = np.log(1 - np.exp(self.feature_log_prob_))\n",
      "c:\\Users\\Nathan\\AppData\\Local\\Programs\\Python\\Python311\\Lib\\site-packages\\sklearn\\naive_bayes.py:1214: RuntimeWarning: invalid value encountered in log\n",
      "  neg_prob = np.log(1 - np.exp(self.feature_log_prob_))\n",
      "c:\\Users\\Nathan\\AppData\\Local\\Programs\\Python\\Python311\\Lib\\site-packages\\sklearn\\naive_bayes.py:1199: RuntimeWarning: invalid value encountered in log\n",
      "  self.feature_log_prob_ = np.log(smoothed_fc) - np.log(\n",
      "c:\\Users\\Nathan\\AppData\\Local\\Programs\\Python\\Python311\\Lib\\site-packages\\sklearn\\naive_bayes.py:1214: RuntimeWarning: invalid value encountered in log\n",
      "  neg_prob = np.log(1 - np.exp(self.feature_log_prob_))\n",
      "c:\\Users\\Nathan\\AppData\\Local\\Programs\\Python\\Python311\\Lib\\site-packages\\sklearn\\naive_bayes.py:1214: RuntimeWarning: invalid value encountered in log\n",
      "  neg_prob = np.log(1 - np.exp(self.feature_log_prob_))\n",
      "c:\\Users\\Nathan\\AppData\\Local\\Programs\\Python\\Python311\\Lib\\site-packages\\sklearn\\naive_bayes.py:1199: RuntimeWarning: invalid value encountered in log\n",
      "  self.feature_log_prob_ = np.log(smoothed_fc) - np.log(\n",
      "c:\\Users\\Nathan\\AppData\\Local\\Programs\\Python\\Python311\\Lib\\site-packages\\sklearn\\naive_bayes.py:1214: RuntimeWarning: invalid value encountered in log\n",
      "  neg_prob = np.log(1 - np.exp(self.feature_log_prob_))\n",
      "c:\\Users\\Nathan\\AppData\\Local\\Programs\\Python\\Python311\\Lib\\site-packages\\sklearn\\naive_bayes.py:1214: RuntimeWarning: invalid value encountered in log\n",
      "  neg_prob = np.log(1 - np.exp(self.feature_log_prob_))\n",
      "c:\\Users\\Nathan\\AppData\\Local\\Programs\\Python\\Python311\\Lib\\site-packages\\sklearn\\naive_bayes.py:1199: RuntimeWarning: invalid value encountered in log\n",
      "  self.feature_log_prob_ = np.log(smoothed_fc) - np.log(\n",
      "c:\\Users\\Nathan\\AppData\\Local\\Programs\\Python\\Python311\\Lib\\site-packages\\sklearn\\naive_bayes.py:1214: RuntimeWarning: invalid value encountered in log\n",
      "  neg_prob = np.log(1 - np.exp(self.feature_log_prob_))\n",
      "c:\\Users\\Nathan\\AppData\\Local\\Programs\\Python\\Python311\\Lib\\site-packages\\sklearn\\naive_bayes.py:1214: RuntimeWarning: invalid value encountered in log\n",
      "  neg_prob = np.log(1 - np.exp(self.feature_log_prob_))\n",
      "c:\\Users\\Nathan\\AppData\\Local\\Programs\\Python\\Python311\\Lib\\site-packages\\sklearn\\naive_bayes.py:1199: RuntimeWarning: invalid value encountered in log\n",
      "  self.feature_log_prob_ = np.log(smoothed_fc) - np.log(\n",
      "c:\\Users\\Nathan\\AppData\\Local\\Programs\\Python\\Python311\\Lib\\site-packages\\sklearn\\naive_bayes.py:1214: RuntimeWarning: invalid value encountered in log\n",
      "  neg_prob = np.log(1 - np.exp(self.feature_log_prob_))\n",
      "c:\\Users\\Nathan\\AppData\\Local\\Programs\\Python\\Python311\\Lib\\site-packages\\sklearn\\naive_bayes.py:1214: RuntimeWarning: invalid value encountered in log\n",
      "  neg_prob = np.log(1 - np.exp(self.feature_log_prob_))\n",
      "c:\\Users\\Nathan\\AppData\\Local\\Programs\\Python\\Python311\\Lib\\site-packages\\sklearn\\naive_bayes.py:1199: RuntimeWarning: invalid value encountered in log\n",
      "  self.feature_log_prob_ = np.log(smoothed_fc) - np.log(\n",
      "c:\\Users\\Nathan\\AppData\\Local\\Programs\\Python\\Python311\\Lib\\site-packages\\sklearn\\naive_bayes.py:1214: RuntimeWarning: invalid value encountered in log\n",
      "  neg_prob = np.log(1 - np.exp(self.feature_log_prob_))\n",
      "c:\\Users\\Nathan\\AppData\\Local\\Programs\\Python\\Python311\\Lib\\site-packages\\sklearn\\naive_bayes.py:1214: RuntimeWarning: invalid value encountered in log\n",
      "  neg_prob = np.log(1 - np.exp(self.feature_log_prob_))\n",
      "c:\\Users\\Nathan\\AppData\\Local\\Programs\\Python\\Python311\\Lib\\site-packages\\sklearn\\naive_bayes.py:1199: RuntimeWarning: invalid value encountered in log\n",
      "  self.feature_log_prob_ = np.log(smoothed_fc) - np.log(\n",
      "c:\\Users\\Nathan\\AppData\\Local\\Programs\\Python\\Python311\\Lib\\site-packages\\sklearn\\naive_bayes.py:1214: RuntimeWarning: invalid value encountered in log\n",
      "  neg_prob = np.log(1 - np.exp(self.feature_log_prob_))\n",
      "c:\\Users\\Nathan\\AppData\\Local\\Programs\\Python\\Python311\\Lib\\site-packages\\sklearn\\naive_bayes.py:1214: RuntimeWarning: invalid value encountered in log\n",
      "  neg_prob = np.log(1 - np.exp(self.feature_log_prob_))\n",
      "c:\\Users\\Nathan\\AppData\\Local\\Programs\\Python\\Python311\\Lib\\site-packages\\sklearn\\naive_bayes.py:1199: RuntimeWarning: invalid value encountered in log\n",
      "  self.feature_log_prob_ = np.log(smoothed_fc) - np.log(\n",
      "c:\\Users\\Nathan\\AppData\\Local\\Programs\\Python\\Python311\\Lib\\site-packages\\sklearn\\naive_bayes.py:1214: RuntimeWarning: invalid value encountered in log\n",
      "  neg_prob = np.log(1 - np.exp(self.feature_log_prob_))\n",
      "c:\\Users\\Nathan\\AppData\\Local\\Programs\\Python\\Python311\\Lib\\site-packages\\sklearn\\naive_bayes.py:1214: RuntimeWarning: invalid value encountered in log\n",
      "  neg_prob = np.log(1 - np.exp(self.feature_log_prob_))\n",
      "c:\\Users\\Nathan\\AppData\\Local\\Programs\\Python\\Python311\\Lib\\site-packages\\sklearn\\naive_bayes.py:1199: RuntimeWarning: invalid value encountered in log\n",
      "  self.feature_log_prob_ = np.log(smoothed_fc) - np.log(\n",
      "c:\\Users\\Nathan\\AppData\\Local\\Programs\\Python\\Python311\\Lib\\site-packages\\sklearn\\naive_bayes.py:1214: RuntimeWarning: invalid value encountered in log\n",
      "  neg_prob = np.log(1 - np.exp(self.feature_log_prob_))\n",
      "c:\\Users\\Nathan\\AppData\\Local\\Programs\\Python\\Python311\\Lib\\site-packages\\sklearn\\naive_bayes.py:1214: RuntimeWarning: invalid value encountered in log\n",
      "  neg_prob = np.log(1 - np.exp(self.feature_log_prob_))\n",
      "c:\\Users\\Nathan\\AppData\\Local\\Programs\\Python\\Python311\\Lib\\site-packages\\sklearn\\naive_bayes.py:1199: RuntimeWarning: invalid value encountered in log\n",
      "  self.feature_log_prob_ = np.log(smoothed_fc) - np.log(\n",
      "c:\\Users\\Nathan\\AppData\\Local\\Programs\\Python\\Python311\\Lib\\site-packages\\sklearn\\naive_bayes.py:1214: RuntimeWarning: invalid value encountered in log\n",
      "  neg_prob = np.log(1 - np.exp(self.feature_log_prob_))\n",
      "c:\\Users\\Nathan\\AppData\\Local\\Programs\\Python\\Python311\\Lib\\site-packages\\sklearn\\naive_bayes.py:1214: RuntimeWarning: invalid value encountered in log\n",
      "  neg_prob = np.log(1 - np.exp(self.feature_log_prob_))\n",
      "c:\\Users\\Nathan\\AppData\\Local\\Programs\\Python\\Python311\\Lib\\site-packages\\sklearn\\naive_bayes.py:1199: RuntimeWarning: invalid value encountered in log\n",
      "  self.feature_log_prob_ = np.log(smoothed_fc) - np.log(\n",
      "c:\\Users\\Nathan\\AppData\\Local\\Programs\\Python\\Python311\\Lib\\site-packages\\sklearn\\naive_bayes.py:1214: RuntimeWarning: invalid value encountered in log\n",
      "  neg_prob = np.log(1 - np.exp(self.feature_log_prob_))\n",
      "c:\\Users\\Nathan\\AppData\\Local\\Programs\\Python\\Python311\\Lib\\site-packages\\sklearn\\naive_bayes.py:1214: RuntimeWarning: invalid value encountered in log\n",
      "  neg_prob = np.log(1 - np.exp(self.feature_log_prob_))\n",
      "c:\\Users\\Nathan\\AppData\\Local\\Programs\\Python\\Python311\\Lib\\site-packages\\sklearn\\naive_bayes.py:1199: RuntimeWarning: invalid value encountered in log\n",
      "  self.feature_log_prob_ = np.log(smoothed_fc) - np.log(\n",
      "c:\\Users\\Nathan\\AppData\\Local\\Programs\\Python\\Python311\\Lib\\site-packages\\sklearn\\naive_bayes.py:1214: RuntimeWarning: invalid value encountered in log\n",
      "  neg_prob = np.log(1 - np.exp(self.feature_log_prob_))\n",
      "c:\\Users\\Nathan\\AppData\\Local\\Programs\\Python\\Python311\\Lib\\site-packages\\sklearn\\naive_bayes.py:1214: RuntimeWarning: invalid value encountered in log\n",
      "  neg_prob = np.log(1 - np.exp(self.feature_log_prob_))\n"
     ]
    },
    {
     "name": "stdout",
     "output_type": "stream",
     "text": [
      "Best Parameters: {'alpha': 10.0, 'binarize': 0.5}\n",
      "Cross Validation Scores: [0.96043165 0.96389892 0.9566787  0.9566787  0.96028881]\n",
      "Mean Cross Validation Score: 0.9595953562060101\n",
      "Training Set Scores in Each Fold:\n",
      "[0.943723   0.71898432 0.85371509 0.943723   0.70490652 0.83369657\n",
      " 0.943723   0.95869453 0.95851419]\n",
      "validation Set Score: 0.961038961038961\n",
      "Confusion Matrix:\n",
      "[[437   0   0   0   0   0]\n",
      " [  2   0   0   0   0   0]\n",
      " [  1   0   0   0   0   0]\n",
      " [ 11   0   0   0   0   0]\n",
      " [  3   0   0   0   7   0]\n",
      " [  0   0   0   0   1   0]]\n",
      "F1 Score: 0.9446752275035103\n",
      "Accuracy Score: 0.961038961038961\n",
      "Classification Report:\n",
      "              precision    recall  f1-score   support\n",
      "\n",
      "     Android       0.96      1.00      0.98       437\n",
      "        EMUI       0.00      0.00      0.00         2\n",
      "      Others       0.00      0.00      0.00         1\n",
      "     Windows       0.00      0.00      0.00        11\n",
      "         iOS       0.88      0.70      0.78        10\n",
      "      iPadOS       0.00      0.00      0.00         1\n",
      "\n",
      "    accuracy                           0.96       462\n",
      "   macro avg       0.31      0.28      0.29       462\n",
      "weighted avg       0.93      0.96      0.94       462\n",
      "\n"
     ]
    },
    {
     "name": "stderr",
     "output_type": "stream",
     "text": [
      "c:\\Users\\Nathan\\AppData\\Local\\Programs\\Python\\Python311\\Lib\\site-packages\\sklearn\\model_selection\\_split.py:737: UserWarning: The least populated class in y has only 2 members, which is less than n_splits=5.\n",
      "  warnings.warn(\n",
      "c:\\Users\\Nathan\\AppData\\Local\\Programs\\Python\\Python311\\Lib\\site-packages\\sklearn\\metrics\\_classification.py:1509: UndefinedMetricWarning: Precision is ill-defined and being set to 0.0 in labels with no predicted samples. Use `zero_division` parameter to control this behavior.\n",
      "  _warn_prf(average, modifier, f\"{metric.capitalize()} is\", len(result))\n",
      "c:\\Users\\Nathan\\AppData\\Local\\Programs\\Python\\Python311\\Lib\\site-packages\\sklearn\\metrics\\_classification.py:1509: UndefinedMetricWarning: Precision is ill-defined and being set to 0.0 in labels with no predicted samples. Use `zero_division` parameter to control this behavior.\n",
      "  _warn_prf(average, modifier, f\"{metric.capitalize()} is\", len(result))\n",
      "c:\\Users\\Nathan\\AppData\\Local\\Programs\\Python\\Python311\\Lib\\site-packages\\sklearn\\metrics\\_classification.py:1509: UndefinedMetricWarning: Precision is ill-defined and being set to 0.0 in labels with no predicted samples. Use `zero_division` parameter to control this behavior.\n",
      "  _warn_prf(average, modifier, f\"{metric.capitalize()} is\", len(result))\n"
     ]
    }
   ],
   "source": [
    "bnb = BernoulliNB()\n",
    "\n",
    "param_grid = {'alpha': [0.1, 1.0, 10.0], 'binarize': [None, 0.0, 0.5]}\n",
    "\n",
    "binarizer = Binarizer()\n",
    "X_train_binarized = binarizer.fit_transform(X_train)\n",
    "X_val_binarized = binarizer.transform(X_val)\n",
    "X_test_binarized = binarizer.transform(X_test)\n",
    "\n",
    "trainer = ModelTrainer(bnb,param_grid)\n",
    "\n",
    "acc = trainer.train(X_train, y_train, X_val, y_val)\n",
    "\n",
    "model_acc.append(acc)\n",
    "model_name.append(\"BernouliNB\")"
   ]
  },
  {
   "cell_type": "markdown",
   "metadata": {},
   "source": [
    "## GaussianNB"
   ]
  },
  {
   "cell_type": "code",
   "execution_count": 86,
   "metadata": {},
   "outputs": [
    {
     "name": "stdout",
     "output_type": "stream",
     "text": [
      "validation Set Score: 0.8095238095238095\n",
      "Confusion Matrix:\n",
      "[[354   0  20  24  39   0   0]\n",
      " [  0   0   2   0   0   0   0]\n",
      " [  0   0   0   0   0   0   0]\n",
      " [  1   0   0   0   0   0   0]\n",
      " [  0   0   0   1  10   0   0]\n",
      " [  0   0   0   0   0   9   1]\n",
      " [  0   0   0   0   0   0   1]]\n",
      "F1 Score: 0.8754513694705083\n",
      "Accuracy Score: 0.8095238095238095\n",
      "Classification Report:\n",
      "              precision    recall  f1-score   support\n",
      "\n",
      "     Android       1.00      0.81      0.89       437\n",
      "        EMUI       0.00      0.00      0.00         2\n",
      "   HarmonyOS       0.00      0.00      0.00         0\n",
      "      Others       0.00      0.00      0.00         1\n",
      "     Windows       0.20      0.91      0.33        11\n",
      "         iOS       1.00      0.90      0.95        10\n",
      "      iPadOS       0.50      1.00      0.67         1\n",
      "\n",
      "    accuracy                           0.81       462\n",
      "   macro avg       0.39      0.52      0.41       462\n",
      "weighted avg       0.97      0.81      0.88       462\n",
      "\n"
     ]
    },
    {
     "name": "stderr",
     "output_type": "stream",
     "text": [
      "c:\\Users\\Nathan\\AppData\\Local\\Programs\\Python\\Python311\\Lib\\site-packages\\sklearn\\metrics\\_classification.py:1509: UndefinedMetricWarning: Precision is ill-defined and being set to 0.0 in labels with no predicted samples. Use `zero_division` parameter to control this behavior.\n",
      "  _warn_prf(average, modifier, f\"{metric.capitalize()} is\", len(result))\n",
      "c:\\Users\\Nathan\\AppData\\Local\\Programs\\Python\\Python311\\Lib\\site-packages\\sklearn\\metrics\\_classification.py:1509: UndefinedMetricWarning: Recall is ill-defined and being set to 0.0 in labels with no true samples. Use `zero_division` parameter to control this behavior.\n",
      "  _warn_prf(average, modifier, f\"{metric.capitalize()} is\", len(result))\n",
      "c:\\Users\\Nathan\\AppData\\Local\\Programs\\Python\\Python311\\Lib\\site-packages\\sklearn\\metrics\\_classification.py:1509: UndefinedMetricWarning: Precision is ill-defined and being set to 0.0 in labels with no predicted samples. Use `zero_division` parameter to control this behavior.\n",
      "  _warn_prf(average, modifier, f\"{metric.capitalize()} is\", len(result))\n",
      "c:\\Users\\Nathan\\AppData\\Local\\Programs\\Python\\Python311\\Lib\\site-packages\\sklearn\\metrics\\_classification.py:1509: UndefinedMetricWarning: Recall is ill-defined and being set to 0.0 in labels with no true samples. Use `zero_division` parameter to control this behavior.\n",
      "  _warn_prf(average, modifier, f\"{metric.capitalize()} is\", len(result))\n",
      "c:\\Users\\Nathan\\AppData\\Local\\Programs\\Python\\Python311\\Lib\\site-packages\\sklearn\\metrics\\_classification.py:1509: UndefinedMetricWarning: Precision is ill-defined and being set to 0.0 in labels with no predicted samples. Use `zero_division` parameter to control this behavior.\n",
      "  _warn_prf(average, modifier, f\"{metric.capitalize()} is\", len(result))\n",
      "c:\\Users\\Nathan\\AppData\\Local\\Programs\\Python\\Python311\\Lib\\site-packages\\sklearn\\metrics\\_classification.py:1509: UndefinedMetricWarning: Recall is ill-defined and being set to 0.0 in labels with no true samples. Use `zero_division` parameter to control this behavior.\n",
      "  _warn_prf(average, modifier, f\"{metric.capitalize()} is\", len(result))\n"
     ]
    }
   ],
   "source": [
    "gaussNB = GaussianNB()\n",
    "\n",
    "trainer = ModelTrainer(gaussNB)\n",
    "\n",
    "acc = trainer.train(X_train, y_train, X_val, y_val)\n",
    "\n",
    "model_acc.append(acc)\n",
    "model_name.append(\"GaussianNB\")"
   ]
  },
  {
   "cell_type": "markdown",
   "metadata": {},
   "source": [
    "## Rndom Forest"
   ]
  },
  {
   "cell_type": "code",
   "execution_count": 87,
   "metadata": {},
   "outputs": [
    {
     "name": "stderr",
     "output_type": "stream",
     "text": [
      "c:\\Users\\Nathan\\AppData\\Local\\Programs\\Python\\Python311\\Lib\\site-packages\\sklearn\\model_selection\\_split.py:737: UserWarning: The least populated class in y has only 2 members, which is less than n_splits=5.\n",
      "  warnings.warn(\n"
     ]
    },
    {
     "name": "stdout",
     "output_type": "stream",
     "text": [
      "Best Parameters: {'max_depth': 10, 'min_samples_leaf': 1, 'min_samples_split': 2, 'n_estimators': 200}\n"
     ]
    },
    {
     "name": "stderr",
     "output_type": "stream",
     "text": [
      "c:\\Users\\Nathan\\AppData\\Local\\Programs\\Python\\Python311\\Lib\\site-packages\\sklearn\\model_selection\\_split.py:737: UserWarning: The least populated class in y has only 2 members, which is less than n_splits=5.\n",
      "  warnings.warn(\n"
     ]
    },
    {
     "name": "stdout",
     "output_type": "stream",
     "text": [
      "Cross Validation Scores: [0.97841727 0.97472924 0.98916968 0.98194946 0.97833935]\n",
      "Mean Cross Validation Score: 0.9805209983637638\n",
      "Training Set Scores in Each Fold:\n",
      "[1.         1.         1.         0.99116175 0.99080073 0.99134209\n",
      " 0.98593083 0.98683238 0.98737357 0.98935799 0.98953801 0.98935783\n",
      " 0.989177   0.98971852 0.98917765 0.98484861 0.98358589 0.98376623\n",
      " 0.97691207 0.97727292 0.97799445 0.97907651 0.97817512 0.97853564\n",
      " 0.97781411 0.97763377 0.97546966 0.97348507 0.97330457 0.97384592\n",
      " 0.97150065 0.97258336 0.9711398  0.96951656 0.9696969  0.9696969\n",
      " 0.97059894 0.97132031 0.97077896 0.97023793 0.97077912 0.97059894\n",
      " 0.96933622 0.96951656 0.96951656 0.96861484 0.96825351 0.96897553\n",
      " 0.96915604 0.96879519 0.96825416 0.96735245 0.96861484 0.96897553\n",
      " 0.9963925  0.99585163 0.99567113 0.98989902 0.99062055 0.99044005\n",
      " 0.98629152 0.98665204 0.9866522  0.98917749 0.98971852 0.98953834\n",
      " 0.98899731 0.98899698 0.98899715 0.98160212 0.98358605 0.98340571\n",
      " 0.97564951 0.97799445 0.97727259 0.97835546 0.97763393 0.97763377\n",
      " 0.97294437 0.97565    0.97601036]\n",
      "validation Set Score: 0.9891774891774892\n",
      "Confusion Matrix:\n",
      "[[437   0   0   0   0   0]\n",
      " [  2   0   0   0   0   0]\n",
      " [  1   0   0   0   0   0]\n",
      " [  2   0   0   9   0   0]\n",
      " [  0   0   0   0  10   0]\n",
      " [  0   0   0   0   0   1]]\n",
      "F1 Score: 0.9857450664617899\n",
      "Accuracy Score: 0.9891774891774892\n",
      "Classification Report:\n",
      "              precision    recall  f1-score   support\n",
      "\n",
      "     Android       0.99      1.00      0.99       437\n",
      "        EMUI       0.00      0.00      0.00         2\n",
      "      Others       0.00      0.00      0.00         1\n",
      "     Windows       1.00      0.82      0.90        11\n",
      "         iOS       1.00      1.00      1.00        10\n",
      "      iPadOS       1.00      1.00      1.00         1\n",
      "\n",
      "    accuracy                           0.99       462\n",
      "   macro avg       0.66      0.64      0.65       462\n",
      "weighted avg       0.98      0.99      0.99       462\n",
      "\n"
     ]
    },
    {
     "name": "stderr",
     "output_type": "stream",
     "text": [
      "c:\\Users\\Nathan\\AppData\\Local\\Programs\\Python\\Python311\\Lib\\site-packages\\sklearn\\metrics\\_classification.py:1509: UndefinedMetricWarning: Precision is ill-defined and being set to 0.0 in labels with no predicted samples. Use `zero_division` parameter to control this behavior.\n",
      "  _warn_prf(average, modifier, f\"{metric.capitalize()} is\", len(result))\n",
      "c:\\Users\\Nathan\\AppData\\Local\\Programs\\Python\\Python311\\Lib\\site-packages\\sklearn\\metrics\\_classification.py:1509: UndefinedMetricWarning: Precision is ill-defined and being set to 0.0 in labels with no predicted samples. Use `zero_division` parameter to control this behavior.\n",
      "  _warn_prf(average, modifier, f\"{metric.capitalize()} is\", len(result))\n",
      "c:\\Users\\Nathan\\AppData\\Local\\Programs\\Python\\Python311\\Lib\\site-packages\\sklearn\\metrics\\_classification.py:1509: UndefinedMetricWarning: Precision is ill-defined and being set to 0.0 in labels with no predicted samples. Use `zero_division` parameter to control this behavior.\n",
      "  _warn_prf(average, modifier, f\"{metric.capitalize()} is\", len(result))\n"
     ]
    }
   ],
   "source": [
    "rf = RandomForestClassifier()\n",
    "\n",
    "param_grid = {\n",
    "    'n_estimators': [100, 200, 300],\n",
    "    'max_depth': [None, 5, 10],\n",
    "    'min_samples_split': [2, 5, 10],\n",
    "    'min_samples_leaf': [1, 2, 4]\n",
    "}\n",
    "\n",
    "trainer = ModelTrainer(rf,param_grid)\n",
    "acc = trainer.train(X_train, y_train, X_val, y_val)\n",
    "\n",
    "model_acc.append(acc)\n",
    "model_name.append(\"RF\")"
   ]
  },
  {
   "cell_type": "code",
   "execution_count": 88,
   "metadata": {},
   "outputs": [
    {
     "data": {
      "text/plain": [
       "[<matplotlib.lines.Line2D at 0x1ea9e8081d0>]"
      ]
     },
     "execution_count": 88,
     "metadata": {},
     "output_type": "execute_result"
    },
    {
     "data": {
      "image/png": "[encoded data removed]",
      "text/plain": [
       "<Figure size 2000x1000 with 1 Axes>"
      ]
     },
     "metadata": {},
     "output_type": "display_data"
    }
   ],
   "source": [
    "ax = plt.subplots(figsize=(20,10))\n",
    "ax = plt.plot(model_name , model_acc)\n",
    "ax"
   ]
  },
  {
   "cell_type": "markdown",
   "metadata": {},
   "source": [
    "## more detailed search in Random Forest Hyper parameters"
   ]
  },
  {
   "cell_type": "code",
   "execution_count": 89,
   "metadata": {},
   "outputs": [],
   "source": [
    "#Number of trees\n",
    "n_estimator = [int(x) for x in np.linspace(start = 10 ,stop = 80, num = 10)]\n",
    "#Number of features to consider at every split\n",
    "max_features = ['log2' , 'sqrt']\n",
    "#Maximum samples required\n",
    "max_depth =  [int(x) for x in np.linspace(start = 10 ,stop = 100, num = 5)]\n",
    "#Minimum samples required to split the node\n",
    "min_samples_split = [int(x) for x in np.linspace(start = 5 ,stop = 60, num = 5)]\n",
    "#Minimum number of samples required at each leaf\n",
    "min_samples_leaf = [int(x) for x in np.linspace(start = 1 ,stop = 10, num = 2)]\n",
    "#Method of selecting samples for training each tree\n",
    "bootstrap = [True , False]"
   ]
  },
  {
   "cell_type": "code",
   "execution_count": 90,
   "metadata": {},
   "outputs": [],
   "source": [
    "#creating the param grid\n",
    "param_grid = {\n",
    "    'n_estimators': n_estimator,\n",
    "    'max_features': max_features,\n",
    "    'max_depth': max_depth,\n",
    "    'min_samples_split': min_samples_split,\n",
    "    'min_samples_leaf': min_samples_leaf,\n",
    "    'bootstrap':bootstrap\n",
    "}\n"
   ]
  },
  {
   "cell_type": "code",
   "execution_count": 91,
   "metadata": {},
   "outputs": [
    {
     "name": "stderr",
     "output_type": "stream",
     "text": [
      "c:\\Users\\Nathan\\AppData\\Local\\Programs\\Python\\Python311\\Lib\\site-packages\\sklearn\\model_selection\\_split.py:737: UserWarning: The least populated class in y has only 2 members, which is less than n_splits=5.\n",
      "  warnings.warn(\n"
     ]
    },
    {
     "name": "stdout",
     "output_type": "stream",
     "text": [
      "Best Parameters: {'bootstrap': False, 'max_depth': 55, 'max_features': 'sqrt', 'min_samples_leaf': 1, 'min_samples_split': 5, 'n_estimators': 56}\n"
     ]
    },
    {
     "name": "stderr",
     "output_type": "stream",
     "text": [
      "c:\\Users\\Nathan\\AppData\\Local\\Programs\\Python\\Python311\\Lib\\site-packages\\sklearn\\model_selection\\_split.py:737: UserWarning: The least populated class in y has only 2 members, which is less than n_splits=5.\n",
      "  warnings.warn(\n"
     ]
    },
    {
     "name": "stdout",
     "output_type": "stream",
     "text": [
      "Cross Validation Scores: [0.98561151 0.97111913 0.99277978 0.98194946 0.98916968]\n",
      "Mean Cross Validation Score: 0.9841259122665766\n",
      "Training Set Scores in Each Fold:\n",
      "[0.98863613 0.98809494 0.98989935 ... 0.96410546 0.96374527 0.96194054]\n",
      "validation Set Score: 0.9891774891774892\n",
      "Confusion Matrix:\n",
      "[[437   0   0   0   0   0   0]\n",
      " [  1   0   1   0   0   0   0]\n",
      " [  0   0   0   0   0   0   0]\n",
      " [  1   0   0   0   0   0   0]\n",
      " [  2   0   0   0   9   0   0]\n",
      " [  0   0   0   0   0  10   0]\n",
      " [  0   0   0   0   0   0   1]]\n",
      "F1 Score: 0.9868162589119309\n",
      "Accuracy Score: 0.9891774891774892\n",
      "Classification Report:\n",
      "              precision    recall  f1-score   support\n",
      "\n",
      "     Android       0.99      1.00      1.00       437\n",
      "        EMUI       0.00      0.00      0.00         2\n",
      "   HarmonyOS       0.00      0.00      0.00         0\n",
      "      Others       0.00      0.00      0.00         1\n",
      "     Windows       1.00      0.82      0.90        11\n",
      "         iOS       1.00      1.00      1.00        10\n",
      "      iPadOS       1.00      1.00      1.00         1\n",
      "\n",
      "    accuracy                           0.99       462\n",
      "   macro avg       0.57      0.55      0.56       462\n",
      "weighted avg       0.98      0.99      0.99       462\n",
      "\n"
     ]
    },
    {
     "name": "stderr",
     "output_type": "stream",
     "text": [
      "c:\\Users\\Nathan\\AppData\\Local\\Programs\\Python\\Python311\\Lib\\site-packages\\sklearn\\metrics\\_classification.py:1509: UndefinedMetricWarning: Precision is ill-defined and being set to 0.0 in labels with no predicted samples. Use `zero_division` parameter to control this behavior.\n",
      "  _warn_prf(average, modifier, f\"{metric.capitalize()} is\", len(result))\n",
      "c:\\Users\\Nathan\\AppData\\Local\\Programs\\Python\\Python311\\Lib\\site-packages\\sklearn\\metrics\\_classification.py:1509: UndefinedMetricWarning: Recall is ill-defined and being set to 0.0 in labels with no true samples. Use `zero_division` parameter to control this behavior.\n",
      "  _warn_prf(average, modifier, f\"{metric.capitalize()} is\", len(result))\n",
      "c:\\Users\\Nathan\\AppData\\Local\\Programs\\Python\\Python311\\Lib\\site-packages\\sklearn\\metrics\\_classification.py:1509: UndefinedMetricWarning: Precision is ill-defined and being set to 0.0 in labels with no predicted samples. Use `zero_division` parameter to control this behavior.\n",
      "  _warn_prf(average, modifier, f\"{metric.capitalize()} is\", len(result))\n",
      "c:\\Users\\Nathan\\AppData\\Local\\Programs\\Python\\Python311\\Lib\\site-packages\\sklearn\\metrics\\_classification.py:1509: UndefinedMetricWarning: Recall is ill-defined and being set to 0.0 in labels with no true samples. Use `zero_division` parameter to control this behavior.\n",
      "  _warn_prf(average, modifier, f\"{metric.capitalize()} is\", len(result))\n",
      "c:\\Users\\Nathan\\AppData\\Local\\Programs\\Python\\Python311\\Lib\\site-packages\\sklearn\\metrics\\_classification.py:1509: UndefinedMetricWarning: Precision is ill-defined and being set to 0.0 in labels with no predicted samples. Use `zero_division` parameter to control this behavior.\n",
      "  _warn_prf(average, modifier, f\"{metric.capitalize()} is\", len(result))\n",
      "c:\\Users\\Nathan\\AppData\\Local\\Programs\\Python\\Python311\\Lib\\site-packages\\sklearn\\metrics\\_classification.py:1509: UndefinedMetricWarning: Recall is ill-defined and being set to 0.0 in labels with no true samples. Use `zero_division` parameter to control this behavior.\n",
      "  _warn_prf(average, modifier, f\"{metric.capitalize()} is\", len(result))\n"
     ]
    }
   ],
   "source": [
    "rf_Model2 = RandomForestClassifier()\n",
    "\n",
    "trainer = ModelTrainer(rf_Model2,param_grid)\n",
    "\n",
    "acc = trainer.train(X_train, y_train, X_val, y_val)\n",
    "\n",
    "model_acc.append(acc)\n",
    "model_name.append(\"RF_tuned\")"
   ]
  },
  {
   "cell_type": "markdown",
   "metadata": {},
   "source": [
    "## Choosing the best model to fit on the test data"
   ]
  },
  {
   "cell_type": "code",
   "execution_count": 92,
   "metadata": {},
   "outputs": [
    {
     "data": {
      "text/plain": [
       "[<matplotlib.lines.Line2D at 0x1ea8db56950>]"
      ]
     },
     "execution_count": 92,
     "metadata": {},
     "output_type": "execute_result"
    },
    {
     "data": {
      "image/png": "[encoded data removed]",
      "text/plain": [
       "<Figure size 2000x1000 with 1 Axes>"
      ]
     },
     "metadata": {},
     "output_type": "display_data"
    }
   ],
   "source": [
    "ax = plt.subplots(figsize=(20,10))\n",
    "ax = plt.plot(model_name , model_acc)\n",
    "ax"
   ]
  },
  {
   "cell_type": "code",
   "execution_count": 93,
   "metadata": {},
   "outputs": [
    {
     "name": "stderr",
     "output_type": "stream",
     "text": [
      "c:\\Users\\Nathan\\AppData\\Local\\Programs\\Python\\Python311\\Lib\\site-packages\\sklearn\\model_selection\\_split.py:737: UserWarning: The least populated class in y has only 2 members, which is less than n_splits=5.\n",
      "  warnings.warn(\n"
     ]
    },
    {
     "name": "stdout",
     "output_type": "stream",
     "text": [
      "Best Parameters: {'C': 1, 'gamma': 'scale', 'kernel': 'linear'}\n",
      "Cross Validation Scores: [0.97482014 0.97833935 0.98916968 0.98555957 0.99277978]\n",
      "Mean Cross Validation Score: 0.9841337038672311\n",
      "Training Set Scores in Each Fold:\n",
      "[0.98665253 0.97240253 0.95797251 0.95652945 0.98665253 0.97222219\n",
      " 0.95869388 0.95797251 0.99152243 0.98755424 0.97799413 0.96933622\n",
      " 0.99152243 0.98683287 0.97781378 0.96933622 0.99675318 0.99386754\n",
      " 0.99134225 0.97077879 0.99675318 0.99404788 0.99116191 0.97113948]\n",
      "validation Set Score: 0.9755351681957186\n",
      "Confusion Matrix:\n",
      "[[304   0   0   1   0]\n",
      " [  0   0   0   0   0]\n",
      " [  2   2   2   0   0]\n",
      " [  3   0   0   1   0]\n",
      " [  0   0   0   0  12]]\n",
      "F1 Score: 0.9735561997164364\n",
      "Accuracy Score: 0.9755351681957186\n",
      "Classification Report:\n",
      "              precision    recall  f1-score   support\n",
      "\n",
      "     Android       0.98      1.00      0.99       305\n",
      "        EMUI       0.00      0.00      0.00         0\n",
      "   HarmonyOS       1.00      0.33      0.50         6\n",
      "     Windows       0.50      0.25      0.33         4\n",
      "         iOS       1.00      1.00      1.00        12\n",
      "\n",
      "    accuracy                           0.98       327\n",
      "   macro avg       0.70      0.52      0.56       327\n",
      "weighted avg       0.98      0.98      0.97       327\n",
      "\n"
     ]
    },
    {
     "name": "stderr",
     "output_type": "stream",
     "text": [
      "c:\\Users\\Nathan\\AppData\\Local\\Programs\\Python\\Python311\\Lib\\site-packages\\sklearn\\model_selection\\_split.py:737: UserWarning: The least populated class in y has only 2 members, which is less than n_splits=5.\n",
      "  warnings.warn(\n",
      "c:\\Users\\Nathan\\AppData\\Local\\Programs\\Python\\Python311\\Lib\\site-packages\\sklearn\\metrics\\_classification.py:1509: UndefinedMetricWarning: Recall is ill-defined and being set to 0.0 in labels with no true samples. Use `zero_division` parameter to control this behavior.\n",
      "  _warn_prf(average, modifier, f\"{metric.capitalize()} is\", len(result))\n",
      "c:\\Users\\Nathan\\AppData\\Local\\Programs\\Python\\Python311\\Lib\\site-packages\\sklearn\\metrics\\_classification.py:1509: UndefinedMetricWarning: Recall is ill-defined and being set to 0.0 in labels with no true samples. Use `zero_division` parameter to control this behavior.\n",
      "  _warn_prf(average, modifier, f\"{metric.capitalize()} is\", len(result))\n",
      "c:\\Users\\Nathan\\AppData\\Local\\Programs\\Python\\Python311\\Lib\\site-packages\\sklearn\\metrics\\_classification.py:1509: UndefinedMetricWarning: Recall is ill-defined and being set to 0.0 in labels with no true samples. Use `zero_division` parameter to control this behavior.\n",
      "  _warn_prf(average, modifier, f\"{metric.capitalize()} is\", len(result))\n"
     ]
    }
   ],
   "source": [
    "svc = SVC()\n",
    "\n",
    "param_grid = {'C': [0.1, 1, 10], 'kernel': ['linear', 'poly', 'rbf', 'sigmoid'], 'gamma': ['scale', 'auto']}\n",
    "\n",
    "trainer = ModelTrainer(svc,param_grid)\n",
    "\n",
    "acc = trainer.train(X_train, y_train, X_test, y_test)\n",
    "\n"
   ]
  },
  {
   "cell_type": "markdown",
   "metadata": {},
   "source": [
    "## Dividing Battery Capacity"
   ]
  },
  {
   "cell_type": "code",
   "execution_count": 94,
   "metadata": {},
   "outputs": [
    {
     "data": {
      "text/plain": [
       "50.0"
      ]
     },
     "execution_count": 94,
     "metadata": {},
     "output_type": "execute_result"
    }
   ],
   "source": [
    "X['battery_capacity'].min()"
   ]
  },
  {
   "cell_type": "code",
   "execution_count": 95,
   "metadata": {},
   "outputs": [
    {
     "data": {
      "text/plain": [
       "11560.0"
      ]
     },
     "execution_count": 95,
     "metadata": {},
     "output_type": "execute_result"
    }
   ],
   "source": [
    "X['battery_capacity'].max()"
   ]
  },
  {
   "cell_type": "code",
   "execution_count": 96,
   "metadata": {},
   "outputs": [
    {
     "data": {
      "text/plain": [
       "3665.9245977011497"
      ]
     },
     "execution_count": 96,
     "metadata": {},
     "output_type": "execute_result"
    }
   ],
   "source": [
    "X['battery_capacity'].mean()"
   ]
  },
  {
   "cell_type": "code",
   "execution_count": 97,
   "metadata": {},
   "outputs": [
    {
     "data": {
      "text/plain": [
       "(array([  6., 471., 700., 457., 376.,  67.,  54.,  22.,  16.,   6.]),\n",
       " array([   50.,  1201.,  2352.,  3503.,  4654.,  5805.,  6956.,  8107.,\n",
       "         9258., 10409., 11560.]),\n",
       " <BarContainer object of 10 artists>)"
      ]
     },
     "execution_count": 97,
     "metadata": {},
     "output_type": "execute_result"
    },
    {
     "data": {
      "image/png": "[encoded data removed]",
      "text/plain": [
       "<Figure size 640x480 with 1 Axes>"
      ]
     },
     "metadata": {},
     "output_type": "display_data"
    }
   ],
   "source": [
    "plt.hist(X['battery_capacity'])"
   ]
  },
  {
   "cell_type": "code",
   "execution_count": 98,
   "metadata": {},
   "outputs": [],
   "source": [
    "def clustering(x):\n",
    "    if  0<float(x)<3666:\n",
    "        return 1\n",
    "    elif 3665<=float(x)<5000:\n",
    "        return 2\n",
    "    elif 5000<=float(x)<12000: \n",
    "        return 3"
   ]
  },
  {
   "cell_type": "code",
   "execution_count": 99,
   "metadata": {},
   "outputs": [],
   "source": [
    "X['battery_capacity'] = X['battery_capacity'].apply(clustering)"
   ]
  },
  {
   "cell_type": "code",
   "execution_count": 100,
   "metadata": {},
   "outputs": [],
   "source": [
    "X_train_val, X_test, y_train_val, y_test = train_test_split(X, y, test_size=0.15, random_state=42)\n",
    "\n",
    "X_train, X_val, y_train, y_val = train_test_split(X_train_val, y_train_val, test_size=0.25, random_state=42)"
   ]
  },
  {
   "cell_type": "code",
   "execution_count": 101,
   "metadata": {},
   "outputs": [],
   "source": [
    "scaler = StandardScaler()\n",
    "X_train= scaler.fit_transform(X_train)\n",
    "X_test= scaler.transform(X_test)\n",
    "X_val= scaler.transform(X_val)"
   ]
  },
  {
   "cell_type": "code",
   "execution_count": 102,
   "metadata": {},
   "outputs": [
    {
     "name": "stderr",
     "output_type": "stream",
     "text": [
      "c:\\Users\\Nathan\\AppData\\Local\\Programs\\Python\\Python311\\Lib\\site-packages\\sklearn\\model_selection\\_split.py:737: UserWarning: The least populated class in y has only 2 members, which is less than n_splits=5.\n",
      "  warnings.warn(\n"
     ]
    },
    {
     "name": "stdout",
     "output_type": "stream",
     "text": [
      "Best Parameters: {'C': 10, 'gamma': 'scale', 'kernel': 'poly'}\n",
      "Cross Validation Scores: [0.97482014 0.98194946 0.98555957 0.98555957 0.98916968]\n",
      "Mean Cross Validation Score: 0.9834116822065813\n",
      "Training Set Scores in Each Fold:\n",
      "[0.98538964 0.97222219 0.95941542 0.95743116 0.98538964 0.97204184\n",
      " 0.95941542 0.95905457 0.99134209 0.9875544  0.97763344 0.96933622\n",
      " 0.99134209 0.98701321 0.97763344 0.96933622 0.99657268 0.99422822\n",
      " 0.99152259 0.97438646 0.99657268 0.99422822 0.99116191 0.97366509]\n",
      "validation Set Score: 0.9724770642201835\n",
      "Confusion Matrix:\n",
      "[[303   0   1   1   0   0]\n",
      " [  0   0   0   0   0   0]\n",
      " [  2   1   3   0   0   0]\n",
      " [  3   0   0   1   0   0]\n",
      " [  0   0   0   0  11   1]\n",
      " [  0   0   0   0   0   0]]\n",
      "F1 Score: 0.9722590919794704\n",
      "Accuracy Score: 0.9724770642201835\n",
      "Classification Report:\n",
      "              precision    recall  f1-score   support\n",
      "\n",
      "     Android       0.98      0.99      0.99       305\n",
      "        EMUI       0.00      0.00      0.00         0\n",
      "   HarmonyOS       0.75      0.50      0.60         6\n",
      "     Windows       0.50      0.25      0.33         4\n",
      "         iOS       1.00      0.92      0.96        12\n",
      "      iPadOS       0.00      0.00      0.00         0\n",
      "\n",
      "    accuracy                           0.97       327\n",
      "   macro avg       0.54      0.44      0.48       327\n",
      "weighted avg       0.97      0.97      0.97       327\n",
      "\n"
     ]
    },
    {
     "name": "stderr",
     "output_type": "stream",
     "text": [
      "c:\\Users\\Nathan\\AppData\\Local\\Programs\\Python\\Python311\\Lib\\site-packages\\sklearn\\model_selection\\_split.py:737: UserWarning: The least populated class in y has only 2 members, which is less than n_splits=5.\n",
      "  warnings.warn(\n",
      "c:\\Users\\Nathan\\AppData\\Local\\Programs\\Python\\Python311\\Lib\\site-packages\\sklearn\\metrics\\_classification.py:1509: UndefinedMetricWarning: Recall is ill-defined and being set to 0.0 in labels with no true samples. Use `zero_division` parameter to control this behavior.\n",
      "  _warn_prf(average, modifier, f\"{metric.capitalize()} is\", len(result))\n",
      "c:\\Users\\Nathan\\AppData\\Local\\Programs\\Python\\Python311\\Lib\\site-packages\\sklearn\\metrics\\_classification.py:1509: UndefinedMetricWarning: Recall is ill-defined and being set to 0.0 in labels with no true samples. Use `zero_division` parameter to control this behavior.\n",
      "  _warn_prf(average, modifier, f\"{metric.capitalize()} is\", len(result))\n",
      "c:\\Users\\Nathan\\AppData\\Local\\Programs\\Python\\Python311\\Lib\\site-packages\\sklearn\\metrics\\_classification.py:1509: UndefinedMetricWarning: Recall is ill-defined and being set to 0.0 in labels with no true samples. Use `zero_division` parameter to control this behavior.\n",
      "  _warn_prf(average, modifier, f\"{metric.capitalize()} is\", len(result))\n"
     ]
    }
   ],
   "source": [
    "svc = SVC()\n",
    "\n",
    "param_grid = {'C': [0.1, 1, 10], 'kernel': ['linear', 'poly', 'rbf', 'sigmoid'], 'gamma': ['scale', 'auto']}\n",
    "\n",
    "trainer = ModelTrainer(svc,param_grid)\n",
    "\n",
    "acc = trainer.train(X_train, y_train, X_test, y_test)"
   ]
  },
  {
   "cell_type": "markdown",
   "metadata": {},
   "source": [
    "## EXTERA"
   ]
  },
  {
   "cell_type": "code",
   "execution_count": 112,
   "metadata": {},
   "outputs": [],
   "source": [
    "df['battery_capacity'] = df['battery_capacity'].apply(clustering)"
   ]
  },
  {
   "cell_type": "code",
   "execution_count": 113,
   "metadata": {},
   "outputs": [
    {
     "data": {
      "text/html": [
       "<div>\n",
       "<style scoped>\n",
       "    .dataframe tbody tr th:only-of-type {\n",
       "        vertical-align: middle;\n",
       "    }\n",
       "\n",
       "    .dataframe tbody tr th {\n",
       "        vertical-align: top;\n",
       "    }\n",
       "\n",
       "    .dataframe thead th {\n",
       "        text-align: right;\n",
       "    }\n",
       "</style>\n",
       "<table border=\"1\" class=\"dataframe\">\n",
       "  <thead>\n",
       "    <tr style=\"text-align: right;\">\n",
       "      <th></th>\n",
       "      <th>2G</th>\n",
       "      <th>3G</th>\n",
       "      <th>4G</th>\n",
       "      <th>5G</th>\n",
       "      <th>Announced</th>\n",
       "      <th>Display Size</th>\n",
       "      <th>ppi</th>\n",
       "      <th>body ratio</th>\n",
       "      <th>Price</th>\n",
       "      <th>CPU</th>\n",
       "      <th>...</th>\n",
       "      <th>Status_Available</th>\n",
       "      <th>Status_Coming</th>\n",
       "      <th>Status_Discontinued</th>\n",
       "      <th>OS_name_Android</th>\n",
       "      <th>OS_name_EMUI</th>\n",
       "      <th>OS_name_HarmonyOS</th>\n",
       "      <th>OS_name_Others</th>\n",
       "      <th>OS_name_Windows</th>\n",
       "      <th>OS_name_iOS</th>\n",
       "      <th>OS_name_iPadOS</th>\n",
       "    </tr>\n",
       "  </thead>\n",
       "  <tbody>\n",
       "    <tr>\n",
       "      <th>0</th>\n",
       "      <td>True</td>\n",
       "      <td>True</td>\n",
       "      <td>True</td>\n",
       "      <td>False</td>\n",
       "      <td>2022.0</td>\n",
       "      <td>5.50</td>\n",
       "      <td>293.0</td>\n",
       "      <td>74.0</td>\n",
       "      <td>100.0</td>\n",
       "      <td>4.0</td>\n",
       "      <td>...</td>\n",
       "      <td>True</td>\n",
       "      <td>False</td>\n",
       "      <td>False</td>\n",
       "      <td>True</td>\n",
       "      <td>False</td>\n",
       "      <td>False</td>\n",
       "      <td>False</td>\n",
       "      <td>False</td>\n",
       "      <td>False</td>\n",
       "      <td>False</td>\n",
       "    </tr>\n",
       "    <tr>\n",
       "      <th>1</th>\n",
       "      <td>True</td>\n",
       "      <td>True</td>\n",
       "      <td>True</td>\n",
       "      <td>False</td>\n",
       "      <td>2021.0</td>\n",
       "      <td>6.10</td>\n",
       "      <td>282.0</td>\n",
       "      <td>78.1</td>\n",
       "      <td>110.0</td>\n",
       "      <td>8.0</td>\n",
       "      <td>...</td>\n",
       "      <td>True</td>\n",
       "      <td>False</td>\n",
       "      <td>False</td>\n",
       "      <td>True</td>\n",
       "      <td>False</td>\n",
       "      <td>False</td>\n",
       "      <td>False</td>\n",
       "      <td>False</td>\n",
       "      <td>False</td>\n",
       "      <td>False</td>\n",
       "    </tr>\n",
       "    <tr>\n",
       "      <th>2</th>\n",
       "      <td>True</td>\n",
       "      <td>True</td>\n",
       "      <td>True</td>\n",
       "      <td>False</td>\n",
       "      <td>2021.0</td>\n",
       "      <td>5.00</td>\n",
       "      <td>215.0</td>\n",
       "      <td>71.4</td>\n",
       "      <td>60.0</td>\n",
       "      <td>4.0</td>\n",
       "      <td>...</td>\n",
       "      <td>True</td>\n",
       "      <td>False</td>\n",
       "      <td>False</td>\n",
       "      <td>True</td>\n",
       "      <td>False</td>\n",
       "      <td>False</td>\n",
       "      <td>False</td>\n",
       "      <td>False</td>\n",
       "      <td>False</td>\n",
       "      <td>False</td>\n",
       "    </tr>\n",
       "    <tr>\n",
       "      <th>3</th>\n",
       "      <td>True</td>\n",
       "      <td>True</td>\n",
       "      <td>True</td>\n",
       "      <td>False</td>\n",
       "      <td>2021.0</td>\n",
       "      <td>6.52</td>\n",
       "      <td>269.0</td>\n",
       "      <td>82.0</td>\n",
       "      <td>330.0</td>\n",
       "      <td>8.0</td>\n",
       "      <td>...</td>\n",
       "      <td>True</td>\n",
       "      <td>False</td>\n",
       "      <td>False</td>\n",
       "      <td>True</td>\n",
       "      <td>False</td>\n",
       "      <td>False</td>\n",
       "      <td>False</td>\n",
       "      <td>False</td>\n",
       "      <td>False</td>\n",
       "      <td>False</td>\n",
       "    </tr>\n",
       "    <tr>\n",
       "      <th>4</th>\n",
       "      <td>True</td>\n",
       "      <td>True</td>\n",
       "      <td>True</td>\n",
       "      <td>False</td>\n",
       "      <td>2021.0</td>\n",
       "      <td>6.52</td>\n",
       "      <td>269.0</td>\n",
       "      <td>82.0</td>\n",
       "      <td>130.0</td>\n",
       "      <td>8.0</td>\n",
       "      <td>...</td>\n",
       "      <td>True</td>\n",
       "      <td>False</td>\n",
       "      <td>False</td>\n",
       "      <td>True</td>\n",
       "      <td>False</td>\n",
       "      <td>False</td>\n",
       "      <td>False</td>\n",
       "      <td>False</td>\n",
       "      <td>False</td>\n",
       "      <td>False</td>\n",
       "    </tr>\n",
       "    <tr>\n",
       "      <th>...</th>\n",
       "      <td>...</td>\n",
       "      <td>...</td>\n",
       "      <td>...</td>\n",
       "      <td>...</td>\n",
       "      <td>...</td>\n",
       "      <td>...</td>\n",
       "      <td>...</td>\n",
       "      <td>...</td>\n",
       "      <td>...</td>\n",
       "      <td>...</td>\n",
       "      <td>...</td>\n",
       "      <td>...</td>\n",
       "      <td>...</td>\n",
       "      <td>...</td>\n",
       "      <td>...</td>\n",
       "      <td>...</td>\n",
       "      <td>...</td>\n",
       "      <td>...</td>\n",
       "      <td>...</td>\n",
       "      <td>...</td>\n",
       "      <td>...</td>\n",
       "    </tr>\n",
       "    <tr>\n",
       "      <th>2618</th>\n",
       "      <td>True</td>\n",
       "      <td>True</td>\n",
       "      <td>False</td>\n",
       "      <td>False</td>\n",
       "      <td>2011.0</td>\n",
       "      <td>4.20</td>\n",
       "      <td>222.0</td>\n",
       "      <td>60.9</td>\n",
       "      <td>200.0</td>\n",
       "      <td>2.0</td>\n",
       "      <td>...</td>\n",
       "      <td>False</td>\n",
       "      <td>False</td>\n",
       "      <td>True</td>\n",
       "      <td>True</td>\n",
       "      <td>False</td>\n",
       "      <td>False</td>\n",
       "      <td>False</td>\n",
       "      <td>False</td>\n",
       "      <td>False</td>\n",
       "      <td>False</td>\n",
       "    </tr>\n",
       "    <tr>\n",
       "      <th>2626</th>\n",
       "      <td>True</td>\n",
       "      <td>True</td>\n",
       "      <td>False</td>\n",
       "      <td>False</td>\n",
       "      <td>2011.0</td>\n",
       "      <td>10.10</td>\n",
       "      <td>149.0</td>\n",
       "      <td>65.7</td>\n",
       "      <td>370.0</td>\n",
       "      <td>2.0</td>\n",
       "      <td>...</td>\n",
       "      <td>False</td>\n",
       "      <td>False</td>\n",
       "      <td>True</td>\n",
       "      <td>True</td>\n",
       "      <td>False</td>\n",
       "      <td>False</td>\n",
       "      <td>False</td>\n",
       "      <td>False</td>\n",
       "      <td>False</td>\n",
       "      <td>False</td>\n",
       "    </tr>\n",
       "    <tr>\n",
       "      <th>2627</th>\n",
       "      <td>True</td>\n",
       "      <td>True</td>\n",
       "      <td>True</td>\n",
       "      <td>False</td>\n",
       "      <td>2011.0</td>\n",
       "      <td>10.10</td>\n",
       "      <td>149.0</td>\n",
       "      <td>65.7</td>\n",
       "      <td>290.0</td>\n",
       "      <td>2.0</td>\n",
       "      <td>...</td>\n",
       "      <td>False</td>\n",
       "      <td>False</td>\n",
       "      <td>True</td>\n",
       "      <td>True</td>\n",
       "      <td>False</td>\n",
       "      <td>False</td>\n",
       "      <td>False</td>\n",
       "      <td>False</td>\n",
       "      <td>False</td>\n",
       "      <td>False</td>\n",
       "    </tr>\n",
       "    <tr>\n",
       "      <th>2628</th>\n",
       "      <td>True</td>\n",
       "      <td>True</td>\n",
       "      <td>False</td>\n",
       "      <td>False</td>\n",
       "      <td>2011.0</td>\n",
       "      <td>8.90</td>\n",
       "      <td>170.0</td>\n",
       "      <td>63.0</td>\n",
       "      <td>290.0</td>\n",
       "      <td>2.0</td>\n",
       "      <td>...</td>\n",
       "      <td>False</td>\n",
       "      <td>False</td>\n",
       "      <td>True</td>\n",
       "      <td>True</td>\n",
       "      <td>False</td>\n",
       "      <td>False</td>\n",
       "      <td>False</td>\n",
       "      <td>False</td>\n",
       "      <td>False</td>\n",
       "      <td>False</td>\n",
       "    </tr>\n",
       "    <tr>\n",
       "      <th>2631</th>\n",
       "      <td>True</td>\n",
       "      <td>True</td>\n",
       "      <td>False</td>\n",
       "      <td>False</td>\n",
       "      <td>2011.0</td>\n",
       "      <td>4.30</td>\n",
       "      <td>217.0</td>\n",
       "      <td>63.5</td>\n",
       "      <td>170.0</td>\n",
       "      <td>2.0</td>\n",
       "      <td>...</td>\n",
       "      <td>False</td>\n",
       "      <td>False</td>\n",
       "      <td>True</td>\n",
       "      <td>True</td>\n",
       "      <td>False</td>\n",
       "      <td>False</td>\n",
       "      <td>False</td>\n",
       "      <td>False</td>\n",
       "      <td>False</td>\n",
       "      <td>False</td>\n",
       "    </tr>\n",
       "  </tbody>\n",
       "</table>\n",
       "<p>2175 rows × 42 columns</p>\n",
       "</div>"
      ],
      "text/plain": [
       "        2G    3G     4G     5G  Announced  Display Size    ppi  body ratio  \\\n",
       "0     True  True   True  False     2022.0          5.50  293.0        74.0   \n",
       "1     True  True   True  False     2021.0          6.10  282.0        78.1   \n",
       "2     True  True   True  False     2021.0          5.00  215.0        71.4   \n",
       "3     True  True   True  False     2021.0          6.52  269.0        82.0   \n",
       "4     True  True   True  False     2021.0          6.52  269.0        82.0   \n",
       "...    ...   ...    ...    ...        ...           ...    ...         ...   \n",
       "2618  True  True  False  False     2011.0          4.20  222.0        60.9   \n",
       "2626  True  True  False  False     2011.0         10.10  149.0        65.7   \n",
       "2627  True  True   True  False     2011.0         10.10  149.0        65.7   \n",
       "2628  True  True  False  False     2011.0          8.90  170.0        63.0   \n",
       "2631  True  True  False  False     2011.0          4.30  217.0        63.5   \n",
       "\n",
       "      Price  CPU  ...  Status_Available  Status_Coming  Status_Discontinued  \\\n",
       "0     100.0  4.0  ...              True          False                False   \n",
       "1     110.0  8.0  ...              True          False                False   \n",
       "2      60.0  4.0  ...              True          False                False   \n",
       "3     330.0  8.0  ...              True          False                False   \n",
       "4     130.0  8.0  ...              True          False                False   \n",
       "...     ...  ...  ...               ...            ...                  ...   \n",
       "2618  200.0  2.0  ...             False          False                 True   \n",
       "2626  370.0  2.0  ...             False          False                 True   \n",
       "2627  290.0  2.0  ...             False          False                 True   \n",
       "2628  290.0  2.0  ...             False          False                 True   \n",
       "2631  170.0  2.0  ...             False          False                 True   \n",
       "\n",
       "      OS_name_Android  OS_name_EMUI  OS_name_HarmonyOS  OS_name_Others  \\\n",
       "0                True         False              False           False   \n",
       "1                True         False              False           False   \n",
       "2                True         False              False           False   \n",
       "3                True         False              False           False   \n",
       "4                True         False              False           False   \n",
       "...               ...           ...                ...             ...   \n",
       "2618             True         False              False           False   \n",
       "2626             True         False              False           False   \n",
       "2627             True         False              False           False   \n",
       "2628             True         False              False           False   \n",
       "2631             True         False              False           False   \n",
       "\n",
       "      OS_name_Windows  OS_name_iOS  OS_name_iPadOS  \n",
       "0               False        False           False  \n",
       "1               False        False           False  \n",
       "2               False        False           False  \n",
       "3               False        False           False  \n",
       "4               False        False           False  \n",
       "...               ...          ...             ...  \n",
       "2618            False        False           False  \n",
       "2626            False        False           False  \n",
       "2627            False        False           False  \n",
       "2628            False        False           False  \n",
       "2631            False        False           False  \n",
       "\n",
       "[2175 rows x 42 columns]"
      ]
     },
     "execution_count": 113,
     "metadata": {},
     "output_type": "execute_result"
    }
   ],
   "source": [
    "X=df.drop(['Unnamed: 0', 'name','Weight','OS',\n",
    "           'Length', 'Width', 'Diameter', \n",
    "           'Display Type','ratio','WLAN', \n",
    "           'Colors', 'Sensors', 'Bluetooth', \n",
    "           'GPU','Chipset', 'Network', 'Internal',\n",
    "           'Card slot','pixel','battery_capacity'],axis=1)\n",
    "y = df['battery_capacity']\n",
    "OS_name = pd.get_dummies(X['OS_name'],prefix='OS_name')\n",
    "X = pd.concat([X,OS_name],axis=1).drop(['OS_name'],axis=1)\n",
    "X"
   ]
  },
  {
   "cell_type": "code",
   "execution_count": 114,
   "metadata": {},
   "outputs": [],
   "source": [
    "X_train_val, X_test, y_train_val, y_test = train_test_split(X, y, test_size=0.15, random_state=42)\n",
    "\n",
    "X_train, X_val, y_train, y_val = train_test_split(X_train_val, y_train_val, test_size=0.25, random_state=42)"
   ]
  },
  {
   "cell_type": "code",
   "execution_count": 115,
   "metadata": {},
   "outputs": [],
   "source": [
    "scaler = StandardScaler()\n",
    "X_train= scaler.fit_transform(X_train)\n",
    "X_test= scaler.transform(X_test)\n",
    "X_val= scaler.transform(X_val)"
   ]
  },
  {
   "cell_type": "code",
   "execution_count": 116,
   "metadata": {},
   "outputs": [],
   "source": [
    "model_name = []\n",
    "model_acc = []"
   ]
  },
  {
   "cell_type": "code",
   "execution_count": 117,
   "metadata": {},
   "outputs": [
    {
     "name": "stdout",
     "output_type": "stream",
     "text": [
      "Best Parameters: {'n_neighbors': 3, 'weights': 'distance'}\n",
      "Cross Validation Scores: [0.76978417 0.77256318 0.7833935  0.77256318 0.79783394]\n",
      "Mean Cross Validation Score: 0.7792275926551178\n",
      "Training Set Scores in Each Fold:\n",
      "[0.8744584  1.         0.83748051 1.         0.81601811 1.\n",
      " 0.79996305 1.         0.75504976 1.        ]\n",
      "validation Set Score: 0.7922077922077922\n",
      "Confusion Matrix:\n",
      "[[248  16   6]\n",
      " [ 31  42  11]\n",
      " [  4  28  76]]\n",
      "F1 Score: 0.7907954676640764\n",
      "Accuracy Score: 0.7922077922077922\n",
      "Classification Report:\n",
      "              precision    recall  f1-score   support\n",
      "\n",
      "           1       0.88      0.92      0.90       270\n",
      "           2       0.49      0.50      0.49        84\n",
      "           3       0.82      0.70      0.76       108\n",
      "\n",
      "    accuracy                           0.79       462\n",
      "   macro avg       0.73      0.71      0.72       462\n",
      "weighted avg       0.79      0.79      0.79       462\n",
      "\n"
     ]
    }
   ],
   "source": [
    "knn = KNeighborsClassifier()\n",
    "param_grid = {'n_neighbors': [3, 5, 7,10,20], 'weights': ['uniform', 'distance']}\n",
    "\n",
    "trainer = ModelTrainer(knn, param_grid)\n",
    "\n",
    "acc = trainer.train(X_train, y_train, X_val, y_val)\n",
    "\n",
    "model_name.append(\"KNN\")\n",
    "model_acc.append(acc)"
   ]
  },
  {
   "cell_type": "code",
   "execution_count": 118,
   "metadata": {},
   "outputs": [
    {
     "name": "stdout",
     "output_type": "stream",
     "text": [
      "validation Set Score: 0.8268398268398268\n",
      "Confusion Matrix:\n",
      "[[255  11   4]\n",
      " [ 27  46  11]\n",
      " [  2  25  81]]\n",
      "F1 Score: 0.8244045009275394\n",
      "Accuracy Score: 0.8268398268398268\n",
      "Classification Report:\n",
      "              precision    recall  f1-score   support\n",
      "\n",
      "           1       0.90      0.94      0.92       270\n",
      "           2       0.56      0.55      0.55        84\n",
      "           3       0.84      0.75      0.79       108\n",
      "\n",
      "    accuracy                           0.83       462\n",
      "   macro avg       0.77      0.75      0.76       462\n",
      "weighted avg       0.82      0.83      0.82       462\n",
      "\n"
     ]
    }
   ],
   "source": [
    "LogReg = LogisticRegression()\n",
    "\n",
    "trainer = ModelTrainer(LogReg)\n",
    "\n",
    "acc = trainer.train(X_train, y_train, X_val, y_val)\n",
    "\n",
    "model_acc.append(acc)\n",
    "model_name.append(\"LogReg\")"
   ]
  },
  {
   "cell_type": "code",
   "execution_count": 119,
   "metadata": {},
   "outputs": [
    {
     "name": "stdout",
     "output_type": "stream",
     "text": [
      "Best Parameters: {'max_depth': None, 'min_samples_leaf': 4, 'min_samples_split': 2}\n",
      "Cross Validation Scores: [0.85251799 0.81227437 0.81949458 0.82310469 0.81949458]\n",
      "Mean Cross Validation Score: 0.8253772433316884\n",
      "Training Set Scores in Each Fold:\n",
      "[1.         0.97240318 0.94137708 0.95508703 0.94913442 0.92676689\n",
      " 0.91720628 0.91720628 0.91413981 0.80933924 0.80933924 0.80933924\n",
      " 0.80861771 0.80861771 0.80861771 0.80861771 0.80861771 0.80861771\n",
      " 0.85010694 0.84884454 0.84776216 0.84667994 0.84667994 0.8459584\n",
      " 0.84379364 0.84379364 0.84379364 0.89935204 0.89466248 0.88888988\n",
      " 0.88889021 0.88870954 0.88474119 0.88239527 0.88239527 0.88077219]\n",
      "validation Set Score: 0.8376623376623377\n",
      "Confusion Matrix:\n",
      "[[246  16   8]\n",
      " [ 22  55   7]\n",
      " [  6  16  86]]\n",
      "F1 Score: 0.837893175248931\n",
      "Accuracy Score: 0.8376623376623377\n",
      "Classification Report:\n",
      "              precision    recall  f1-score   support\n",
      "\n",
      "           1       0.90      0.91      0.90       270\n",
      "           2       0.63      0.65      0.64        84\n",
      "           3       0.85      0.80      0.82       108\n",
      "\n",
      "    accuracy                           0.84       462\n",
      "   macro avg       0.79      0.79      0.79       462\n",
      "weighted avg       0.84      0.84      0.84       462\n",
      "\n"
     ]
    }
   ],
   "source": [
    "tree_clf = DecisionTreeClassifier()\n",
    "param_grid = {'max_depth': [None, 3, 5, 7], 'min_samples_split': [2, 5, 10], 'min_samples_leaf': [1, 2, 4]}\n",
    "\n",
    "trainer = ModelTrainer(tree_clf,param_grid)\n",
    "\n",
    "\n",
    "acc = trainer.train(X_train, y_train, X_val, y_val)\n",
    "\n",
    "model_acc.append(acc)\n",
    "model_name.append(\"DTC\")"
   ]
  },
  {
   "cell_type": "code",
   "execution_count": 120,
   "metadata": {},
   "outputs": [
    {
     "name": "stdout",
     "output_type": "stream",
     "text": [
      "Best Parameters: {'C': 10, 'gamma': 'scale', 'kernel': 'rbf'}\n",
      "Cross Validation Scores: [0.85611511 0.86642599 0.81588448 0.83393502 0.84837545]\n",
      "Mean Cross Validation Score: 0.8441472093083655\n",
      "Training Set Scores in Each Fold:\n",
      "[0.84397447 0.62968866 0.76010277 0.72276256 0.84397447 0.62608165\n",
      " 0.75974208 0.72095914 0.85894356 0.77886199 0.86435645 0.78769568\n",
      " 0.85894356 0.77038539 0.86345457 0.78913859 0.8621912  0.90620343\n",
      " 0.92189666 0.72817349 0.8621912  0.90530172 0.92117529 0.72564479]\n",
      "validation Set Score: 0.8506493506493507\n",
      "Confusion Matrix:\n",
      "[[252  15   3]\n",
      " [ 19  56   9]\n",
      " [  2  21  85]]\n",
      "F1 Score: 0.8519983893310202\n",
      "Accuracy Score: 0.8506493506493507\n",
      "Classification Report:\n",
      "              precision    recall  f1-score   support\n",
      "\n",
      "           1       0.92      0.93      0.93       270\n",
      "           2       0.61      0.67      0.64        84\n",
      "           3       0.88      0.79      0.83       108\n",
      "\n",
      "    accuracy                           0.85       462\n",
      "   macro avg       0.80      0.80      0.80       462\n",
      "weighted avg       0.85      0.85      0.85       462\n",
      "\n"
     ]
    }
   ],
   "source": [
    "svc = SVC()\n",
    "\n",
    "param_grid = {'C': [0.1, 1, 10], 'kernel': ['linear', 'poly', 'rbf', 'sigmoid'], 'gamma': ['scale', 'auto']}\n",
    "\n",
    "trainer = ModelTrainer(svc,param_grid)\n",
    "\n",
    "acc = trainer.train(X_train, y_train, X_val, y_val)\n",
    "\n",
    "model_acc.append(acc)\n",
    "model_name.append(\"SVC\")"
   ]
  },
  {
   "cell_type": "code",
   "execution_count": 121,
   "metadata": {},
   "outputs": [
    {
     "name": "stdout",
     "output_type": "stream",
     "text": [
      "Best Parameters: {'max_depth': None, 'min_samples_leaf': 1, 'min_samples_split': 2, 'n_estimators': 100}\n",
      "Cross Validation Scores: [0.9028777  0.86281588 0.87725632 0.85559567 0.8700361 ]\n",
      "Mean Cross Validation Score: 0.873716333792172\n",
      "Training Set Scores in Each Fold:\n",
      "[1.         1.         1.         0.98124095 0.97997773 0.98051941\n",
      " 0.9514792  0.95310294 0.95165889 0.95869388 0.96031697 0.96085799\n",
      " 0.95490604 0.95382382 0.95562773 0.93596631 0.93470424 0.93632749\n",
      " 0.91792879 0.91522317 0.91738825 0.91648589 0.91666705 0.9190115\n",
      " 0.91161534 0.9137814  0.91360057 0.86417757 0.86886762 0.86940734\n",
      " 0.86309454 0.87031003 0.86399658 0.86165066 0.86417838 0.86020987\n",
      " 0.86020971 0.86471811 0.86507961 0.86075008 0.86291501 0.86724356\n",
      " 0.86111126 0.86057023 0.86561917 0.86057104 0.86291582 0.86147129\n",
      " 0.86002757 0.85858678 0.86598034 0.85822447 0.85948736 0.86273499\n",
      " 0.96536819 0.9653677  0.96771248 0.94967512 0.95129821 0.95093817\n",
      " 0.93145693 0.93344152 0.93181713 0.94209927 0.93975384 0.94173793\n",
      " 0.93777023 0.93704853 0.93813108 0.92279984 0.92334021 0.92370074\n",
      " 0.90728695 0.90963238 0.91089462 0.91035375 0.91107415 0.91305873\n",
      " 0.90963206 0.90999193 0.90927121]\n",
      "validation Set Score: 0.8809523809523809\n",
      "Confusion Matrix:\n",
      "[[257  10   3]\n",
      " [ 20  56   8]\n",
      " [  3  11  94]]\n",
      "F1 Score: 0.8789740238050654\n",
      "Accuracy Score: 0.8809523809523809\n",
      "Classification Report:\n",
      "              precision    recall  f1-score   support\n",
      "\n",
      "           1       0.92      0.95      0.93       270\n",
      "           2       0.73      0.67      0.70        84\n",
      "           3       0.90      0.87      0.88       108\n",
      "\n",
      "    accuracy                           0.88       462\n",
      "   macro avg       0.85      0.83      0.84       462\n",
      "weighted avg       0.88      0.88      0.88       462\n",
      "\n"
     ]
    }
   ],
   "source": [
    "rf = RandomForestClassifier()\n",
    "\n",
    "param_grid = {\n",
    "    'n_estimators': [100, 200, 300],\n",
    "    'max_depth': [None, 5, 10],\n",
    "    'min_samples_split': [2, 5, 10],\n",
    "    'min_samples_leaf': [1, 2, 4]\n",
    "}\n",
    "\n",
    "trainer = ModelTrainer(rf,param_grid)\n",
    "acc = trainer.train(X_train, y_train, X_val, y_val)\n",
    "\n",
    "model_acc.append(acc)\n",
    "model_name.append(\"RF\")"
   ]
  },
  {
   "cell_type": "code",
   "execution_count": 122,
   "metadata": {},
   "outputs": [
    {
     "data": {
      "text/plain": [
       "[<matplotlib.lines.Line2D at 0x1ea9eb52150>]"
      ]
     },
     "execution_count": 122,
     "metadata": {},
     "output_type": "execute_result"
    },
    {
     "data": {
      "image/png": "[encoded data removed]",
      "text/plain": [
       "<Figure size 2000x1000 with 1 Axes>"
      ]
     },
     "metadata": {},
     "output_type": "display_data"
    }
   ],
   "source": [
    "ax = plt.subplots(figsize=(20,10))\n",
    "ax = plt.plot(model_name , model_acc)\n",
    "ax"
   ]
  },
  {
   "cell_type": "code",
   "execution_count": 123,
   "metadata": {},
   "outputs": [],
   "source": [
    "#Number of trees\n",
    "n_estimator = [int(x) for x in np.linspace(start = 10 ,stop = 80, num = 10)]\n",
    "#Number of features to consider at every split\n",
    "max_features = ['log2' , 'sqrt']\n",
    "#Maximum samples required\n",
    "max_depth =  [int(x) for x in np.linspace(start = 10 ,stop = 100, num = 5)]\n",
    "#Minimum samples required to split the node\n",
    "min_samples_split = [int(x) for x in np.linspace(start = 5 ,stop = 60, num = 5)]\n",
    "#Minimum number of samples required at each leaf\n",
    "min_samples_leaf = [int(x) for x in np.linspace(start = 1 ,stop = 10, num = 2)]\n",
    "#Method of selecting samples for training each tree\n",
    "bootstrap = [True , False]"
   ]
  },
  {
   "cell_type": "code",
   "execution_count": 124,
   "metadata": {},
   "outputs": [],
   "source": [
    "#creating the param grid\n",
    "param_grid = {\n",
    "    'n_estimators': n_estimator,\n",
    "    'max_features': max_features,\n",
    "    'max_depth': max_depth,\n",
    "    'min_samples_split': min_samples_split,\n",
    "    'min_samples_leaf': min_samples_leaf,\n",
    "    'bootstrap':bootstrap\n",
    "}"
   ]
  },
  {
   "cell_type": "code",
   "execution_count": 125,
   "metadata": {},
   "outputs": [
    {
     "name": "stdout",
     "output_type": "stream",
     "text": [
      "Best Parameters: {'bootstrap': False, 'max_depth': 32, 'max_features': 'sqrt', 'min_samples_leaf': 1, 'min_samples_split': 5, 'n_estimators': 48}\n",
      "Cross Validation Scores: [0.91366906 0.87364621 0.85559567 0.8700361  0.88447653]\n",
      "Mean Cross Validation Score: 0.8794847154767161\n",
      "Training Set Scores in Each Fold:\n",
      "[0.92929299 0.9341637  0.93975481 ... 0.8661602  0.87481697 0.87175212]\n",
      "validation Set Score: 0.8852813852813853\n",
      "Confusion Matrix:\n",
      "[[258   9   3]\n",
      " [ 19  59   6]\n",
      " [  4  12  92]]\n",
      "F1 Score: 0.8839171621092016\n",
      "Accuracy Score: 0.8852813852813853\n",
      "Classification Report:\n",
      "              precision    recall  f1-score   support\n",
      "\n",
      "           1       0.92      0.96      0.94       270\n",
      "           2       0.74      0.70      0.72        84\n",
      "           3       0.91      0.85      0.88       108\n",
      "\n",
      "    accuracy                           0.89       462\n",
      "   macro avg       0.86      0.84      0.85       462\n",
      "weighted avg       0.88      0.89      0.88       462\n",
      "\n"
     ]
    }
   ],
   "source": [
    "rf_Model2 = RandomForestClassifier()\n",
    "\n",
    "trainer = ModelTrainer(rf_Model2,param_grid)\n",
    "\n",
    "acc = trainer.train(X_train, y_train, X_val, y_val)\n",
    "\n",
    "model_acc.append(acc)\n",
    "model_name.append(\"RF_tuned\")"
   ]
  },
  {
   "cell_type": "code",
   "execution_count": 126,
   "metadata": {},
   "outputs": [
    {
     "data": {
      "text/plain": [
       "[<matplotlib.lines.Line2D at 0x1ea8db16950>]"
      ]
     },
     "execution_count": 126,
     "metadata": {},
     "output_type": "execute_result"
    },
    {
     "data": {
      "image/png": "[encoded data removed]",
      "text/plain": [
       "<Figure size 2000x1000 with 1 Axes>"
      ]
     },
     "metadata": {},
     "output_type": "display_data"
    }
   ],
   "source": [
    "ax = plt.subplots(figsize=(20,10))\n",
    "ax = plt.plot(model_name , model_acc)\n",
    "ax"
   ]
  },
  {
   "cell_type": "code",
   "execution_count": 127,
   "metadata": {},
   "outputs": [
    {
     "name": "stdout",
     "output_type": "stream",
     "text": [
      "Best Parameters: {'bootstrap': False, 'max_depth': 100, 'max_features': 'log2', 'min_samples_leaf': 1, 'min_samples_split': 5, 'n_estimators': 72}\n",
      "Cross Validation Scores: [0.89568345 0.8700361  0.86642599 0.8700361  0.88086643]\n",
      "Mean Cross Validation Score: 0.8766096148352076\n",
      "Training Set Scores in Each Fold:\n",
      "[0.93109576 0.93560612 0.94011436 ... 0.86489878 0.86886648 0.87193198]\n",
      "validation Set Score: 0.8715596330275229\n",
      "Confusion Matrix:\n",
      "[[172   5   0]\n",
      " [ 13  49   9]\n",
      " [  3  12  64]]\n",
      "F1 Score: 0.8689023709893618\n",
      "Accuracy Score: 0.8715596330275229\n",
      "Classification Report:\n",
      "              precision    recall  f1-score   support\n",
      "\n",
      "           1       0.91      0.97      0.94       177\n",
      "           2       0.74      0.69      0.72        71\n",
      "           3       0.88      0.81      0.84        79\n",
      "\n",
      "    accuracy                           0.87       327\n",
      "   macro avg       0.84      0.82      0.83       327\n",
      "weighted avg       0.87      0.87      0.87       327\n",
      "\n"
     ]
    }
   ],
   "source": [
    "rf_Model2 = RandomForestClassifier()\n",
    "\n",
    "trainer = ModelTrainer(rf_Model2,param_grid)\n",
    "\n",
    "acc = trainer.train(X_train, y_train, X_test, y_test)\n",
    "\n",
    "model_acc.append(acc)\n",
    "model_name.append(\"RF_tuned\")"
   ]
  },
  {
   "cell_type": "markdown",
   "metadata": {},
   "source": [
    "NN"
   ]
  },
  {
   "cell_type": "code",
   "execution_count": 103,
   "metadata": {},
   "outputs": [
    {
     "ename": "NameError",
     "evalue": "name 'nn' is not defined",
     "output_type": "error",
     "traceback": [
      "\u001b[1;31m---------------------------------------------------------------------------\u001b[0m",
      "\u001b[1;31mNameError\u001b[0m                                 Traceback (most recent call last)",
      "\u001b[1;32mc:\\Users\\Nathan\\QDB\\project fase2\\task2 - Mahsa Edition.ipynb Cell 63\u001b[0m line \u001b[0;36m1\n\u001b[1;32m----> <a href='vscode-notebook-cell:/c%3A/Users/Nathan/QDB/project%20fase2/task2%20-%20Mahsa%20Edition.ipynb#Y120sZmlsZQ%3D%3D?line=0'>1</a>\u001b[0m \u001b[39mclass\u001b[39;00m \u001b[39mClassification_nn\u001b[39;00m(nn\u001b[39m.\u001b[39mModule):\n\u001b[0;32m      <a href='vscode-notebook-cell:/c%3A/Users/Nathan/QDB/project%20fase2/task2%20-%20Mahsa%20Edition.ipynb#Y120sZmlsZQ%3D%3D?line=1'>2</a>\u001b[0m     \u001b[39mdef\u001b[39;00m \u001b[39m__init__\u001b[39m(\u001b[39mself\u001b[39m , in_features , hidden_features , y):\n\u001b[0;32m      <a href='vscode-notebook-cell:/c%3A/Users/Nathan/QDB/project%20fase2/task2%20-%20Mahsa%20Edition.ipynb#Y120sZmlsZQ%3D%3D?line=2'>3</a>\u001b[0m         \u001b[39msuper\u001b[39m()\u001b[39m.\u001b[39m\u001b[39m__init__\u001b[39m()\n",
      "\u001b[1;31mNameError\u001b[0m: name 'nn' is not defined"
     ]
    }
   ],
   "source": [
    "class Classification_nn(nn.Module):\n",
    "    def __init__(self , in_features , hidden_features , y):\n",
    "        super().__init__()\n",
    "        self.flatten = nn.Flatten()\n",
    "        self.block_1 = nn.Sequential(\n",
    "            nn.Linear(in_features, hidden_features),\n",
    "            nn.Sigmoid(),\n",
    "            nn.Linear(hidden_features , 512),\n",
    "            nn.Sigmoid(),\n",
    "            nn.Linear(512 , 1))\n",
    "    def forward(self, x: torch.Tensor):\n",
    "        x = self.block_1(x)\n",
    "        return x.squeeze().float()"
   ]
  },
  {
   "cell_type": "code",
   "execution_count": null,
   "metadata": {},
   "outputs": [
    {
     "name": "stdout",
     "output_type": "stream",
     "text": [
      "Classification_nn(\n",
      "  (flatten): Flatten(start_dim=1, end_dim=-1)\n",
      "  (block_1): Sequential(\n",
      "    (0): Linear(in_features=7, out_features=256, bias=True)\n",
      "    (1): Sigmoid()\n",
      "    (2): Linear(in_features=256, out_features=512, bias=True)\n",
      "    (3): Sigmoid()\n",
      "    (4): Linear(in_features=512, out_features=1, bias=True)\n",
      "  )\n",
      ")\n"
     ]
    }
   ],
   "source": [
    "c_model = Classification_nn(7 , 256 , len(list(df1['OS'].unique())))\n",
    "print(c_model)"
   ]
  },
  {
   "cell_type": "code",
   "execution_count": null,
   "metadata": {},
   "outputs": [],
   "source": [
    "criterion = torch.nn.BCELoss()\n",
    "optimizer_sgd = optim.Adam(c_model.parameters() , lr= 0.01)"
   ]
  },
  {
   "cell_type": "code",
   "execution_count": null,
   "metadata": {},
   "outputs": [
    {
     "data": {
      "text/plain": [
       "array([[0.        , 0.4       , 0.05      , ..., 0.87272727, 0.44008264,\n",
       "        0.25951557],\n",
       "       [0.        , 0.8       , 0.055     , ..., 0.36363636, 0.97107438,\n",
       "        0.25951557],\n",
       "       [0.        , 0.4       , 0.03      , ..., 0.86818182, 0.3946281 ,\n",
       "        0.17301038],\n",
       "       ...,\n",
       "       [0.76923077, 0.2       , 0.145     , ..., 0.96818182, 0.56818182,\n",
       "        0.58823529],\n",
       "       [0.76923077, 0.2       , 0.145     , ..., 0.96818182, 0.56818182,\n",
       "        0.51903114],\n",
       "       [0.76923077, 0.2       , 0.085     , ..., 0.44090909, 0.07644628,\n",
       "        0.14273356]])"
      ]
     },
     "execution_count": 66,
     "metadata": {},
     "output_type": "execute_result"
    }
   ],
   "source": [
    "norm = MaxAbsScaler()\n",
    "X = norm.fit_transform(X)\n",
    "X"
   ]
  },
  {
   "cell_type": "code",
   "execution_count": null,
   "metadata": {},
   "outputs": [
    {
     "ename": "RuntimeError",
     "evalue": "all elements of target should be between 0 and 1",
     "output_type": "error",
     "traceback": [
      "\u001b[1;31m---------------------------------------------------------------------------\u001b[0m",
      "\u001b[1;31mRuntimeError\u001b[0m                              Traceback (most recent call last)",
      "\u001b[1;32mc:\\Users\\Nathan\\QDB\\project fase2\\task2.ipynb Cell 48\u001b[0m line \u001b[0;36m1\n\u001b[0;32m     <a href='vscode-notebook-cell:/c%3A/Users/Nathan/QDB/project%20fase2/task2.ipynb#X64sZmlsZQ%3D%3D?line=16'>17</a>\u001b[0m outputs \u001b[39m=\u001b[39m c_model(inputs)\n\u001b[0;32m     <a href='vscode-notebook-cell:/c%3A/Users/Nathan/QDB/project%20fase2/task2.ipynb#X64sZmlsZQ%3D%3D?line=17'>18</a>\u001b[0m \u001b[39m# Compute the loss (use your implemented loss function)\u001b[39;00m\n\u001b[1;32m---> <a href='vscode-notebook-cell:/c%3A/Users/Nathan/QDB/project%20fase2/task2.ipynb#X64sZmlsZQ%3D%3D?line=18'>19</a>\u001b[0m loss \u001b[39m=\u001b[39m criterion(outputs, labels)\n\u001b[0;32m     <a href='vscode-notebook-cell:/c%3A/Users/Nathan/QDB/project%20fase2/task2.ipynb#X64sZmlsZQ%3D%3D?line=19'>20</a>\u001b[0m \u001b[39m# Backward pass and optimization\u001b[39;00m\n\u001b[0;32m     <a href='vscode-notebook-cell:/c%3A/Users/Nathan/QDB/project%20fase2/task2.ipynb#X64sZmlsZQ%3D%3D?line=20'>21</a>\u001b[0m loss\u001b[39m.\u001b[39mbackward()\n",
      "File \u001b[1;32mc:\\Users\\Nathan\\AppData\\Local\\Programs\\Python\\Python311\\Lib\\site-packages\\torch\\nn\\modules\\module.py:1511\u001b[0m, in \u001b[0;36mModule._wrapped_call_impl\u001b[1;34m(self, *args, **kwargs)\u001b[0m\n\u001b[0;32m   1509\u001b[0m     \u001b[39mreturn\u001b[39;00m \u001b[39mself\u001b[39m\u001b[39m.\u001b[39m_compiled_call_impl(\u001b[39m*\u001b[39margs, \u001b[39m*\u001b[39m\u001b[39m*\u001b[39mkwargs)  \u001b[39m# type: ignore[misc]\u001b[39;00m\n\u001b[0;32m   1510\u001b[0m \u001b[39melse\u001b[39;00m:\n\u001b[1;32m-> 1511\u001b[0m     \u001b[39mreturn\u001b[39;00m \u001b[39mself\u001b[39;49m\u001b[39m.\u001b[39;49m_call_impl(\u001b[39m*\u001b[39;49margs, \u001b[39m*\u001b[39;49m\u001b[39m*\u001b[39;49mkwargs)\n",
      "File \u001b[1;32mc:\\Users\\Nathan\\AppData\\Local\\Programs\\Python\\Python311\\Lib\\site-packages\\torch\\nn\\modules\\module.py:1520\u001b[0m, in \u001b[0;36mModule._call_impl\u001b[1;34m(self, *args, **kwargs)\u001b[0m\n\u001b[0;32m   1515\u001b[0m \u001b[39m# If we don't have any hooks, we want to skip the rest of the logic in\u001b[39;00m\n\u001b[0;32m   1516\u001b[0m \u001b[39m# this function, and just call forward.\u001b[39;00m\n\u001b[0;32m   1517\u001b[0m \u001b[39mif\u001b[39;00m \u001b[39mnot\u001b[39;00m (\u001b[39mself\u001b[39m\u001b[39m.\u001b[39m_backward_hooks \u001b[39mor\u001b[39;00m \u001b[39mself\u001b[39m\u001b[39m.\u001b[39m_backward_pre_hooks \u001b[39mor\u001b[39;00m \u001b[39mself\u001b[39m\u001b[39m.\u001b[39m_forward_hooks \u001b[39mor\u001b[39;00m \u001b[39mself\u001b[39m\u001b[39m.\u001b[39m_forward_pre_hooks\n\u001b[0;32m   1518\u001b[0m         \u001b[39mor\u001b[39;00m _global_backward_pre_hooks \u001b[39mor\u001b[39;00m _global_backward_hooks\n\u001b[0;32m   1519\u001b[0m         \u001b[39mor\u001b[39;00m _global_forward_hooks \u001b[39mor\u001b[39;00m _global_forward_pre_hooks):\n\u001b[1;32m-> 1520\u001b[0m     \u001b[39mreturn\u001b[39;00m forward_call(\u001b[39m*\u001b[39;49margs, \u001b[39m*\u001b[39;49m\u001b[39m*\u001b[39;49mkwargs)\n\u001b[0;32m   1522\u001b[0m \u001b[39mtry\u001b[39;00m:\n\u001b[0;32m   1523\u001b[0m     result \u001b[39m=\u001b[39m \u001b[39mNone\u001b[39;00m\n",
      "File \u001b[1;32mc:\\Users\\Nathan\\AppData\\Local\\Programs\\Python\\Python311\\Lib\\site-packages\\torch\\nn\\modules\\loss.py:618\u001b[0m, in \u001b[0;36mBCELoss.forward\u001b[1;34m(self, input, target)\u001b[0m\n\u001b[0;32m    617\u001b[0m \u001b[39mdef\u001b[39;00m \u001b[39mforward\u001b[39m(\u001b[39mself\u001b[39m, \u001b[39minput\u001b[39m: Tensor, target: Tensor) \u001b[39m-\u001b[39m\u001b[39m>\u001b[39m Tensor:\n\u001b[1;32m--> 618\u001b[0m     \u001b[39mreturn\u001b[39;00m F\u001b[39m.\u001b[39;49mbinary_cross_entropy(\u001b[39minput\u001b[39;49m, target, weight\u001b[39m=\u001b[39;49m\u001b[39mself\u001b[39;49m\u001b[39m.\u001b[39;49mweight, reduction\u001b[39m=\u001b[39;49m\u001b[39mself\u001b[39;49m\u001b[39m.\u001b[39;49mreduction)\n",
      "File \u001b[1;32mc:\\Users\\Nathan\\AppData\\Local\\Programs\\Python\\Python311\\Lib\\site-packages\\torch\\nn\\functional.py:3127\u001b[0m, in \u001b[0;36mbinary_cross_entropy\u001b[1;34m(input, target, weight, size_average, reduce, reduction)\u001b[0m\n\u001b[0;32m   3124\u001b[0m     new_size \u001b[39m=\u001b[39m _infer_size(target\u001b[39m.\u001b[39msize(), weight\u001b[39m.\u001b[39msize())\n\u001b[0;32m   3125\u001b[0m     weight \u001b[39m=\u001b[39m weight\u001b[39m.\u001b[39mexpand(new_size)\n\u001b[1;32m-> 3127\u001b[0m \u001b[39mreturn\u001b[39;00m torch\u001b[39m.\u001b[39;49m_C\u001b[39m.\u001b[39;49m_nn\u001b[39m.\u001b[39;49mbinary_cross_entropy(\u001b[39minput\u001b[39;49m, target, weight, reduction_enum)\n",
      "\u001b[1;31mRuntimeError\u001b[0m: all elements of target should be between 0 and 1"
     ]
    }
   ],
   "source": [
    "num_epochs = 10\n",
    "train_losses = []\n",
    "train_accuracies = []\n",
    "\n",
    "\n",
    "for epoch in range(num_epochs):\n",
    "    c_model.train()\n",
    "    running_loss = 0.0\n",
    "    correct_predictions = 0\n",
    "    total_samples = 0\n",
    "\n",
    "    for inputs, labels in zip(torch.Tensor(X_train) , torch.Tensor(y_train)):\n",
    "        #print('Weights before update:', binary_mlp_classifier.block_1[1].weight)\n",
    "        # Zero the gradients\n",
    "        optimizer_sgd.zero_grad()\n",
    "\n",
    "        outputs = c_model(inputs)\n",
    "        # Compute the loss (use your implemented loss function)\n",
    "        loss = criterion(outputs, labels)\n",
    "        # Backward pass and optimization\n",
    "        loss.backward()\n",
    "        print(loss)\n",
    "        torch.nn.utils.clip_grad_norm_(c_model.parameters(), max_norm=1)\n",
    "        optimizer_sgd.step()\n",
    "        # Calculate training accuracy\n",
    "        predicted = (outputs >= 0.5).float()\n",
    "        correct_predictions += (predicted == labels.view(-1, 1)).sum().item()\n",
    "        total_samples += labels.size(0)\n",
    "        running_loss += loss.item()\n",
    "\n",
    "   \n",
    "    train_accuracy = correct_predictions / total_samples\n",
    "    avg_loss = running_loss / len(X_train)\n",
    "    train_losses.append(avg_loss)\n",
    "    train_accuracies.append(train_accuracy)\n",
    "\n",
    "    print(f\"Epoch [{epoch+1}/{num_epochs}] - Train Accuracy: {train_accuracy:.4f} - Train Loss: {avg_loss:.4f}\")"
   ]
  }
 ],
 "metadata": {
  "kernelspec": {
   "display_name": "Python 3 (ipykernel)",
   "language": "python",
   "name": "python3"
  },
  "language_info": {
   "codemirror_mode": {
    "name": "ipython",
    "version": 3
   },
   "file_extension": ".py",
   "mimetype": "text/x-python",
   "name": "python",
   "nbconvert_exporter": "python",
   "pygments_lexer": "ipython3",
   "version": "3.11.4"
  }
 },
 "nbformat": 4,
 "nbformat_minor": 2
}
