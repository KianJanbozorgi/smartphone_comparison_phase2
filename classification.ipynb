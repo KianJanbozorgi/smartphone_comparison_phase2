{
 "cells": [
  {
   "cell_type": "code",
   "execution_count": 1,
   "metadata": {},
   "outputs": [],
   "source": [
    "import pandas as pd\n",
    "import numpy as np\n",
    "import seaborn as sns \n",
    "import matplotlib.pyplot as plt\n",
    "from sklearn.preprocessing import StandardScaler , Normalizer , MaxAbsScaler\n",
    "from sklearn.preprocessing import LabelEncoder,OneHotEncoder\n",
    "from sklearn.model_selection import train_test_split, GridSearchCV, cross_val_score\n",
    "from sklearn.neighbors import KNeighborsClassifier\n",
    "from sklearn.linear_model import LogisticRegression\n",
    "from sklearn.tree import DecisionTreeClassifier\n",
    "from sklearn.svm import SVC\n",
    "from sklearn.linear_model import LinearRegression\n",
    "from sklearn.ensemble import RandomForestClassifier\n",
    "from sklearn.naive_bayes import BernoulliNB , GaussianNB , MultinomialNB\n",
    "from sklearn.metrics import confusion_matrix , f1_score , accuracy_score , classification_report\n",
    "from sklearn.preprocessing import Binarizer"
   ]
  },
  {
   "cell_type": "markdown",
   "metadata": {},
   "source": [
    "## Reading the Data"
   ]
  },
  {
   "cell_type": "code",
   "execution_count": 15,
   "metadata": {},
   "outputs": [],
   "source": [
    "data = pd.read_csv(\"data.csv\")"
   ]
  },
  {
   "cell_type": "code",
   "execution_count": 16,
   "metadata": {},
   "outputs": [
    {
     "data": {
      "text/plain": [
       "Index(['Unnamed: 0', 'name', 'brand', '2G', '3G', '4G', '5G', 'Announced',\n",
       "       'Status', 'Weight', 'Length', 'Width', 'Diameter', 'SIM',\n",
       "       'Display Type', 'Display Size', 'ppi', 'body ratio', 'OS',\n",
       "       'battery_capacity', 'Price', 'CPU', 'ratio', 'pixel', 'WLAN', 'Colors',\n",
       "       'Sensors', 'Bluetooth', 'GPU', 'Loudspeaker', '3.5mm jack', 'Chipset',\n",
       "       'Network', 'Internal', 'Card slot', 'RAM', 'Storage'],\n",
       "      dtype='object')"
      ]
     },
     "execution_count": 16,
     "metadata": {},
     "output_type": "execute_result"
    }
   ],
   "source": [
    "data.columns"
   ]
  },
  {
   "cell_type": "code",
   "execution_count": 17,
   "metadata": {},
   "outputs": [
    {
     "name": "stdout",
     "output_type": "stream",
     "text": [
      "<class 'pandas.core.frame.DataFrame'>\n",
      "RangeIndex: 2651 entries, 0 to 2650\n",
      "Data columns (total 37 columns):\n",
      " #   Column            Non-Null Count  Dtype  \n",
      "---  ------            --------------  -----  \n",
      " 0   Unnamed: 0        2651 non-null   int64  \n",
      " 1   name              2651 non-null   object \n",
      " 2   brand             2651 non-null   object \n",
      " 3   2G                2651 non-null   bool   \n",
      " 4   3G                2651 non-null   bool   \n",
      " 5   4G                2651 non-null   bool   \n",
      " 6   5G                2651 non-null   bool   \n",
      " 7   Announced         2651 non-null   float64\n",
      " 8   Status            2651 non-null   object \n",
      " 9   Weight            2651 non-null   float64\n",
      " 10  Length            2651 non-null   object \n",
      " 11  Width             2651 non-null   object \n",
      " 12  Diameter          2651 non-null   object \n",
      " 13  SIM               2651 non-null   object \n",
      " 14  Display Type      2651 non-null   object \n",
      " 15  Display Size      2651 non-null   float64\n",
      " 16  ppi               2651 non-null   float64\n",
      " 17  body ratio        2651 non-null   float64\n",
      " 18  OS                2651 non-null   object \n",
      " 19  battery_capacity  2651 non-null   float64\n",
      " 20  Price             2651 non-null   float64\n",
      " 21  CPU               2372 non-null   float64\n",
      " 22  ratio             2651 non-null   object \n",
      " 23  pixel             2651 non-null   float64\n",
      " 24  WLAN              2650 non-null   object \n",
      " 25  Colors            2650 non-null   object \n",
      " 26  Sensors           2632 non-null   object \n",
      " 27  Bluetooth         2651 non-null   object \n",
      " 28  GPU               2427 non-null   object \n",
      " 29  Loudspeaker       2651 non-null   bool   \n",
      " 30  3.5mm jack        2651 non-null   bool   \n",
      " 31  Chipset           2394 non-null   object \n",
      " 32  Network           2651 non-null   object \n",
      " 33  Internal          2651 non-null   object \n",
      " 34  Card slot         2651 non-null   object \n",
      " 35  RAM               2651 non-null   float64\n",
      " 36  Storage           2651 non-null   float64\n",
      "dtypes: bool(6), float64(11), int64(1), object(19)\n",
      "memory usage: 657.7+ KB\n"
     ]
    }
   ],
   "source": [
    "data.info()"
   ]
  },
  {
   "cell_type": "markdown",
   "metadata": {},
   "source": [
    "## Data Exploration and Pre-proccessing"
   ]
  },
  {
   "cell_type": "markdown",
   "metadata": {},
   "source": [
    "<p dir=rtl style=\"direction: rtl;text-align: justify;line-height:200%;font-family:vazir;font-size:medium\">\n",
    "<font face=\"vazir\" size=5 color=blue> \n",
    "ابتدا اسامی سیستم‌عامل‌ها را از ستون مربوطه استخراج کرده‌ایم\n",
    "</font>\n",
    "</p>"
   ]
  },
  {
   "cell_type": "code",
   "execution_count": 18,
   "metadata": {},
   "outputs": [
    {
     "data": {
      "text/plain": [
       "Android 10       251\n",
       "Android 9.0      188\n",
       "Android 11       185\n",
       "Android 4.4.2    175\n",
       "Android 12       124\n",
       "                ... \n",
       "Android 2.4        1\n",
       "KaiOS 3.0          1\n",
       "Mobile 6.5.3       1\n",
       "HarmonyOS 3.1      1\n",
       "Android 2.2.2      1\n",
       "Name: OS, Length: 119, dtype: int64"
      ]
     },
     "execution_count": 18,
     "metadata": {},
     "output_type": "execute_result"
    }
   ],
   "source": [
    "data['OS'].value_counts()"
   ]
  },
  {
   "cell_type": "code",
   "execution_count": 19,
   "metadata": {},
   "outputs": [],
   "source": [
    "data['OS'] = data['OS'].str.split().str[0]"
   ]
  },
  {
   "cell_type": "markdown",
   "metadata": {},
   "source": [
    "<p dir=rtl style=\"direction: rtl;text-align: justify;line-height:200%;font-family:vazir;font-size:medium\">\n",
    "<font face=\"vazir\" size=4 color=blue> \n",
    "برخی از اسامی در فرآیند استخراج به درستی سیستم‌عامل را نشان نمی‌دهند. با چک کردن مواردی از این دست و تطابق با داده‌های روی وبسایت این اسامی را تصحیح می‌کنیم:\n",
    "</font>\n",
    "</p>"
   ]
  },
  {
   "cell_type": "code",
   "execution_count": 20,
   "metadata": {},
   "outputs": [],
   "source": [
    "data.loc[data['OS']=='Phone', 'OS'] = 'Windows'\n",
    "data.loc[data['OS']=='Mobile', 'OS'] = 'Windows'\n",
    "data.loc[data['OS']=='platform', 'OS'] = 'Nokia'\n",
    "data.loc[74, 'OS'] = 'Firefox'\n",
    "data.loc[75, 'OS'] = 'Firefox'\n",
    "data.loc[93, 'OS'] = 'Firefox'\n",
    "data.loc[1807, 'OS'] = 'Firefox'\n",
    "data.loc[2598, 'OS'] = 'Android'"
   ]
  },
  {
   "cell_type": "code",
   "execution_count": 21,
   "metadata": {},
   "outputs": [
    {
     "data": {
      "text/plain": [
       "Android      2450\n",
       "Windows        66\n",
       "iOS            60\n",
       "HarmonyOS      21\n",
       "Symbian        10\n",
       "Belle           8\n",
       "KaiOS           6\n",
       "Firefox         5\n",
       "iPadOS          5\n",
       "EMUI            5\n",
       "Nokia           5\n",
       "Anna            3\n",
       "Tizen           3\n",
       "FP1             2\n",
       "MeeGo           1\n",
       "Linux           1\n",
       "Name: OS, dtype: int64"
      ]
     },
     "execution_count": 21,
     "metadata": {},
     "output_type": "execute_result"
    }
   ],
   "source": [
    "data['OS'].value_counts()"
   ]
  },
  {
   "cell_type": "code",
   "execution_count": 22,
   "metadata": {},
   "outputs": [],
   "source": [
    "os_mapping = {\n",
    "    'MeeGo': 'Other',\n",
    "    'Windows':'Windows',\n",
    "    'Firefox': 'Other',\n",
    "    'Linux': 'Other',\n",
    "    'FP1': 'Other',\n",
    "    'Tizen': 'Other',\n",
    "    'Anna': 'Other',\n",
    "    'HarmonyOS': 'Other',\n",
    "    'Android': 'Android',\n",
    "    'iOS': 'iOS',\n",
    "    'Symbian': 'Other',\n",
    "    'Belle': 'Other',\n",
    "    'KaiOS': 'Other',\n",
    "    'iPadOS': 'iOS',\n",
    "    'EMUI': 'Other',\n",
    "    'Nokia':'Other'\n",
    "    \n",
    "}\n",
    "data['OS'] = data['OS'].map(os_mapping)"
   ]
  },
  {
   "cell_type": "code",
   "execution_count": 23,
   "metadata": {},
   "outputs": [
    {
     "data": {
      "text/plain": [
       "OS\n",
       "Android    2450\n",
       "Other        70\n",
       "Windows      66\n",
       "iOS          65\n",
       "Name: OS, dtype: int64"
      ]
     },
     "execution_count": 23,
     "metadata": {},
     "output_type": "execute_result"
    }
   ],
   "source": [
    "data['OS'].groupby(data['OS']).count()"
   ]
  },
  {
   "cell_type": "markdown",
   "metadata": {},
   "source": [
    "<p dir=rtl style=\"direction: rtl;text-align: justify;line-height:200%;font-family:vazir;font-size:medium\">\n",
    "<font face=\"vazir\" size=5 color=blue> \n",
    "در مرحله بعدی سایر ستون‌ها را پیش‌پردازش کرده و انکود کرده‌ایم:\n",
    "</font>\n",
    "</p>"
   ]
  },
  {
   "cell_type": "code",
   "execution_count": 24,
   "metadata": {},
   "outputs": [],
   "source": [
    "data['Chipset'] = data['Chipset'].replace('5', np.nan)\n",
    "data['Chipset'].fillna('Unknown', inplace=True)\n",
    "def categorize_chipset(chipset):\n",
    "    chipset = chipset.lower()\n",
    "    if 'snapdragon' in chipset or 'qualcomm' in chipset:\n",
    "        return 'Qualcomm'\n",
    "    elif 'mediatek' in chipset or 'mt' in chipset:\n",
    "        return 'MediaTek'\n",
    "    elif 'apple' in chipset:\n",
    "        return 'Apple'\n",
    "    elif 'exynos' in chipset:\n",
    "        return 'Samsung Exynos'\n",
    "    elif 'intel' in chipset:\n",
    "        return 'Intel'\n",
    "    elif 'nvidia' in chipset:\n",
    "        return 'Nvidia'\n",
    "    else:\n",
    "        return 'Other'\n",
    "data['Chipset Manufacturer'] = data['Chipset'].apply(categorize_chipset)\n",
    "data.drop('Chipset', axis=1, inplace=True)"
   ]
  },
  {
   "cell_type": "code",
   "execution_count": 25,
   "metadata": {},
   "outputs": [
    {
     "name": "stdout",
     "output_type": "stream",
     "text": [
      "<class 'pandas.core.frame.DataFrame'>\n",
      "RangeIndex: 2651 entries, 0 to 2650\n",
      "Data columns (total 37 columns):\n",
      " #   Column                Non-Null Count  Dtype  \n",
      "---  ------                --------------  -----  \n",
      " 0   Unnamed: 0            2651 non-null   int64  \n",
      " 1   name                  2651 non-null   object \n",
      " 2   brand                 2651 non-null   object \n",
      " 3   2G                    2651 non-null   bool   \n",
      " 4   3G                    2651 non-null   bool   \n",
      " 5   4G                    2651 non-null   bool   \n",
      " 6   5G                    2651 non-null   bool   \n",
      " 7   Announced             2651 non-null   float64\n",
      " 8   Status                2651 non-null   object \n",
      " 9   Weight                2651 non-null   float64\n",
      " 10  Length                2651 non-null   object \n",
      " 11  Width                 2651 non-null   object \n",
      " 12  Diameter              2651 non-null   object \n",
      " 13  SIM                   2651 non-null   object \n",
      " 14  Display Type          2651 non-null   object \n",
      " 15  Display Size          2651 non-null   float64\n",
      " 16  ppi                   2651 non-null   float64\n",
      " 17  body ratio            2651 non-null   float64\n",
      " 18  OS                    2651 non-null   object \n",
      " 19  battery_capacity      2651 non-null   float64\n",
      " 20  Price                 2651 non-null   float64\n",
      " 21  CPU                   2372 non-null   float64\n",
      " 22  ratio                 2651 non-null   object \n",
      " 23  pixel                 2651 non-null   float64\n",
      " 24  WLAN                  2650 non-null   object \n",
      " 25  Colors                2650 non-null   object \n",
      " 26  Sensors               2632 non-null   object \n",
      " 27  Bluetooth             2651 non-null   object \n",
      " 28  GPU                   2427 non-null   object \n",
      " 29  Loudspeaker           2651 non-null   bool   \n",
      " 30  3.5mm jack            2651 non-null   bool   \n",
      " 31  Network               2651 non-null   object \n",
      " 32  Internal              2651 non-null   object \n",
      " 33  Card slot             2651 non-null   object \n",
      " 34  RAM                   2651 non-null   float64\n",
      " 35  Storage               2651 non-null   float64\n",
      " 36  Chipset Manufacturer  2651 non-null   object \n",
      "dtypes: bool(6), float64(11), int64(1), object(19)\n",
      "memory usage: 657.7+ KB\n"
     ]
    }
   ],
   "source": [
    "data.info()"
   ]
  },
  {
   "cell_type": "code",
   "execution_count": 26,
   "metadata": {},
   "outputs": [],
   "source": [
    "data['Audio_Features'] = (data['Loudspeaker'] & data['3.5mm jack']) * 2 + (data['Loudspeaker'] ^ data['3.5mm jack'])\n",
    "\n",
    "data.drop(['Loudspeaker', '3.5mm jack'], axis=1, inplace=True)"
   ]
  },
  {
   "cell_type": "code",
   "execution_count": 27,
   "metadata": {},
   "outputs": [],
   "source": [
    "data = data.drop(['Bluetooth','Colors','WLAN','Card slot','Network','Internal','ratio'], axis=1)"
   ]
  },
  {
   "cell_type": "code",
   "execution_count": 28,
   "metadata": {},
   "outputs": [],
   "source": [
    "data['Length'] = data['Length'].str.extract('(\\d+\\.?\\d*)').astype(float)"
   ]
  },
  {
   "cell_type": "code",
   "execution_count": 29,
   "metadata": {},
   "outputs": [],
   "source": [
    "data['Width']=data['Width'].str.extract('(\\d+\\.?\\d*)').astype(float)"
   ]
  },
  {
   "cell_type": "code",
   "execution_count": 30,
   "metadata": {},
   "outputs": [],
   "source": [
    "def convert_to_average(diameter_str):\n",
    "\n",
    "    if '-' in diameter_str:\n",
    "        lower, upper = diameter_str.split('-')\n",
    "        average = (float(lower) + float(upper)) / 2\n",
    "        return average\n",
    "    else:\n",
    "        return float(diameter_str)\n",
    "\n",
    "data['Diameter'] = data['Diameter'].str.split().str[0].apply(convert_to_average)"
   ]
  },
  {
   "cell_type": "code",
   "execution_count": 31,
   "metadata": {},
   "outputs": [
    {
     "data": {
      "text/plain": [
       "IPS LCD                                       1044\n",
       "TFT                                            240\n",
       "Super AMOLED                                   209\n",
       "TFT, 256K colors                                92\n",
       "AMOLED                                          58\n",
       "                                              ... \n",
       "IPS LCD, 1B colors, 120Hz                        1\n",
       "AMOLED, 1B colors, 120Hz, 1300 nits (peak)       1\n",
       "AMOLED, 770 nits (HBM)                           1\n",
       "AMOLED, 1B colors, 144Hz, 1000 nits (peak)       1\n",
       "Super Clear LCD                                  1\n",
       "Name: Display Type, Length: 317, dtype: int64"
      ]
     },
     "execution_count": 31,
     "metadata": {},
     "output_type": "execute_result"
    }
   ],
   "source": [
    "data['Display Type'].value_counts()"
   ]
  },
  {
   "cell_type": "code",
   "execution_count": 32,
   "metadata": {},
   "outputs": [
    {
     "data": {
      "text/plain": [
       "LCD       1952\n",
       "OLED       661\n",
       "Retina      32\n",
       "Other        6\n",
       "Name: Display Type, dtype: int64"
      ]
     },
     "execution_count": 32,
     "metadata": {},
     "output_type": "execute_result"
    }
   ],
   "source": [
    "def categorize_display_type(display_type):\n",
    "    display_type = display_type.lower()\n",
    "    if 'retina' in display_type:\n",
    "        return 'Retina'\n",
    "    elif 'oled' in display_type or 'amoled' in display_type:\n",
    "        return 'OLED'\n",
    "    elif 'lcd' in display_type or 'tft' in display_type or 'ips' in display_type:\n",
    "        return 'LCD'\n",
    "   \n",
    "    else:\n",
    "        return 'Other'\n",
    "\n",
    "\n",
    "data['Display Type'] = data['Display Type'].apply(categorize_display_type)\n",
    "\n",
    "data['Display Type'].value_counts()"
   ]
  },
  {
   "cell_type": "code",
   "execution_count": 33,
   "metadata": {},
   "outputs": [],
   "source": [
    "sensors_of_interest = ['accelerometer', 'gyro', 'proximity', 'barometer', 'fingerprint']\n",
    "\n",
    "for sensor in sensors_of_interest:\n",
    "    data[f'sensor_{sensor}'] = 0\n",
    "def update_sensor_flags(row):\n",
    "    sensor_data = str(row['Sensors']).lower() \n",
    "    for sensor in sensors_of_interest:\n",
    "        if sensor in sensor_data:\n",
    "            row[f'sensor_{sensor}'] = 1\n",
    "    return row\n",
    "\n",
    "data = data.apply(update_sensor_flags, axis=1)\n",
    "data = data.drop('Sensors', axis=1)"
   ]
  },
  {
   "cell_type": "code",
   "execution_count": 34,
   "metadata": {},
   "outputs": [],
   "source": [
    "most_frequent_cpu_by_year = data.groupby('Announced')['CPU'].agg(lambda x: pd.Series.mode(x)[0])\n",
    "\n",
    "for year, cpu in most_frequent_cpu_by_year.items():\n",
    "    data.loc[(data['Announced'] == year) & (data['CPU'].isnull()), 'CPU'] = cpu\n"
   ]
  },
  {
   "cell_type": "code",
   "execution_count": 35,
   "metadata": {},
   "outputs": [],
   "source": [
    "bool_columns = data.select_dtypes(include=['bool']).columns\n",
    "data[bool_columns] = data[bool_columns].astype(int)"
   ]
  },
  {
   "cell_type": "markdown",
   "metadata": {},
   "source": [
    "## Encoding"
   ]
  },
  {
   "cell_type": "markdown",
   "metadata": {},
   "source": [
    "<p dir=rtl style=\"direction: rtl;text-align: justify;line-height:200%;font-family:vazir;font-size:medium\">\n",
    "<font face=\"vazir\" size=5 color=blue> \n",
    "در این مرحله ستون‌هایی که ماهیت ترتیبی ندارند را وان‌هات و ستون‌هایی که ماهیت ترتیبی دارند به صورت عددی انکود کرده‌ایم.\n",
    "</font>\n",
    "</p>"
   ]
  },
  {
   "cell_type": "code",
   "execution_count": 36,
   "metadata": {},
   "outputs": [],
   "source": [
    "columns_to_encode = ['brand', 'SIM', 'Display Type','Chipset Manufacturer']\n",
    "encoder = OneHotEncoder()\n",
    "encoded_data = encoder.fit_transform(data[columns_to_encode]).toarray()\n",
    "encoded_df = pd.DataFrame(encoded_data, columns=encoder.get_feature_names_out(columns_to_encode))\n",
    "data = pd.concat([data.drop(columns=columns_to_encode), encoded_df], axis=1)"
   ]
  },
  {
   "cell_type": "code",
   "execution_count": 37,
   "metadata": {},
   "outputs": [],
   "source": [
    "columns_to_encode = ['Audio_Features','Announced', 'Status', 'CPU','RAM','Storage','GPU']\n",
    "for column in columns_to_encode:\n",
    "    le = LabelEncoder()\n",
    "    data[column] = le.fit_transform(data[column])"
   ]
  },
  {
   "cell_type": "markdown",
   "metadata": {},
   "source": [
    "# Checking Relationshios"
   ]
  },
  {
   "cell_type": "markdown",
   "metadata": {},
   "source": [
    "<p dir=rtl style=\"direction: rtl;text-align: justify;line-height:200%;font-family:vazir;font-size:medium\">\n",
    "<font face=\"vazir\" size=5 color=blue> \n",
    "در این مرحله ابتدا روابط بین متغیرهای مستقل را بررسی می‌کنیم تا درباره اثر آنها بر متغیر وابسته و هم‌خطی میان خود متغیرهای مستقل اطلاعاتی بدست بیاوریم:\n",
    "</font>\n",
    "</p>"
   ]
  },
  {
   "cell_type": "code",
   "execution_count": 39,
   "metadata": {},
   "outputs": [
    {
     "data": {
      "text/html": [
       "<div>\n",
       "<style scoped>\n",
       "    .dataframe tbody tr th:only-of-type {\n",
       "        vertical-align: middle;\n",
       "    }\n",
       "\n",
       "    .dataframe tbody tr th {\n",
       "        vertical-align: top;\n",
       "    }\n",
       "\n",
       "    .dataframe thead th {\n",
       "        text-align: right;\n",
       "    }\n",
       "</style>\n",
       "<table border=\"1\" class=\"dataframe\">\n",
       "  <thead>\n",
       "    <tr style=\"text-align: right;\">\n",
       "      <th></th>\n",
       "      <th>Announced</th>\n",
       "      <th>Weight</th>\n",
       "      <th>Length</th>\n",
       "      <th>Width</th>\n",
       "      <th>Diameter</th>\n",
       "      <th>Display Size</th>\n",
       "      <th>ppi</th>\n",
       "      <th>body ratio</th>\n",
       "      <th>battery_capacity</th>\n",
       "      <th>CPU</th>\n",
       "      <th>pixel</th>\n",
       "      <th>GPU</th>\n",
       "      <th>RAM</th>\n",
       "      <th>Storage</th>\n",
       "      <th>Price</th>\n",
       "    </tr>\n",
       "  </thead>\n",
       "  <tbody>\n",
       "    <tr>\n",
       "      <th>Announced</th>\n",
       "      <td>1.000000</td>\n",
       "      <td>0.216229</td>\n",
       "      <td>0.403826</td>\n",
       "      <td>0.148538</td>\n",
       "      <td>-0.441960</td>\n",
       "      <td>0.538291</td>\n",
       "      <td>0.408832</td>\n",
       "      <td>0.826368</td>\n",
       "      <td>0.631270</td>\n",
       "      <td>0.787164</td>\n",
       "      <td>0.542012</td>\n",
       "      <td>0.049629</td>\n",
       "      <td>0.712494</td>\n",
       "      <td>0.652005</td>\n",
       "      <td>0.266497</td>\n",
       "    </tr>\n",
       "    <tr>\n",
       "      <th>Weight</th>\n",
       "      <td>0.216229</td>\n",
       "      <td>1.000000</td>\n",
       "      <td>0.929611</td>\n",
       "      <td>0.959540</td>\n",
       "      <td>-0.238511</td>\n",
       "      <td>0.888796</td>\n",
       "      <td>-0.127769</td>\n",
       "      <td>0.252390</td>\n",
       "      <td>0.761959</td>\n",
       "      <td>0.196692</td>\n",
       "      <td>0.376697</td>\n",
       "      <td>0.065961</td>\n",
       "      <td>0.259722</td>\n",
       "      <td>0.263799</td>\n",
       "      <td>0.320519</td>\n",
       "    </tr>\n",
       "    <tr>\n",
       "      <th>Length</th>\n",
       "      <td>0.403826</td>\n",
       "      <td>0.929611</td>\n",
       "      <td>1.000000</td>\n",
       "      <td>0.920098</td>\n",
       "      <td>-0.475163</td>\n",
       "      <td>0.971983</td>\n",
       "      <td>0.027790</td>\n",
       "      <td>0.462303</td>\n",
       "      <td>0.842882</td>\n",
       "      <td>0.413990</td>\n",
       "      <td>0.501589</td>\n",
       "      <td>0.063939</td>\n",
       "      <td>0.462824</td>\n",
       "      <td>0.440941</td>\n",
       "      <td>0.335055</td>\n",
       "    </tr>\n",
       "    <tr>\n",
       "      <th>Width</th>\n",
       "      <td>0.148538</td>\n",
       "      <td>0.959540</td>\n",
       "      <td>0.920098</td>\n",
       "      <td>1.000000</td>\n",
       "      <td>-0.327851</td>\n",
       "      <td>0.875054</td>\n",
       "      <td>-0.171898</td>\n",
       "      <td>0.194324</td>\n",
       "      <td>0.710308</td>\n",
       "      <td>0.162053</td>\n",
       "      <td>0.334786</td>\n",
       "      <td>0.068565</td>\n",
       "      <td>0.225060</td>\n",
       "      <td>0.227280</td>\n",
       "      <td>0.262193</td>\n",
       "    </tr>\n",
       "    <tr>\n",
       "      <th>Diameter</th>\n",
       "      <td>-0.441960</td>\n",
       "      <td>-0.238511</td>\n",
       "      <td>-0.475163</td>\n",
       "      <td>-0.327851</td>\n",
       "      <td>1.000000</td>\n",
       "      <td>-0.534775</td>\n",
       "      <td>-0.439195</td>\n",
       "      <td>-0.618587</td>\n",
       "      <td>-0.461574</td>\n",
       "      <td>-0.582662</td>\n",
       "      <td>-0.528710</td>\n",
       "      <td>0.006734</td>\n",
       "      <td>-0.640077</td>\n",
       "      <td>-0.590590</td>\n",
       "      <td>-0.278776</td>\n",
       "    </tr>\n",
       "    <tr>\n",
       "      <th>Display Size</th>\n",
       "      <td>0.538291</td>\n",
       "      <td>0.888796</td>\n",
       "      <td>0.971983</td>\n",
       "      <td>0.875054</td>\n",
       "      <td>-0.534775</td>\n",
       "      <td>1.000000</td>\n",
       "      <td>0.129369</td>\n",
       "      <td>0.623587</td>\n",
       "      <td>0.895648</td>\n",
       "      <td>0.520124</td>\n",
       "      <td>0.589154</td>\n",
       "      <td>0.052241</td>\n",
       "      <td>0.574081</td>\n",
       "      <td>0.538066</td>\n",
       "      <td>0.397758</td>\n",
       "    </tr>\n",
       "    <tr>\n",
       "      <th>ppi</th>\n",
       "      <td>0.408832</td>\n",
       "      <td>-0.127769</td>\n",
       "      <td>0.027790</td>\n",
       "      <td>-0.171898</td>\n",
       "      <td>-0.439195</td>\n",
       "      <td>0.129369</td>\n",
       "      <td>1.000000</td>\n",
       "      <td>0.583282</td>\n",
       "      <td>0.223173</td>\n",
       "      <td>0.582161</td>\n",
       "      <td>0.814707</td>\n",
       "      <td>-0.162339</td>\n",
       "      <td>0.637162</td>\n",
       "      <td>0.559948</td>\n",
       "      <td>0.456231</td>\n",
       "    </tr>\n",
       "    <tr>\n",
       "      <th>body ratio</th>\n",
       "      <td>0.826368</td>\n",
       "      <td>0.252390</td>\n",
       "      <td>0.462303</td>\n",
       "      <td>0.194324</td>\n",
       "      <td>-0.618587</td>\n",
       "      <td>0.623587</td>\n",
       "      <td>0.583282</td>\n",
       "      <td>1.000000</td>\n",
       "      <td>0.664450</td>\n",
       "      <td>0.794793</td>\n",
       "      <td>0.684587</td>\n",
       "      <td>-0.017696</td>\n",
       "      <td>0.845820</td>\n",
       "      <td>0.767288</td>\n",
       "      <td>0.425506</td>\n",
       "    </tr>\n",
       "    <tr>\n",
       "      <th>battery_capacity</th>\n",
       "      <td>0.631270</td>\n",
       "      <td>0.761959</td>\n",
       "      <td>0.842882</td>\n",
       "      <td>0.710308</td>\n",
       "      <td>-0.461574</td>\n",
       "      <td>0.895648</td>\n",
       "      <td>0.223173</td>\n",
       "      <td>0.664450</td>\n",
       "      <td>1.000000</td>\n",
       "      <td>0.587602</td>\n",
       "      <td>0.610992</td>\n",
       "      <td>0.026532</td>\n",
       "      <td>0.605622</td>\n",
       "      <td>0.554215</td>\n",
       "      <td>0.392868</td>\n",
       "    </tr>\n",
       "    <tr>\n",
       "      <th>CPU</th>\n",
       "      <td>0.787164</td>\n",
       "      <td>0.196692</td>\n",
       "      <td>0.413990</td>\n",
       "      <td>0.162053</td>\n",
       "      <td>-0.582662</td>\n",
       "      <td>0.520124</td>\n",
       "      <td>0.582161</td>\n",
       "      <td>0.794793</td>\n",
       "      <td>0.587602</td>\n",
       "      <td>1.000000</td>\n",
       "      <td>0.641650</td>\n",
       "      <td>-0.008518</td>\n",
       "      <td>0.763549</td>\n",
       "      <td>0.667369</td>\n",
       "      <td>0.316382</td>\n",
       "    </tr>\n",
       "    <tr>\n",
       "      <th>pixel</th>\n",
       "      <td>0.542012</td>\n",
       "      <td>0.376697</td>\n",
       "      <td>0.501589</td>\n",
       "      <td>0.334786</td>\n",
       "      <td>-0.528710</td>\n",
       "      <td>0.589154</td>\n",
       "      <td>0.814707</td>\n",
       "      <td>0.684587</td>\n",
       "      <td>0.610992</td>\n",
       "      <td>0.641650</td>\n",
       "      <td>1.000000</td>\n",
       "      <td>-0.105848</td>\n",
       "      <td>0.690844</td>\n",
       "      <td>0.597502</td>\n",
       "      <td>0.618491</td>\n",
       "    </tr>\n",
       "    <tr>\n",
       "      <th>GPU</th>\n",
       "      <td>0.049629</td>\n",
       "      <td>0.065961</td>\n",
       "      <td>0.063939</td>\n",
       "      <td>0.068565</td>\n",
       "      <td>0.006734</td>\n",
       "      <td>0.052241</td>\n",
       "      <td>-0.162339</td>\n",
       "      <td>-0.017696</td>\n",
       "      <td>0.026532</td>\n",
       "      <td>-0.008518</td>\n",
       "      <td>-0.105848</td>\n",
       "      <td>1.000000</td>\n",
       "      <td>-0.098830</td>\n",
       "      <td>-0.068782</td>\n",
       "      <td>-0.103990</td>\n",
       "    </tr>\n",
       "    <tr>\n",
       "      <th>RAM</th>\n",
       "      <td>0.712494</td>\n",
       "      <td>0.259722</td>\n",
       "      <td>0.462824</td>\n",
       "      <td>0.225060</td>\n",
       "      <td>-0.640077</td>\n",
       "      <td>0.574081</td>\n",
       "      <td>0.637162</td>\n",
       "      <td>0.845820</td>\n",
       "      <td>0.605622</td>\n",
       "      <td>0.763549</td>\n",
       "      <td>0.690844</td>\n",
       "      <td>-0.098830</td>\n",
       "      <td>1.000000</td>\n",
       "      <td>0.856809</td>\n",
       "      <td>0.462150</td>\n",
       "    </tr>\n",
       "    <tr>\n",
       "      <th>Storage</th>\n",
       "      <td>0.652005</td>\n",
       "      <td>0.263799</td>\n",
       "      <td>0.440941</td>\n",
       "      <td>0.227280</td>\n",
       "      <td>-0.590590</td>\n",
       "      <td>0.538066</td>\n",
       "      <td>0.559948</td>\n",
       "      <td>0.767288</td>\n",
       "      <td>0.554215</td>\n",
       "      <td>0.667369</td>\n",
       "      <td>0.597502</td>\n",
       "      <td>-0.068782</td>\n",
       "      <td>0.856809</td>\n",
       "      <td>1.000000</td>\n",
       "      <td>0.387845</td>\n",
       "    </tr>\n",
       "    <tr>\n",
       "      <th>Price</th>\n",
       "      <td>0.266497</td>\n",
       "      <td>0.320519</td>\n",
       "      <td>0.335055</td>\n",
       "      <td>0.262193</td>\n",
       "      <td>-0.278776</td>\n",
       "      <td>0.397758</td>\n",
       "      <td>0.456231</td>\n",
       "      <td>0.425506</td>\n",
       "      <td>0.392868</td>\n",
       "      <td>0.316382</td>\n",
       "      <td>0.618491</td>\n",
       "      <td>-0.103990</td>\n",
       "      <td>0.462150</td>\n",
       "      <td>0.387845</td>\n",
       "      <td>1.000000</td>\n",
       "    </tr>\n",
       "  </tbody>\n",
       "</table>\n",
       "</div>"
      ],
      "text/plain": [
       "                  Announced    Weight    Length     Width  Diameter  \\\n",
       "Announced          1.000000  0.216229  0.403826  0.148538 -0.441960   \n",
       "Weight             0.216229  1.000000  0.929611  0.959540 -0.238511   \n",
       "Length             0.403826  0.929611  1.000000  0.920098 -0.475163   \n",
       "Width              0.148538  0.959540  0.920098  1.000000 -0.327851   \n",
       "Diameter          -0.441960 -0.238511 -0.475163 -0.327851  1.000000   \n",
       "Display Size       0.538291  0.888796  0.971983  0.875054 -0.534775   \n",
       "ppi                0.408832 -0.127769  0.027790 -0.171898 -0.439195   \n",
       "body ratio         0.826368  0.252390  0.462303  0.194324 -0.618587   \n",
       "battery_capacity   0.631270  0.761959  0.842882  0.710308 -0.461574   \n",
       "CPU                0.787164  0.196692  0.413990  0.162053 -0.582662   \n",
       "pixel              0.542012  0.376697  0.501589  0.334786 -0.528710   \n",
       "GPU                0.049629  0.065961  0.063939  0.068565  0.006734   \n",
       "RAM                0.712494  0.259722  0.462824  0.225060 -0.640077   \n",
       "Storage            0.652005  0.263799  0.440941  0.227280 -0.590590   \n",
       "Price              0.266497  0.320519  0.335055  0.262193 -0.278776   \n",
       "\n",
       "                  Display Size       ppi  body ratio  battery_capacity  \\\n",
       "Announced             0.538291  0.408832    0.826368          0.631270   \n",
       "Weight                0.888796 -0.127769    0.252390          0.761959   \n",
       "Length                0.971983  0.027790    0.462303          0.842882   \n",
       "Width                 0.875054 -0.171898    0.194324          0.710308   \n",
       "Diameter             -0.534775 -0.439195   -0.618587         -0.461574   \n",
       "Display Size          1.000000  0.129369    0.623587          0.895648   \n",
       "ppi                   0.129369  1.000000    0.583282          0.223173   \n",
       "body ratio            0.623587  0.583282    1.000000          0.664450   \n",
       "battery_capacity      0.895648  0.223173    0.664450          1.000000   \n",
       "CPU                   0.520124  0.582161    0.794793          0.587602   \n",
       "pixel                 0.589154  0.814707    0.684587          0.610992   \n",
       "GPU                   0.052241 -0.162339   -0.017696          0.026532   \n",
       "RAM                   0.574081  0.637162    0.845820          0.605622   \n",
       "Storage               0.538066  0.559948    0.767288          0.554215   \n",
       "Price                 0.397758  0.456231    0.425506          0.392868   \n",
       "\n",
       "                       CPU     pixel       GPU       RAM   Storage     Price  \n",
       "Announced         0.787164  0.542012  0.049629  0.712494  0.652005  0.266497  \n",
       "Weight            0.196692  0.376697  0.065961  0.259722  0.263799  0.320519  \n",
       "Length            0.413990  0.501589  0.063939  0.462824  0.440941  0.335055  \n",
       "Width             0.162053  0.334786  0.068565  0.225060  0.227280  0.262193  \n",
       "Diameter         -0.582662 -0.528710  0.006734 -0.640077 -0.590590 -0.278776  \n",
       "Display Size      0.520124  0.589154  0.052241  0.574081  0.538066  0.397758  \n",
       "ppi               0.582161  0.814707 -0.162339  0.637162  0.559948  0.456231  \n",
       "body ratio        0.794793  0.684587 -0.017696  0.845820  0.767288  0.425506  \n",
       "battery_capacity  0.587602  0.610992  0.026532  0.605622  0.554215  0.392868  \n",
       "CPU               1.000000  0.641650 -0.008518  0.763549  0.667369  0.316382  \n",
       "pixel             0.641650  1.000000 -0.105848  0.690844  0.597502  0.618491  \n",
       "GPU              -0.008518 -0.105848  1.000000 -0.098830 -0.068782 -0.103990  \n",
       "RAM               0.763549  0.690844 -0.098830  1.000000  0.856809  0.462150  \n",
       "Storage           0.667369  0.597502 -0.068782  0.856809  1.000000  0.387845  \n",
       "Price             0.316382  0.618491 -0.103990  0.462150  0.387845  1.000000  "
      ]
     },
     "execution_count": 39,
     "metadata": {},
     "output_type": "execute_result"
    }
   ],
   "source": [
    "corr_matrix=data[['Announced', 'Weight', 'Length',\n",
    "                   'Width', 'Diameter', 'Display Size', 'ppi', \n",
    "                   'body ratio','battery_capacity','CPU', \n",
    "                    'pixel', 'GPU', 'RAM', 'Storage','Price']].corr()\n",
    "corr_matrix\n"
   ]
  },
  {
   "cell_type": "code",
   "execution_count": 40,
   "metadata": {},
   "outputs": [
    {
     "data": {
      "image/png": "[encoded data removed]",
      "text/plain": [
       "<Figure size 800x800 with 2 Axes>"
      ]
     },
     "metadata": {},
     "output_type": "display_data"
    }
   ],
   "source": [
    "plt.figure(figsize=(8, 8))\n",
    "\n",
    "sns.heatmap(corr_matrix, annot=True, cmap='coolwarm', fmt=\".2f\")\n",
    "\n",
    "\n",
    "plt.title('Correlation Heatmap')\n",
    "plt.show()"
   ]
  },
  {
   "cell_type": "code",
   "execution_count": 41,
   "metadata": {},
   "outputs": [
    {
     "name": "stdout",
     "output_type": "stream",
     "text": [
      "Unique pairs of columns with correlation greater than 0.7:\n"
     ]
    },
    {
     "data": {
      "text/html": [
       "<div>\n",
       "<style scoped>\n",
       "    .dataframe tbody tr th:only-of-type {\n",
       "        vertical-align: middle;\n",
       "    }\n",
       "\n",
       "    .dataframe tbody tr th {\n",
       "        vertical-align: top;\n",
       "    }\n",
       "\n",
       "    .dataframe thead th {\n",
       "        text-align: right;\n",
       "    }\n",
       "</style>\n",
       "<table border=\"1\" class=\"dataframe\">\n",
       "  <thead>\n",
       "    <tr style=\"text-align: right;\">\n",
       "      <th></th>\n",
       "      <th>Column 1</th>\n",
       "      <th>Column 2</th>\n",
       "      <th>Correlation</th>\n",
       "    </tr>\n",
       "  </thead>\n",
       "  <tbody>\n",
       "    <tr>\n",
       "      <th>0</th>\n",
       "      <td>Announced</td>\n",
       "      <td>body ratio</td>\n",
       "      <td>0.826368</td>\n",
       "    </tr>\n",
       "    <tr>\n",
       "      <th>1</th>\n",
       "      <td>Announced</td>\n",
       "      <td>CPU</td>\n",
       "      <td>0.787164</td>\n",
       "    </tr>\n",
       "    <tr>\n",
       "      <th>2</th>\n",
       "      <td>Announced</td>\n",
       "      <td>RAM</td>\n",
       "      <td>0.712494</td>\n",
       "    </tr>\n",
       "    <tr>\n",
       "      <th>3</th>\n",
       "      <td>Weight</td>\n",
       "      <td>Length</td>\n",
       "      <td>0.929611</td>\n",
       "    </tr>\n",
       "    <tr>\n",
       "      <th>4</th>\n",
       "      <td>Weight</td>\n",
       "      <td>Width</td>\n",
       "      <td>0.959540</td>\n",
       "    </tr>\n",
       "    <tr>\n",
       "      <th>5</th>\n",
       "      <td>Weight</td>\n",
       "      <td>Display Size</td>\n",
       "      <td>0.888796</td>\n",
       "    </tr>\n",
       "    <tr>\n",
       "      <th>6</th>\n",
       "      <td>Weight</td>\n",
       "      <td>battery_capacity</td>\n",
       "      <td>0.761959</td>\n",
       "    </tr>\n",
       "    <tr>\n",
       "      <th>7</th>\n",
       "      <td>Length</td>\n",
       "      <td>Width</td>\n",
       "      <td>0.920098</td>\n",
       "    </tr>\n",
       "    <tr>\n",
       "      <th>8</th>\n",
       "      <td>Length</td>\n",
       "      <td>Display Size</td>\n",
       "      <td>0.971983</td>\n",
       "    </tr>\n",
       "    <tr>\n",
       "      <th>9</th>\n",
       "      <td>Length</td>\n",
       "      <td>battery_capacity</td>\n",
       "      <td>0.842882</td>\n",
       "    </tr>\n",
       "    <tr>\n",
       "      <th>10</th>\n",
       "      <td>Width</td>\n",
       "      <td>Display Size</td>\n",
       "      <td>0.875054</td>\n",
       "    </tr>\n",
       "    <tr>\n",
       "      <th>11</th>\n",
       "      <td>Width</td>\n",
       "      <td>battery_capacity</td>\n",
       "      <td>0.710308</td>\n",
       "    </tr>\n",
       "    <tr>\n",
       "      <th>12</th>\n",
       "      <td>Display Size</td>\n",
       "      <td>battery_capacity</td>\n",
       "      <td>0.895648</td>\n",
       "    </tr>\n",
       "    <tr>\n",
       "      <th>13</th>\n",
       "      <td>ppi</td>\n",
       "      <td>pixel</td>\n",
       "      <td>0.814707</td>\n",
       "    </tr>\n",
       "    <tr>\n",
       "      <th>14</th>\n",
       "      <td>body ratio</td>\n",
       "      <td>CPU</td>\n",
       "      <td>0.794793</td>\n",
       "    </tr>\n",
       "    <tr>\n",
       "      <th>15</th>\n",
       "      <td>body ratio</td>\n",
       "      <td>RAM</td>\n",
       "      <td>0.845820</td>\n",
       "    </tr>\n",
       "    <tr>\n",
       "      <th>16</th>\n",
       "      <td>body ratio</td>\n",
       "      <td>Storage</td>\n",
       "      <td>0.767288</td>\n",
       "    </tr>\n",
       "    <tr>\n",
       "      <th>17</th>\n",
       "      <td>CPU</td>\n",
       "      <td>RAM</td>\n",
       "      <td>0.763549</td>\n",
       "    </tr>\n",
       "    <tr>\n",
       "      <th>18</th>\n",
       "      <td>RAM</td>\n",
       "      <td>Storage</td>\n",
       "      <td>0.856809</td>\n",
       "    </tr>\n",
       "  </tbody>\n",
       "</table>\n",
       "</div>"
      ],
      "text/plain": [
       "        Column 1          Column 2  Correlation\n",
       "0      Announced        body ratio     0.826368\n",
       "1      Announced               CPU     0.787164\n",
       "2      Announced               RAM     0.712494\n",
       "3         Weight            Length     0.929611\n",
       "4         Weight             Width     0.959540\n",
       "5         Weight      Display Size     0.888796\n",
       "6         Weight  battery_capacity     0.761959\n",
       "7         Length             Width     0.920098\n",
       "8         Length      Display Size     0.971983\n",
       "9         Length  battery_capacity     0.842882\n",
       "10         Width      Display Size     0.875054\n",
       "11         Width  battery_capacity     0.710308\n",
       "12  Display Size  battery_capacity     0.895648\n",
       "13           ppi             pixel     0.814707\n",
       "14    body ratio               CPU     0.794793\n",
       "15    body ratio               RAM     0.845820\n",
       "16    body ratio           Storage     0.767288\n",
       "17           CPU               RAM     0.763549\n",
       "18           RAM           Storage     0.856809"
      ]
     },
     "execution_count": 41,
     "metadata": {},
     "output_type": "execute_result"
    }
   ],
   "source": [
    "high_corr_pairs = []\n",
    "for i, col1 in enumerate(corr_matrix.columns):\n",
    "    for j, col2 in enumerate(corr_matrix.columns):\n",
    "        if i < j and abs(corr_matrix.loc[col1, col2]) > 0.7:\n",
    "            high_corr_pairs.append((col1, col2))\n",
    "\n",
    "high_corr_df = pd.DataFrame(columns=['Column 1', 'Column 2', 'Correlation'])\n",
    "for col1, col2 in high_corr_pairs:\n",
    "    high_corr_df = high_corr_df.append({'Column 1': col1, 'Column 2': col2, 'Correlation': corr_matrix.loc[col1, col2]}, ignore_index=True)\n",
    "\n",
    "print(\"Unique pairs of columns with correlation greater than 0.7:\")\n",
    "high_corr_df"
   ]
  },
  {
   "cell_type": "markdown",
   "metadata": {},
   "source": [
    "<p dir=rtl style=\"direction: rtl;text-align: justify;line-height:200%;font-family:vazir;font-size:medium\">\n",
    "<font face=\"vazir\" size=5 color=blue> \n",
    "بررسی همبستگی میان متغیرهای فاصله‌ای نشان می‌دهد تعدادی از متغیرها همبستگی بسیار بالایی با یکدیگر دارند. جدول بالا ستون‌های با همبستگی بالاتر از ۰.۷ را می‌توانیم مشاهده کنیم.  \n",
    "</font>\n",
    "</p>\n",
    "\n",
    "\n",
    "<p dir=rtl style=\"direction: rtl;text-align: justify;line-height:200%;font-family:vazir;font-size:medium\">\n",
    "<font face=\"vazir\" size=5 color=blue> \n",
    " این جدول نشان می‌دهد ستون‌های مربوط به ابعاد گوشی همبستگی بسیار بالایی با یکدیگر دارند. بنابراین می‌توانیم برخی از این متغیرهای مستقل را حذف کنیم. \n",
    "</font>\n",
    "</p>\n"
   ]
  },
  {
   "cell_type": "code",
   "execution_count": 42,
   "metadata": {},
   "outputs": [],
   "source": [
    "data=data.drop(['Unnamed: 0', 'name','Weight','Length','Width','pixel','RAM','Display Size','body ratio'],axis=1)"
   ]
  },
  {
   "cell_type": "code",
   "execution_count": 43,
   "metadata": {},
   "outputs": [
    {
     "data": {
      "text/plain": [
       "Index(['2G', '3G', '4G', '5G', 'Announced', 'Status', 'Diameter', 'ppi', 'OS',\n",
       "       'battery_capacity', 'Price', 'CPU', 'GPU', 'Storage', 'Audio_Features',\n",
       "       'sensor_accelerometer', 'sensor_gyro', 'sensor_proximity',\n",
       "       'sensor_barometer', 'sensor_fingerprint', 'brand_alcatel',\n",
       "       'brand_apple', 'brand_asus', 'brand_blu', 'brand_htc', 'brand_huawei',\n",
       "       'brand_infinix', 'brand_lenovo', 'brand_lg', 'brand_nokia',\n",
       "       'brand_samsung', 'brand_sony', 'brand_xiaomi', 'brand_zte',\n",
       "       'SIM_Micro-SIM', 'SIM_Mini-SIM', 'SIM_Nano-SIM', 'SIM_eSIM',\n",
       "       'Display Type_LCD', 'Display Type_OLED', 'Display Type_Other',\n",
       "       'Display Type_Retina', 'Chipset Manufacturer_Apple',\n",
       "       'Chipset Manufacturer_Intel', 'Chipset Manufacturer_MediaTek',\n",
       "       'Chipset Manufacturer_Nvidia', 'Chipset Manufacturer_Other',\n",
       "       'Chipset Manufacturer_Qualcomm', 'Chipset Manufacturer_Samsung Exynos'],\n",
       "      dtype='object')"
      ]
     },
     "execution_count": 43,
     "metadata": {},
     "output_type": "execute_result"
    }
   ],
   "source": [
    "data.columns"
   ]
  },
  {
   "cell_type": "code",
   "execution_count": 97,
   "metadata": {},
   "outputs": [],
   "source": [
    "X=data.drop(['OS'],axis=1)\n",
    "y = data['OS']"
   ]
  },
  {
   "cell_type": "code",
   "execution_count": 84,
   "metadata": {},
   "outputs": [
    {
     "data": {
      "text/plain": [
       "Android    2450\n",
       "Other        70\n",
       "Windows      66\n",
       "iOS          65\n",
       "Name: OS, dtype: int64"
      ]
     },
     "execution_count": 84,
     "metadata": {},
     "output_type": "execute_result"
    }
   ],
   "source": [
    "y.value_counts()"
   ]
  },
  {
   "cell_type": "markdown",
   "metadata": {},
   "source": [
    "## Building a class for model evaluation"
   ]
  },
  {
   "cell_type": "markdown",
   "metadata": {},
   "source": [
    "<p dir=rtl style=\"direction: rtl;text-align: justify;line-height:200%;font-family:vazir;font-size:medium\">\n",
    "<font face=\"vazir\" size=5 color=blue> \n",
    "یک کلاس برای فرآیند گریدسرچ بر روی مدل‌های دسته‌بندی ساخته‌ایم که بهترین هایپرپارامترها و امتیازات مربوط به داده‌های آموزشی و داده‌های اعتبارسنجی را گزارش می‌کند. \n",
    "</font>\n",
    "</p>"
   ]
  },
  {
   "cell_type": "code",
   "execution_count": 48,
   "metadata": {},
   "outputs": [],
   "source": [
    "class ModelTrainer:\n",
    "    def __init__(self, model, param_grid=None):\n",
    "        self.model = model\n",
    "        self.param_grid = param_grid\n",
    "\n",
    "    def train(self, X_train, y_train, X_val, y_val):\n",
    "        \n",
    "        if self.param_grid is None:\n",
    "            grid_search = self.model\n",
    "        else:\n",
    "            grid_search = GridSearchCV(self.model, self.param_grid, cv=5, return_train_score=True)\n",
    "        grid_search.fit(X_train, y_train)\n",
    "        \n",
    "        \n",
    "        if self.param_grid is not None:\n",
    "            print(\"Best Parameters:\", grid_search.best_params_)\n",
    "\n",
    "            best_model = grid_search.best_estimator_\n",
    "            cv_scores = cross_val_score(best_model, X_train, y_train, cv=5)\n",
    "            print(\"Cross Validation Scores:\", cv_scores)\n",
    "            print(\"Mean Cross Validation Score:\", cv_scores.mean())\n",
    "\n",
    "            train_scores = grid_search.cv_results_['mean_train_score']\n",
    "            print(\"Training Set Scores in Each Fold:\")\n",
    "            print(train_scores)\n",
    "            \n",
    "            \n",
    "        validation_set_score = grid_search.score(X_val, y_val)\n",
    "        print(\"validation Set Score:\", validation_set_score)\n",
    "\n",
    "        y_pred = grid_search.predict(X_val)\n",
    "        cm = confusion_matrix(y_val , y_pred)\n",
    "        print(\"Confusion Matrix:\")\n",
    "        print(cm)\n",
    "        print(\"F1 Score:\", f1_score(y_val , y_pred ,average='weighted'))\n",
    "        print(\"Accuracy Score:\", accuracy_score(y_val , y_pred))\n",
    "        print(\"Classification Report:\")\n",
    "        print(classification_report(y_val , y_pred))\n",
    "        \n",
    "        return accuracy_score(y_val , y_pred)\n"
   ]
  },
  {
   "cell_type": "markdown",
   "metadata": {},
   "source": [
    "## Splitting Data"
   ]
  },
  {
   "cell_type": "markdown",
   "metadata": {},
   "source": [
    "<p dir=rtl style=\"direction: rtl;text-align: justify;line-height:200%;font-family:vazir;font-size:medium\">\n",
    "<font face=\"vazir\" size=5 color=blue> \n",
    "داده‌ها را به سه دسته آموزشی، اعتبارسنجی و تست تقسیم کرده‌ایم. با توجه به اینکه توزیع داده‌ها در بین انواع سیستم‌عامل‌ها بالانس نیست، در تقسیم داده‌ها این متغیر را استفاده‌ کرده‌ایم تا از کلاس‌های مختلف در هر سه دسته داده داشته باشیم.\n",
    "</font>\n",
    "</p>"
   ]
  },
  {
   "cell_type": "code",
   "execution_count": 49,
   "metadata": {},
   "outputs": [],
   "source": [
    "X_train_val, X_test, y_train_val, y_test = train_test_split(X, y, test_size=0.15, random_state=42, stratify=y)\n",
    "\n",
    "X_train, X_val, y_train, y_val = train_test_split(X_train_val, y_train_val, test_size=0.25, random_state=42, stratify=y_train_val)"
   ]
  },
  {
   "cell_type": "markdown",
   "metadata": {},
   "source": [
    "## Scaling Data"
   ]
  },
  {
   "cell_type": "markdown",
   "metadata": {},
   "source": [
    "<p dir=rtl style=\"direction: rtl;text-align: justify;line-height:200%;font-family:vazir;font-size:medium\">\n",
    "<font face=\"vazir\" size=5 color=blue> \n",
    "داده‌ها را به کمک استاندارداسکیلر اسکیل کرده‌ایم\n",
    "</font>\n",
    "</p>  \n"
   ]
  },
  {
   "cell_type": "code",
   "execution_count": 50,
   "metadata": {},
   "outputs": [],
   "source": [
    "scaler = StandardScaler()\n",
    "X_train= scaler.fit_transform(X_train)\n",
    "X_test= scaler.transform(X_test)\n",
    "X_val= scaler.transform(X_val)"
   ]
  },
  {
   "cell_type": "markdown",
   "metadata": {},
   "source": [
    "# Model Training"
   ]
  },
  {
   "cell_type": "markdown",
   "metadata": {},
   "source": [
    "## KNN"
   ]
  },
  {
   "cell_type": "code",
   "execution_count": 52,
   "metadata": {},
   "outputs": [],
   "source": [
    "model_name = []\n",
    "model_acc = []"
   ]
  },
  {
   "cell_type": "code",
   "execution_count": 53,
   "metadata": {},
   "outputs": [
    {
     "name": "stdout",
     "output_type": "stream",
     "text": [
      "Best Parameters: {'n_neighbors': 3, 'weights': 'uniform'}\n",
      "Cross Validation Scores: [0.97633136 0.96449704 0.97633136 0.97633136 0.9851632 ]\n",
      "Mean Cross Validation Score: 0.9757308658016258\n",
      "Training Set Scores in Each Fold:\n",
      "[0.98194204 1.         0.98046209 1.         0.97779773 1.\n",
      " 0.96788079 1.         0.96536502 1.        ]\n",
      "validation Set Score: 0.9698581560283688\n",
      "Confusion Matrix:\n",
      "[[515   2   4   0]\n",
      " [  6   9   0   0]\n",
      " [  5   0   9   0]\n",
      " [  0   0   0  14]]\n",
      "F1 Score: 0.9685435122093051\n",
      "Accuracy Score: 0.9698581560283688\n",
      "Classification Report:\n",
      "              precision    recall  f1-score   support\n",
      "\n",
      "     Android       0.98      0.99      0.98       521\n",
      "       Other       0.82      0.60      0.69        15\n",
      "     Windows       0.69      0.64      0.67        14\n",
      "         iOS       1.00      1.00      1.00        14\n",
      "\n",
      "    accuracy                           0.97       564\n",
      "   macro avg       0.87      0.81      0.84       564\n",
      "weighted avg       0.97      0.97      0.97       564\n",
      "\n"
     ]
    }
   ],
   "source": [
    "knn = KNeighborsClassifier()\n",
    "param_grid = {'n_neighbors': [3, 5, 7,10,20], 'weights': ['uniform', 'distance']}\n",
    "\n",
    "trainer = ModelTrainer(knn, param_grid)\n",
    "\n",
    "acc = trainer.train(X_train, y_train, X_val, y_val)\n",
    "\n",
    "model_name.append(\"KNN\")\n",
    "model_acc.append(acc)"
   ]
  },
  {
   "cell_type": "markdown",
   "metadata": {},
   "source": [
    "## LogReg"
   ]
  },
  {
   "cell_type": "code",
   "execution_count": 54,
   "metadata": {},
   "outputs": [
    {
     "name": "stdout",
     "output_type": "stream",
     "text": [
      "validation Set Score: 0.9645390070921985\n",
      "Confusion Matrix:\n",
      "[[512   5   4   0]\n",
      " [  6   9   0   0]\n",
      " [  5   0   9   0]\n",
      " [  0   0   0  14]]\n",
      "F1 Score: 0.9639411972500747\n",
      "Accuracy Score: 0.9645390070921985\n",
      "Classification Report:\n",
      "              precision    recall  f1-score   support\n",
      "\n",
      "     Android       0.98      0.98      0.98       521\n",
      "       Other       0.64      0.60      0.62        15\n",
      "     Windows       0.69      0.64      0.67        14\n",
      "         iOS       1.00      1.00      1.00        14\n",
      "\n",
      "    accuracy                           0.96       564\n",
      "   macro avg       0.83      0.81      0.82       564\n",
      "weighted avg       0.96      0.96      0.96       564\n",
      "\n"
     ]
    },
    {
     "name": "stderr",
     "output_type": "stream",
     "text": [
      "C:\\Users\\HP\\Documents\\Quera\\qenv\\lib\\site-packages\\sklearn\\linear_model\\_logistic.py:444: ConvergenceWarning: lbfgs failed to converge (status=1):\n",
      "STOP: TOTAL NO. of ITERATIONS REACHED LIMIT.\n",
      "\n",
      "Increase the number of iterations (max_iter) or scale the data as shown in:\n",
      "    https://scikit-learn.org/stable/modules/preprocessing.html\n",
      "Please also refer to the documentation for alternative solver options:\n",
      "    https://scikit-learn.org/stable/modules/linear_model.html#logistic-regression\n",
      "  n_iter_i = _check_optimize_result(\n"
     ]
    }
   ],
   "source": [
    "LogReg = LogisticRegression()\n",
    "\n",
    "trainer = ModelTrainer(LogReg)\n",
    "\n",
    "acc = trainer.train(X_train, y_train, X_val, y_val)\n",
    "\n",
    "model_acc.append(acc)\n",
    "model_name.append(\"LogReg\")"
   ]
  },
  {
   "cell_type": "markdown",
   "metadata": {},
   "source": [
    "## DTC"
   ]
  },
  {
   "cell_type": "code",
   "execution_count": 55,
   "metadata": {},
   "outputs": [
    {
     "name": "stdout",
     "output_type": "stream",
     "text": [
      "Best Parameters: {'max_depth': 7, 'min_samples_leaf': 4, 'min_samples_split': 2}\n",
      "Cross Validation Scores: [0.97633136 0.98224852 0.97633136 0.96153846 0.98813056]\n",
      "Mean Cross Validation Score: 0.9769160535880463\n",
      "Training Set Scores in Each Fold:\n",
      "[1.         0.99363555 0.98830671 0.9894908  0.98845497 0.98534671\n",
      " 0.98519867 0.98460652 0.98386643 0.96195991 0.96195991 0.96195991\n",
      " 0.96195991 0.96195991 0.96195991 0.96121983 0.96121983 0.96121983\n",
      " 0.97853814 0.97779806 0.97779806 0.97838934 0.97838934 0.97838934\n",
      " 0.98031384 0.98179422 0.98179422 0.9829782  0.98149804 0.98105392\n",
      " 0.98460641 0.98460641 0.98431055 0.98268234 0.98268234 0.98297842]\n",
      "validation Set Score: 0.973404255319149\n",
      "Confusion Matrix:\n",
      "[[516   1   4   0]\n",
      " [  4  11   0   0]\n",
      " [  6   0   8   0]\n",
      " [  0   0   0  14]]\n",
      "F1 Score: 0.9722933040009185\n",
      "Accuracy Score: 0.973404255319149\n",
      "Classification Report:\n",
      "              precision    recall  f1-score   support\n",
      "\n",
      "     Android       0.98      0.99      0.99       521\n",
      "       Other       0.92      0.73      0.81        15\n",
      "     Windows       0.67      0.57      0.62        14\n",
      "         iOS       1.00      1.00      1.00        14\n",
      "\n",
      "    accuracy                           0.97       564\n",
      "   macro avg       0.89      0.82      0.85       564\n",
      "weighted avg       0.97      0.97      0.97       564\n",
      "\n"
     ]
    }
   ],
   "source": [
    "tree_clf = DecisionTreeClassifier()\n",
    "param_grid = {'max_depth': [None, 3, 5, 7], 'min_samples_split': [2, 5, 10], 'min_samples_leaf': [1, 2, 4]}\n",
    "\n",
    "trainer = ModelTrainer(tree_clf,param_grid)\n",
    "\n",
    "\n",
    "acc = trainer.train(X_train, y_train, X_val, y_val)\n",
    "\n",
    "model_acc.append(acc)\n",
    "model_name.append(\"DTC\")"
   ]
  },
  {
   "cell_type": "code",
   "execution_count": 56,
   "metadata": {},
   "outputs": [
    {
     "name": "stdout",
     "output_type": "stream",
     "text": [
      "validation Set Score: 0.9237588652482269\n",
      "Confusion Matrix:\n",
      "[[521   0   0   0]\n",
      " [ 15   0   0   0]\n",
      " [ 14   0   0   0]\n",
      " [ 14   0   0   0]]\n",
      "F1 Score: 0.8871490669019839\n",
      "Accuracy Score: 0.9237588652482269\n",
      "Classification Report:\n",
      "              precision    recall  f1-score   support\n",
      "\n",
      "     Android       0.92      1.00      0.96       521\n",
      "       Other       0.00      0.00      0.00        15\n",
      "     Windows       0.00      0.00      0.00        14\n",
      "         iOS       0.00      0.00      0.00        14\n",
      "\n",
      "    accuracy                           0.92       564\n",
      "   macro avg       0.23      0.25      0.24       564\n",
      "weighted avg       0.85      0.92      0.89       564\n",
      "\n"
     ]
    },
    {
     "name": "stderr",
     "output_type": "stream",
     "text": [
      "C:\\Users\\HP\\Documents\\Quera\\qenv\\lib\\site-packages\\sklearn\\metrics\\_classification.py:1327: UndefinedMetricWarning: Precision and F-score are ill-defined and being set to 0.0 in labels with no predicted samples. Use `zero_division` parameter to control this behavior.\n",
      "  _warn_prf(average, modifier, msg_start, len(result))\n",
      "C:\\Users\\HP\\Documents\\Quera\\qenv\\lib\\site-packages\\sklearn\\metrics\\_classification.py:1327: UndefinedMetricWarning: Precision and F-score are ill-defined and being set to 0.0 in labels with no predicted samples. Use `zero_division` parameter to control this behavior.\n",
      "  _warn_prf(average, modifier, msg_start, len(result))\n",
      "C:\\Users\\HP\\Documents\\Quera\\qenv\\lib\\site-packages\\sklearn\\metrics\\_classification.py:1327: UndefinedMetricWarning: Precision and F-score are ill-defined and being set to 0.0 in labels with no predicted samples. Use `zero_division` parameter to control this behavior.\n",
      "  _warn_prf(average, modifier, msg_start, len(result))\n"
     ]
    }
   ],
   "source": [
    "dtc2 = DecisionTreeClassifier(criterion= 'entropy' , ccp_alpha=0.25)\n",
    "\n",
    "trainer = ModelTrainer(dtc2)\n",
    "\n",
    "acc = trainer.train(X_train, y_train, X_val, y_val)\n",
    "\n",
    "model_acc.append(acc)\n",
    "model_name.append(\"DTC_entropy\")"
   ]
  },
  {
   "cell_type": "markdown",
   "metadata": {},
   "source": [
    "## SVC"
   ]
  },
  {
   "cell_type": "code",
   "execution_count": 57,
   "metadata": {},
   "outputs": [
    {
     "name": "stdout",
     "output_type": "stream",
     "text": [
      "Best Parameters: {'C': 10, 'gamma': 'scale', 'kernel': 'rbf'}\n",
      "Cross Validation Scores: [0.98224852 0.9704142  0.97337278 0.97337278 0.9851632 ]\n",
      "Mean Cross Validation Score: 0.9769142977542886\n",
      "Training Set Scores in Each Fold:\n",
      "[0.97409764 0.95899969 0.9378327  0.93457673 0.97409764 0.95840754\n",
      " 0.93798074 0.93457673 0.97927822 0.97883389 0.97705787 0.95914806\n",
      " 0.97927822 0.97883389 0.97690983 0.95900002 0.98475488 0.98712284\n",
      " 0.98801063 0.93768521 0.98475488 0.9869748  0.98771467 0.93857333]\n",
      "validation Set Score: 0.9769503546099291\n",
      "Confusion Matrix:\n",
      "[[518   0   3   0]\n",
      " [  3  12   0   0]\n",
      " [  7   0   7   0]\n",
      " [  0   0   0  14]]\n",
      "F1 Score: 0.975254210359072\n",
      "Accuracy Score: 0.9769503546099291\n",
      "Classification Report:\n",
      "              precision    recall  f1-score   support\n",
      "\n",
      "     Android       0.98      0.99      0.99       521\n",
      "       Other       1.00      0.80      0.89        15\n",
      "     Windows       0.70      0.50      0.58        14\n",
      "         iOS       1.00      1.00      1.00        14\n",
      "\n",
      "    accuracy                           0.98       564\n",
      "   macro avg       0.92      0.82      0.86       564\n",
      "weighted avg       0.98      0.98      0.98       564\n",
      "\n"
     ]
    }
   ],
   "source": [
    "svc = SVC()\n",
    "\n",
    "param_grid = {'C': [0.1, 1, 10], 'kernel': ['linear', 'poly', 'rbf', 'sigmoid'], 'gamma': ['scale', 'auto']}\n",
    "\n",
    "trainer = ModelTrainer(svc,param_grid)\n",
    "\n",
    "acc = trainer.train(X_train, y_train, X_val, y_val)\n",
    "\n",
    "model_acc.append(acc)\n",
    "model_name.append(\"SVC\")"
   ]
  },
  {
   "cell_type": "markdown",
   "metadata": {},
   "source": [
    "## NaiveBayes"
   ]
  },
  {
   "cell_type": "code",
   "execution_count": 58,
   "metadata": {},
   "outputs": [
    {
     "name": "stderr",
     "output_type": "stream",
     "text": [
      "C:\\Users\\HP\\Documents\\Quera\\qenv\\lib\\site-packages\\sklearn\\naive_bayes.py:1132: RuntimeWarning: invalid value encountered in log\n",
      "  self.feature_log_prob_ = np.log(smoothed_fc) - np.log(\n",
      "C:\\Users\\HP\\Documents\\Quera\\qenv\\lib\\site-packages\\sklearn\\naive_bayes.py:1147: RuntimeWarning: invalid value encountered in log\n",
      "  neg_prob = np.log(1 - np.exp(self.feature_log_prob_))\n",
      "C:\\Users\\HP\\Documents\\Quera\\qenv\\lib\\site-packages\\sklearn\\naive_bayes.py:1147: RuntimeWarning: invalid value encountered in log\n",
      "  neg_prob = np.log(1 - np.exp(self.feature_log_prob_))\n",
      "C:\\Users\\HP\\Documents\\Quera\\qenv\\lib\\site-packages\\sklearn\\naive_bayes.py:1132: RuntimeWarning: invalid value encountered in log\n",
      "  self.feature_log_prob_ = np.log(smoothed_fc) - np.log(\n",
      "C:\\Users\\HP\\Documents\\Quera\\qenv\\lib\\site-packages\\sklearn\\naive_bayes.py:1147: RuntimeWarning: invalid value encountered in log\n",
      "  neg_prob = np.log(1 - np.exp(self.feature_log_prob_))\n",
      "C:\\Users\\HP\\Documents\\Quera\\qenv\\lib\\site-packages\\sklearn\\naive_bayes.py:1147: RuntimeWarning: invalid value encountered in log\n",
      "  neg_prob = np.log(1 - np.exp(self.feature_log_prob_))\n",
      "C:\\Users\\HP\\Documents\\Quera\\qenv\\lib\\site-packages\\sklearn\\naive_bayes.py:1132: RuntimeWarning: invalid value encountered in log\n",
      "  self.feature_log_prob_ = np.log(smoothed_fc) - np.log(\n",
      "C:\\Users\\HP\\Documents\\Quera\\qenv\\lib\\site-packages\\sklearn\\naive_bayes.py:1147: RuntimeWarning: invalid value encountered in log\n",
      "  neg_prob = np.log(1 - np.exp(self.feature_log_prob_))\n",
      "C:\\Users\\HP\\Documents\\Quera\\qenv\\lib\\site-packages\\sklearn\\naive_bayes.py:1147: RuntimeWarning: invalid value encountered in log\n",
      "  neg_prob = np.log(1 - np.exp(self.feature_log_prob_))\n",
      "C:\\Users\\HP\\Documents\\Quera\\qenv\\lib\\site-packages\\sklearn\\naive_bayes.py:1132: RuntimeWarning: invalid value encountered in log\n",
      "  self.feature_log_prob_ = np.log(smoothed_fc) - np.log(\n",
      "C:\\Users\\HP\\Documents\\Quera\\qenv\\lib\\site-packages\\sklearn\\naive_bayes.py:1147: RuntimeWarning: invalid value encountered in log\n",
      "  neg_prob = np.log(1 - np.exp(self.feature_log_prob_))\n",
      "C:\\Users\\HP\\Documents\\Quera\\qenv\\lib\\site-packages\\sklearn\\naive_bayes.py:1147: RuntimeWarning: invalid value encountered in log\n",
      "  neg_prob = np.log(1 - np.exp(self.feature_log_prob_))\n",
      "C:\\Users\\HP\\Documents\\Quera\\qenv\\lib\\site-packages\\sklearn\\naive_bayes.py:1132: RuntimeWarning: invalid value encountered in log\n",
      "  self.feature_log_prob_ = np.log(smoothed_fc) - np.log(\n",
      "C:\\Users\\HP\\Documents\\Quera\\qenv\\lib\\site-packages\\sklearn\\naive_bayes.py:1147: RuntimeWarning: invalid value encountered in log\n",
      "  neg_prob = np.log(1 - np.exp(self.feature_log_prob_))\n",
      "C:\\Users\\HP\\Documents\\Quera\\qenv\\lib\\site-packages\\sklearn\\naive_bayes.py:1147: RuntimeWarning: invalid value encountered in log\n",
      "  neg_prob = np.log(1 - np.exp(self.feature_log_prob_))\n",
      "C:\\Users\\HP\\Documents\\Quera\\qenv\\lib\\site-packages\\sklearn\\naive_bayes.py:1132: RuntimeWarning: invalid value encountered in log\n",
      "  self.feature_log_prob_ = np.log(smoothed_fc) - np.log(\n",
      "C:\\Users\\HP\\Documents\\Quera\\qenv\\lib\\site-packages\\sklearn\\naive_bayes.py:1147: RuntimeWarning: invalid value encountered in log\n",
      "  neg_prob = np.log(1 - np.exp(self.feature_log_prob_))\n",
      "C:\\Users\\HP\\Documents\\Quera\\qenv\\lib\\site-packages\\sklearn\\naive_bayes.py:1147: RuntimeWarning: invalid value encountered in log\n",
      "  neg_prob = np.log(1 - np.exp(self.feature_log_prob_))\n",
      "C:\\Users\\HP\\Documents\\Quera\\qenv\\lib\\site-packages\\sklearn\\naive_bayes.py:1132: RuntimeWarning: invalid value encountered in log\n",
      "  self.feature_log_prob_ = np.log(smoothed_fc) - np.log(\n",
      "C:\\Users\\HP\\Documents\\Quera\\qenv\\lib\\site-packages\\sklearn\\naive_bayes.py:1147: RuntimeWarning: invalid value encountered in log\n",
      "  neg_prob = np.log(1 - np.exp(self.feature_log_prob_))\n",
      "C:\\Users\\HP\\Documents\\Quera\\qenv\\lib\\site-packages\\sklearn\\naive_bayes.py:1147: RuntimeWarning: invalid value encountered in log\n",
      "  neg_prob = np.log(1 - np.exp(self.feature_log_prob_))\n",
      "C:\\Users\\HP\\Documents\\Quera\\qenv\\lib\\site-packages\\sklearn\\naive_bayes.py:1132: RuntimeWarning: invalid value encountered in log\n",
      "  self.feature_log_prob_ = np.log(smoothed_fc) - np.log(\n",
      "C:\\Users\\HP\\Documents\\Quera\\qenv\\lib\\site-packages\\sklearn\\naive_bayes.py:1147: RuntimeWarning: invalid value encountered in log\n",
      "  neg_prob = np.log(1 - np.exp(self.feature_log_prob_))\n",
      "C:\\Users\\HP\\Documents\\Quera\\qenv\\lib\\site-packages\\sklearn\\naive_bayes.py:1147: RuntimeWarning: invalid value encountered in log\n",
      "  neg_prob = np.log(1 - np.exp(self.feature_log_prob_))\n",
      "C:\\Users\\HP\\Documents\\Quera\\qenv\\lib\\site-packages\\sklearn\\naive_bayes.py:1132: RuntimeWarning: invalid value encountered in log\n",
      "  self.feature_log_prob_ = np.log(smoothed_fc) - np.log(\n",
      "C:\\Users\\HP\\Documents\\Quera\\qenv\\lib\\site-packages\\sklearn\\naive_bayes.py:1147: RuntimeWarning: invalid value encountered in log\n",
      "  neg_prob = np.log(1 - np.exp(self.feature_log_prob_))\n",
      "C:\\Users\\HP\\Documents\\Quera\\qenv\\lib\\site-packages\\sklearn\\naive_bayes.py:1147: RuntimeWarning: invalid value encountered in log\n",
      "  neg_prob = np.log(1 - np.exp(self.feature_log_prob_))\n",
      "C:\\Users\\HP\\Documents\\Quera\\qenv\\lib\\site-packages\\sklearn\\naive_bayes.py:1132: RuntimeWarning: invalid value encountered in log\n",
      "  self.feature_log_prob_ = np.log(smoothed_fc) - np.log(\n",
      "C:\\Users\\HP\\Documents\\Quera\\qenv\\lib\\site-packages\\sklearn\\naive_bayes.py:1147: RuntimeWarning: invalid value encountered in log\n",
      "  neg_prob = np.log(1 - np.exp(self.feature_log_prob_))\n",
      "C:\\Users\\HP\\Documents\\Quera\\qenv\\lib\\site-packages\\sklearn\\naive_bayes.py:1147: RuntimeWarning: invalid value encountered in log\n",
      "  neg_prob = np.log(1 - np.exp(self.feature_log_prob_))\n",
      "C:\\Users\\HP\\Documents\\Quera\\qenv\\lib\\site-packages\\sklearn\\naive_bayes.py:1132: RuntimeWarning: invalid value encountered in log\n",
      "  self.feature_log_prob_ = np.log(smoothed_fc) - np.log(\n",
      "C:\\Users\\HP\\Documents\\Quera\\qenv\\lib\\site-packages\\sklearn\\naive_bayes.py:1147: RuntimeWarning: invalid value encountered in log\n",
      "  neg_prob = np.log(1 - np.exp(self.feature_log_prob_))\n",
      "C:\\Users\\HP\\Documents\\Quera\\qenv\\lib\\site-packages\\sklearn\\naive_bayes.py:1147: RuntimeWarning: invalid value encountered in log\n",
      "  neg_prob = np.log(1 - np.exp(self.feature_log_prob_))\n",
      "C:\\Users\\HP\\Documents\\Quera\\qenv\\lib\\site-packages\\sklearn\\naive_bayes.py:1132: RuntimeWarning: invalid value encountered in log\n",
      "  self.feature_log_prob_ = np.log(smoothed_fc) - np.log(\n",
      "C:\\Users\\HP\\Documents\\Quera\\qenv\\lib\\site-packages\\sklearn\\naive_bayes.py:1147: RuntimeWarning: invalid value encountered in log\n",
      "  neg_prob = np.log(1 - np.exp(self.feature_log_prob_))\n"
     ]
    },
    {
     "name": "stdout",
     "output_type": "stream",
     "text": [
      "Best Parameters: {'alpha': 10.0, 'binarize': 0.0}\n",
      "Cross Validation Scores: [0.9556213  0.94674556 0.95266272 0.94674556 0.95845697]\n",
      "Mean Cross Validation Score: 0.9520464242445525\n",
      "Training Set Scores in Each Fold:\n",
      "[0.92421557 0.84695152 0.87507522 0.92421557 0.83259464 0.85464931\n",
      " 0.92421557 0.95367107 0.94952654]\n",
      "validation Set Score: 0.9361702127659575\n",
      "Confusion Matrix:\n",
      "[[505   3  13   0]\n",
      " [ 11   3   1   0]\n",
      " [  8   0   6   0]\n",
      " [  0   0   0  14]]\n",
      "F1 Score: 0.9340020035297026\n",
      "Accuracy Score: 0.9361702127659575\n",
      "Classification Report:\n",
      "              precision    recall  f1-score   support\n",
      "\n",
      "     Android       0.96      0.97      0.97       521\n",
      "       Other       0.50      0.20      0.29        15\n",
      "     Windows       0.30      0.43      0.35        14\n",
      "         iOS       1.00      1.00      1.00        14\n",
      "\n",
      "    accuracy                           0.94       564\n",
      "   macro avg       0.69      0.65      0.65       564\n",
      "weighted avg       0.94      0.94      0.93       564\n",
      "\n"
     ]
    },
    {
     "name": "stderr",
     "output_type": "stream",
     "text": [
      "C:\\Users\\HP\\Documents\\Quera\\qenv\\lib\\site-packages\\sklearn\\naive_bayes.py:1147: RuntimeWarning: invalid value encountered in log\n",
      "  neg_prob = np.log(1 - np.exp(self.feature_log_prob_))\n",
      "C:\\Users\\HP\\Documents\\Quera\\qenv\\lib\\site-packages\\sklearn\\naive_bayes.py:1132: RuntimeWarning: invalid value encountered in log\n",
      "  self.feature_log_prob_ = np.log(smoothed_fc) - np.log(\n",
      "C:\\Users\\HP\\Documents\\Quera\\qenv\\lib\\site-packages\\sklearn\\naive_bayes.py:1147: RuntimeWarning: invalid value encountered in log\n",
      "  neg_prob = np.log(1 - np.exp(self.feature_log_prob_))\n",
      "C:\\Users\\HP\\Documents\\Quera\\qenv\\lib\\site-packages\\sklearn\\naive_bayes.py:1147: RuntimeWarning: invalid value encountered in log\n",
      "  neg_prob = np.log(1 - np.exp(self.feature_log_prob_))\n",
      "C:\\Users\\HP\\Documents\\Quera\\qenv\\lib\\site-packages\\sklearn\\naive_bayes.py:1132: RuntimeWarning: invalid value encountered in log\n",
      "  self.feature_log_prob_ = np.log(smoothed_fc) - np.log(\n",
      "C:\\Users\\HP\\Documents\\Quera\\qenv\\lib\\site-packages\\sklearn\\naive_bayes.py:1147: RuntimeWarning: invalid value encountered in log\n",
      "  neg_prob = np.log(1 - np.exp(self.feature_log_prob_))\n",
      "C:\\Users\\HP\\Documents\\Quera\\qenv\\lib\\site-packages\\sklearn\\naive_bayes.py:1147: RuntimeWarning: invalid value encountered in log\n",
      "  neg_prob = np.log(1 - np.exp(self.feature_log_prob_))\n",
      "C:\\Users\\HP\\Documents\\Quera\\qenv\\lib\\site-packages\\sklearn\\naive_bayes.py:1132: RuntimeWarning: invalid value encountered in log\n",
      "  self.feature_log_prob_ = np.log(smoothed_fc) - np.log(\n",
      "C:\\Users\\HP\\Documents\\Quera\\qenv\\lib\\site-packages\\sklearn\\naive_bayes.py:1147: RuntimeWarning: invalid value encountered in log\n",
      "  neg_prob = np.log(1 - np.exp(self.feature_log_prob_))\n",
      "C:\\Users\\HP\\Documents\\Quera\\qenv\\lib\\site-packages\\sklearn\\naive_bayes.py:1147: RuntimeWarning: invalid value encountered in log\n",
      "  neg_prob = np.log(1 - np.exp(self.feature_log_prob_))\n"
     ]
    }
   ],
   "source": [
    "bnb = BernoulliNB()\n",
    "\n",
    "param_grid = {'alpha': [0.1, 1.0, 10.0], 'binarize': [None, 0.0, 0.5]}\n",
    "\n",
    "binarizer = Binarizer()\n",
    "X_train_binarized = binarizer.fit_transform(X_train)\n",
    "X_val_binarized = binarizer.transform(X_val)\n",
    "X_test_binarized = binarizer.transform(X_test)\n",
    "\n",
    "trainer = ModelTrainer(bnb,param_grid)\n",
    "\n",
    "acc = trainer.train(X_train, y_train, X_val, y_val)\n",
    "\n",
    "model_acc.append(acc)\n",
    "model_name.append(\"BernouliNB\")"
   ]
  },
  {
   "cell_type": "markdown",
   "metadata": {},
   "source": [
    "## GaussianNB"
   ]
  },
  {
   "cell_type": "code",
   "execution_count": 59,
   "metadata": {},
   "outputs": [
    {
     "name": "stdout",
     "output_type": "stream",
     "text": [
      "validation Set Score: 0.5319148936170213\n",
      "Confusion Matrix:\n",
      "[[261 168  92   0]\n",
      " [  0  12   3   0]\n",
      " [  0   1  13   0]\n",
      " [  0   0   0  14]]\n",
      "F1 Score: 0.649996161094668\n",
      "Accuracy Score: 0.5319148936170213\n",
      "Classification Report:\n",
      "              precision    recall  f1-score   support\n",
      "\n",
      "     Android       1.00      0.50      0.67       521\n",
      "       Other       0.07      0.80      0.12        15\n",
      "     Windows       0.12      0.93      0.21        14\n",
      "         iOS       1.00      1.00      1.00        14\n",
      "\n",
      "    accuracy                           0.53       564\n",
      "   macro avg       0.55      0.81      0.50       564\n",
      "weighted avg       0.95      0.53      0.65       564\n",
      "\n"
     ]
    }
   ],
   "source": [
    "gaussNB = GaussianNB()\n",
    "\n",
    "trainer = ModelTrainer(gaussNB)\n",
    "\n",
    "acc = trainer.train(X_train, y_train, X_val, y_val)\n",
    "\n",
    "model_acc.append(acc)\n",
    "model_name.append(\"GaussianNB\")"
   ]
  },
  {
   "cell_type": "markdown",
   "metadata": {},
   "source": [
    "## Rndom Forest"
   ]
  },
  {
   "cell_type": "code",
   "execution_count": 60,
   "metadata": {},
   "outputs": [
    {
     "name": "stdout",
     "output_type": "stream",
     "text": [
      "Best Parameters: {'max_depth': None, 'min_samples_leaf': 1, 'min_samples_split': 2, 'n_estimators': 300}\n",
      "Cross Validation Scores: [0.98224852 0.97337278 0.9704142  0.9704142  0.99109792]\n",
      "Mean Cross Validation Score: 0.9775095253981354\n",
      "Training Set Scores in Each Fold:\n",
      "[1.         1.         1.         0.98860279 0.98830715 0.98875105\n",
      " 0.98268245 0.98283049 0.98283027 0.9846063  0.98519856 0.98431033\n",
      " 0.98431033 0.98386621 0.98416229 0.97853814 0.97779784 0.9776498\n",
      " 0.97202554 0.97232129 0.97232162 0.97172936 0.9723214  0.97291356\n",
      " 0.97172914 0.97187729 0.97143328 0.96743668 0.96403201 0.9655124\n",
      " 0.96403234 0.96388452 0.96654845 0.96136874 0.96225654 0.96136798\n",
      " 0.96344041 0.96462384 0.96314444 0.96506839 0.9629964  0.96447668\n",
      " 0.96107146 0.96077593 0.96181198 0.96107212 0.96092397 0.96033214\n",
      " 0.95929588 0.96196068 0.96121994 0.95840754 0.95914762 0.96107168\n",
      " 0.98667873 0.9869748  0.98682665 0.98431044 0.98327406 0.98416229\n",
      " 0.97942615 0.9783901  0.97853803 0.98061013 0.98135011 0.98164629\n",
      " 0.98075839 0.98031395 0.98046199 0.97587367 0.97631756 0.97587378\n",
      " 0.97098916 0.97098916 0.9718775  0.97113731 0.97084113 0.97143306\n",
      " 0.97158154 0.97024897 0.97054516]\n",
      "validation Set Score: 0.9769503546099291\n",
      "Confusion Matrix:\n",
      "[[519   0   2   0]\n",
      " [  5  10   0   0]\n",
      " [  6   0   8   0]\n",
      " [  0   0   0  14]]\n",
      "F1 Score: 0.974980486894166\n",
      "Accuracy Score: 0.9769503546099291\n",
      "Classification Report:\n",
      "              precision    recall  f1-score   support\n",
      "\n",
      "     Android       0.98      1.00      0.99       521\n",
      "       Other       1.00      0.67      0.80        15\n",
      "     Windows       0.80      0.57      0.67        14\n",
      "         iOS       1.00      1.00      1.00        14\n",
      "\n",
      "    accuracy                           0.98       564\n",
      "   macro avg       0.94      0.81      0.86       564\n",
      "weighted avg       0.98      0.98      0.97       564\n",
      "\n"
     ]
    }
   ],
   "source": [
    "rf = RandomForestClassifier()\n",
    "\n",
    "param_grid = {\n",
    "    'n_estimators': [100, 200, 300],\n",
    "    'max_depth': [None, 5, 10],\n",
    "    'min_samples_split': [2, 5, 10],\n",
    "    'min_samples_leaf': [1, 2, 4]\n",
    "}\n",
    "\n",
    "trainer = ModelTrainer(rf,param_grid)\n",
    "acc = trainer.train(X_train, y_train, X_val, y_val)\n",
    "\n",
    "model_acc.append(acc)\n",
    "model_name.append(\"RF\")"
   ]
  },
  {
   "cell_type": "markdown",
   "metadata": {},
   "source": [
    "## more detailed search in Random Forest Hyper parameters"
   ]
  },
  {
   "cell_type": "code",
   "execution_count": 62,
   "metadata": {},
   "outputs": [],
   "source": [
    "#Number of trees\n",
    "n_estimator = [int(x) for x in np.linspace(start = 10 ,stop = 80, num = 10)]\n",
    "#Number of features to consider at every split\n",
    "max_features = ['log2' , 'sqrt']\n",
    "#Maximum samples required\n",
    "max_depth =  [int(x) for x in np.linspace(start = 10 ,stop = 100, num = 5)]\n",
    "#Minimum samples required to split the node\n",
    "min_samples_split = [int(x) for x in np.linspace(start = 5 ,stop = 60, num = 5)]\n",
    "#Minimum number of samples required at each leaf\n",
    "min_samples_leaf = [int(x) for x in np.linspace(start = 1 ,stop = 10, num = 2)]\n",
    "#Method of selecting samples for training each tree\n",
    "bootstrap = [True , False]"
   ]
  },
  {
   "cell_type": "code",
   "execution_count": 63,
   "metadata": {},
   "outputs": [],
   "source": [
    "#creating the param grid\n",
    "param_grid = {\n",
    "    'n_estimators': n_estimator,\n",
    "    'max_features': max_features,\n",
    "    'max_depth': max_depth,\n",
    "    'min_samples_split': min_samples_split,\n",
    "    'min_samples_leaf': min_samples_leaf,\n",
    "    'bootstrap':bootstrap\n",
    "}\n"
   ]
  },
  {
   "cell_type": "code",
   "execution_count": 64,
   "metadata": {},
   "outputs": [
    {
     "name": "stdout",
     "output_type": "stream",
     "text": [
      "Best Parameters: {'bootstrap': False, 'max_depth': 32, 'max_features': 'sqrt', 'min_samples_leaf': 1, 'min_samples_split': 5, 'n_estimators': 25}\n",
      "Cross Validation Scores: [0.9852071  0.97337278 0.97633136 0.9704142  0.99109792]\n",
      "Mean Cross Validation Score: 0.9792846733271293\n",
      "Training Set Scores in Each Fold:\n",
      "[0.97972223 0.98135054 0.98046199 ... 0.9548556  0.95426377 0.95618751]\n",
      "validation Set Score: 0.973404255319149\n",
      "Confusion Matrix:\n",
      "[[517   0   4   0]\n",
      " [  5  10   0   0]\n",
      " [  6   0   8   0]\n",
      " [  0   0   0  14]]\n",
      "F1 Score: 0.971924525318842\n",
      "Accuracy Score: 0.973404255319149\n",
      "Classification Report:\n",
      "              precision    recall  f1-score   support\n",
      "\n",
      "     Android       0.98      0.99      0.99       521\n",
      "       Other       1.00      0.67      0.80        15\n",
      "     Windows       0.67      0.57      0.62        14\n",
      "         iOS       1.00      1.00      1.00        14\n",
      "\n",
      "    accuracy                           0.97       564\n",
      "   macro avg       0.91      0.81      0.85       564\n",
      "weighted avg       0.97      0.97      0.97       564\n",
      "\n"
     ]
    }
   ],
   "source": [
    "rf_Model2 = RandomForestClassifier()\n",
    "\n",
    "trainer = ModelTrainer(rf_Model2,param_grid)\n",
    "\n",
    "acc = trainer.train(X_train, y_train, X_val, y_val)\n",
    "\n",
    "model_acc.append(acc)\n",
    "model_name.append(\"RF_tuned\")"
   ]
  },
  {
   "cell_type": "markdown",
   "metadata": {},
   "source": [
    "## Choosing the best model to fit on the test data"
   ]
  },
  {
   "cell_type": "markdown",
   "metadata": {},
   "source": [
    "<p dir=rtl style=\"direction: rtl;text-align: justify;line-height:200%;font-family:vazir;font-size:medium\">\n",
    "<font face=\"vazir\" size=5 color=blue> \n",
    "به کمک نمودار زیر می‌توانیم مدل‌ها رت بر اساس امتیاز با یکدیگر مقایسه کنیم. به نظر می‌رسد مدل ماشین‌بردار پشتیبان بالاترین دقت را روی نمونه‌های اعتبارسنجی داشته‌است. از این رو این مدل را به عنوان مدل نهایی انتخاب کرده و روی داده تست اجرا می‌کنیم\n",
    "</font>\n",
    "</p>"
   ]
  },
  {
   "cell_type": "code",
   "execution_count": 67,
   "metadata": {},
   "outputs": [
    {
     "data": {
      "text/plain": [
       "[<matplotlib.lines.Line2D at 0x215f0952bb0>]"
      ]
     },
     "execution_count": 67,
     "metadata": {},
     "output_type": "execute_result"
    },
    {
     "data": {
      "image/png": "[encoded data removed]",
      "text/plain": [
       "<Figure size 2000x1000 with 1 Axes>"
      ]
     },
     "metadata": {},
     "output_type": "display_data"
    }
   ],
   "source": [
    "ax = plt.subplots(figsize=(20,10))\n",
    "ax = plt.plot(model_name , model_acc)\n",
    "ax"
   ]
  },
  {
   "cell_type": "code",
   "execution_count": 72,
   "metadata": {},
   "outputs": [
    {
     "name": "stdout",
     "output_type": "stream",
     "text": [
      "Confusion Matrix:\n",
      "[[368   0   0   0]\n",
      " [  5   5   0   0]\n",
      " [  3   0   7   0]\n",
      " [  0   0   0  10]] \n",
      "\n",
      "F1 Score: 0.9772486722035225 \n",
      "\n",
      "Accuracy Score: 0.9798994974874372 \n",
      "\n",
      "Classification Report:\n",
      "              precision    recall  f1-score   support\n",
      "\n",
      "     Android       0.98      1.00      0.99       368\n",
      "       Other       1.00      0.50      0.67        10\n",
      "     Windows       1.00      0.70      0.82        10\n",
      "         iOS       1.00      1.00      1.00        10\n",
      "\n",
      "    accuracy                           0.98       398\n",
      "   macro avg       0.99      0.80      0.87       398\n",
      "weighted avg       0.98      0.98      0.98       398\n",
      " \n",
      "\n"
     ]
    }
   ],
   "source": [
    "svc = SVC(C= 10, gamma='scale', kernel='rbf')\n",
    "\n",
    "svc.fit(X_train, y_train)\n",
    "\n",
    "y_pred=svc.predict(X_test)\n",
    "\n",
    "cm = confusion_matrix(y_test , y_pred)\n",
    "\n",
    "print(\"Confusion Matrix:\")\n",
    "print(cm,'\\n')\n",
    "\n",
    "print(\"F1 Score:\", f1_score(y_test , y_pred ,average='weighted'),'\\n')\n",
    "\n",
    "print(\"Accuracy Score:\", accuracy_score(y_test , y_pred),'\\n')\n",
    "\n",
    "print(\"Classification Report:\")\n",
    "print(classification_report(y_test , y_pred),'\\n')\n"
   ]
  },
  {
   "cell_type": "markdown",
   "metadata": {},
   "source": [
    "## Dividing Battery Capacity"
   ]
  },
  {
   "cell_type": "markdown",
   "metadata": {},
   "source": [
    "<p dir=rtl style=\"direction: rtl;text-align: justify;line-height:200%;font-family:vazir;font-size:medium\">\n",
    "<font face=\"vazir\" size=5 color=blue> \n",
    "در این مرحله داده‌های ظرفیت باتری را بر اساس میانگین به سه دسته تقسیم کرده‌ایم \n",
    "</font>\n",
    "</p>"
   ]
  },
  {
   "cell_type": "code",
   "execution_count": 85,
   "metadata": {},
   "outputs": [
    {
     "data": {
      "text/plain": [
       "50.0"
      ]
     },
     "execution_count": 85,
     "metadata": {},
     "output_type": "execute_result"
    }
   ],
   "source": [
    "X['battery_capacity'].min()"
   ]
  },
  {
   "cell_type": "code",
   "execution_count": 86,
   "metadata": {},
   "outputs": [
    {
     "data": {
      "text/plain": [
       "11560.0"
      ]
     },
     "execution_count": 86,
     "metadata": {},
     "output_type": "execute_result"
    }
   ],
   "source": [
    "X['battery_capacity'].max()"
   ]
  },
  {
   "cell_type": "code",
   "execution_count": 87,
   "metadata": {},
   "outputs": [
    {
     "data": {
      "text/plain": [
       "3385.437947944172"
      ]
     },
     "execution_count": 87,
     "metadata": {},
     "output_type": "execute_result"
    }
   ],
   "source": [
    "X['battery_capacity'].mean()"
   ]
  },
  {
   "cell_type": "code",
   "execution_count": 88,
   "metadata": {},
   "outputs": [
    {
     "data": {
      "text/plain": [
       "(array([ 52., 790., 743., 497., 394.,  75.,  56.,  22.,  16.,   6.]),\n",
       " array([   50.,  1201.,  2352.,  3503.,  4654.,  5805.,  6956.,  8107.,\n",
       "         9258., 10409., 11560.]),\n",
       " <BarContainer object of 10 artists>)"
      ]
     },
     "execution_count": 88,
     "metadata": {},
     "output_type": "execute_result"
    },
    {
     "data": {
      "image/png": "[encoded data removed]",
      "text/plain": [
       "<Figure size 640x480 with 1 Axes>"
      ]
     },
     "metadata": {},
     "output_type": "display_data"
    }
   ],
   "source": [
    "plt.hist(X['battery_capacity'])"
   ]
  },
  {
   "cell_type": "code",
   "execution_count": 96,
   "metadata": {},
   "outputs": [],
   "source": [
    "def clustering(x):\n",
    "    if  0<float(x)<3666:\n",
    "        return 1800\n",
    "    elif 3665<=float(x)<5000:\n",
    "        return 4200\n",
    "    elif 5000<=float(x)<12000: \n",
    "        return 8500"
   ]
  },
  {
   "cell_type": "code",
   "execution_count": 98,
   "metadata": {},
   "outputs": [],
   "source": [
    "X['battery_capacity'] = X['battery_capacity'].apply(clustering)"
   ]
  },
  {
   "cell_type": "code",
   "execution_count": 100,
   "metadata": {},
   "outputs": [],
   "source": [
    "X_train_val, X_test, y_train_val, y_test = train_test_split(X, y, test_size=0.15, random_state=42, stratify=y)\n",
    "\n",
    "X_train, X_val, y_train, y_val = train_test_split(X_train_val, y_train_val, test_size=0.25, random_state=42, stratify=y_train_val)"
   ]
  },
  {
   "cell_type": "code",
   "execution_count": 101,
   "metadata": {},
   "outputs": [],
   "source": [
    "scaler = StandardScaler()\n",
    "X_train= scaler.fit_transform(X_train)\n",
    "X_test= scaler.transform(X_test)\n",
    "X_val= scaler.transform(X_val)"
   ]
  },
  {
   "cell_type": "markdown",
   "metadata": {},
   "source": [
    "<p dir=rtl style=\"direction: rtl;text-align: justify;line-height:200%;font-family:vazir;font-size:medium\">\n",
    "<font face=\"vazir\" size=5 color=blue> \n",
    "بهترین مدلی که در وضعیت قبل از تقسیم ستون ظرفیت باتری ترین کرده‌بودیم را مجددا روی داده تست اجرا می‌کنیم. نتایج نشان می‌دهد با وجود این تغییر در دسته‌بندی مقادیر ظرفیت باتری میزان دقت مدل تقریبا هیچ تغییری نکرده‌است\n",
    "</font>\n",
    "</p>"
   ]
  },
  {
   "cell_type": "code",
   "execution_count": 103,
   "metadata": {},
   "outputs": [
    {
     "name": "stdout",
     "output_type": "stream",
     "text": [
      "Confusion Matrix:\n",
      "[[368   0   0   0]\n",
      " [  5   5   0   0]\n",
      " [  3   0   7   0]\n",
      " [  0   0   0  10]] \n",
      "\n",
      "F1 Score: 0.9772486722035225 \n",
      "\n",
      "Accuracy Score: 0.9798994974874372 \n",
      "\n",
      "Classification Report:\n",
      "              precision    recall  f1-score   support\n",
      "\n",
      "     Android       0.98      1.00      0.99       368\n",
      "       Other       1.00      0.50      0.67        10\n",
      "     Windows       1.00      0.70      0.82        10\n",
      "         iOS       1.00      1.00      1.00        10\n",
      "\n",
      "    accuracy                           0.98       398\n",
      "   macro avg       0.99      0.80      0.87       398\n",
      "weighted avg       0.98      0.98      0.98       398\n",
      " \n",
      "\n"
     ]
    }
   ],
   "source": [
    "svc = SVC(C= 10, gamma='scale', kernel='rbf')\n",
    "\n",
    "svc.fit(X_train, y_train)\n",
    "\n",
    "y_pred=svc.predict(X_test)\n",
    "\n",
    "cm = confusion_matrix(y_test , y_pred)\n",
    "\n",
    "print(\"Confusion Matrix:\")\n",
    "print(cm,'\\n')\n",
    "\n",
    "print(\"F1 Score:\", f1_score(y_test , y_pred ,average='weighted'),'\\n')\n",
    "\n",
    "print(\"Accuracy Score:\", accuracy_score(y_test , y_pred),'\\n')\n",
    "\n",
    "print(\"Classification Report:\")\n",
    "print(classification_report(y_test , y_pred),'\\n')"
   ]
  },
  {
   "cell_type": "markdown",
   "metadata": {},
   "source": [
    "## EXTRA"
   ]
  },
  {
   "cell_type": "markdown",
   "metadata": {},
   "source": [
    "<p dir=rtl style=\"direction: rtl;text-align: justify;line-height:200%;font-family:vazir;font-size:medium\">\n",
    "<font face=\"vazir\" size=5 color=blue> \n",
    "در این قسمت تصمیم گرفتیم ظرفیت باتری (ستون سه دسته‌ای) را بر اساس سایر ویژگی‌ها پیش‌بینی کنیم\n",
    "</font>\n",
    "</p>"
   ]
  },
  {
   "cell_type": "markdown",
   "metadata": {},
   "source": [
    "## Preproseccing"
   ]
  },
  {
   "cell_type": "code",
   "execution_count": 115,
   "metadata": {},
   "outputs": [],
   "source": [
    "data2=data.copy()"
   ]
  },
  {
   "cell_type": "code",
   "execution_count": 116,
   "metadata": {},
   "outputs": [],
   "source": [
    "OS_name = pd.get_dummies(data2['OS'],prefix='OS')\n",
    "\n",
    "data2 = pd.concat([data2,OS_name],axis=1).drop(['OS'],axis=1)"
   ]
  },
  {
   "cell_type": "code",
   "execution_count": 117,
   "metadata": {},
   "outputs": [],
   "source": [
    "def clustering(x):\n",
    "    if  0<float(x)<3666:\n",
    "        return 1800\n",
    "    elif 3665<=float(x)<5000:\n",
    "        return 4200\n",
    "    elif 5000<=float(x)<12000: \n",
    "        return 8500\n",
    "data2['battery_capacity'] = data2['battery_capacity'].apply(clustering)    "
   ]
  },
  {
   "cell_type": "code",
   "execution_count": 118,
   "metadata": {},
   "outputs": [],
   "source": [
    "X=data2.drop(['battery_capacity'],axis=1)\n",
    "y = data2['battery_capacity']"
   ]
  },
  {
   "cell_type": "code",
   "execution_count": 119,
   "metadata": {},
   "outputs": [],
   "source": [
    "X_train_val, X_test, y_train_val, y_test = train_test_split(X, y, test_size=0.15, random_state=42)\n",
    "\n",
    "X_train, X_val, y_train, y_val = train_test_split(X_train_val, y_train_val, test_size=0.25, random_state=42)"
   ]
  },
  {
   "cell_type": "code",
   "execution_count": 120,
   "metadata": {},
   "outputs": [],
   "source": [
    "scaler = StandardScaler()\n",
    "X_train= scaler.fit_transform(X_train)\n",
    "X_test= scaler.transform(X_test)\n",
    "X_val= scaler.transform(X_val)"
   ]
  },
  {
   "cell_type": "code",
   "execution_count": 121,
   "metadata": {},
   "outputs": [],
   "source": [
    "model_name = []\n",
    "model_acc = []"
   ]
  },
  {
   "cell_type": "markdown",
   "metadata": {},
   "source": [
    "## KNN"
   ]
  },
  {
   "cell_type": "code",
   "execution_count": 122,
   "metadata": {},
   "outputs": [
    {
     "name": "stdout",
     "output_type": "stream",
     "text": [
      "Best Parameters: {'n_neighbors': 5, 'weights': 'distance'}\n",
      "Cross Validation Scores: [0.76923077 0.79585799 0.80769231 0.79289941 0.74183976]\n",
      "Mean Cross Validation Score: 0.7815040471968114\n",
      "Training Set Scores in Each Fold:\n",
      "[0.87551627 1.         0.84250927 1.         0.8201594  1.\n",
      " 0.79085194 1.         0.75814047 1.        ]\n",
      "validation Set Score: 0.8138297872340425\n",
      "Confusion Matrix:\n",
      "[[331  18  10]\n",
      " [ 29  57  17]\n",
      " [ 12  19  71]]\n",
      "F1 Score: 0.8105276666761717\n",
      "Accuracy Score: 0.8138297872340425\n",
      "Classification Report:\n",
      "              precision    recall  f1-score   support\n",
      "\n",
      "        1800       0.89      0.92      0.91       359\n",
      "        4200       0.61      0.55      0.58       103\n",
      "        8500       0.72      0.70      0.71       102\n",
      "\n",
      "    accuracy                           0.81       564\n",
      "   macro avg       0.74      0.72      0.73       564\n",
      "weighted avg       0.81      0.81      0.81       564\n",
      "\n"
     ]
    }
   ],
   "source": [
    "knn = KNeighborsClassifier()\n",
    "param_grid = {'n_neighbors': [3, 5, 7,10,20], 'weights': ['uniform', 'distance']}\n",
    "\n",
    "trainer = ModelTrainer(knn, param_grid)\n",
    "\n",
    "acc = trainer.train(X_train, y_train, X_val, y_val)\n",
    "\n",
    "model_name.append(\"KNN\")\n",
    "model_acc.append(acc)"
   ]
  },
  {
   "cell_type": "markdown",
   "metadata": {},
   "source": [
    "## LogisticRegression"
   ]
  },
  {
   "cell_type": "code",
   "execution_count": 123,
   "metadata": {},
   "outputs": [
    {
     "name": "stdout",
     "output_type": "stream",
     "text": [
      "validation Set Score: 0.8209219858156028\n",
      "Confusion Matrix:\n",
      "[[337  14   8]\n",
      " [ 34  46  23]\n",
      " [ 12  10  80]]\n",
      "F1 Score: 0.8111596014930295\n",
      "Accuracy Score: 0.8209219858156028\n",
      "Classification Report:\n",
      "              precision    recall  f1-score   support\n",
      "\n",
      "        1800       0.88      0.94      0.91       359\n",
      "        4200       0.66      0.45      0.53       103\n",
      "        8500       0.72      0.78      0.75       102\n",
      "\n",
      "    accuracy                           0.82       564\n",
      "   macro avg       0.75      0.72      0.73       564\n",
      "weighted avg       0.81      0.82      0.81       564\n",
      "\n"
     ]
    },
    {
     "name": "stderr",
     "output_type": "stream",
     "text": [
      "C:\\Users\\HP\\Documents\\Quera\\qenv\\lib\\site-packages\\sklearn\\linear_model\\_logistic.py:444: ConvergenceWarning: lbfgs failed to converge (status=1):\n",
      "STOP: TOTAL NO. of ITERATIONS REACHED LIMIT.\n",
      "\n",
      "Increase the number of iterations (max_iter) or scale the data as shown in:\n",
      "    https://scikit-learn.org/stable/modules/preprocessing.html\n",
      "Please also refer to the documentation for alternative solver options:\n",
      "    https://scikit-learn.org/stable/modules/linear_model.html#logistic-regression\n",
      "  n_iter_i = _check_optimize_result(\n"
     ]
    }
   ],
   "source": [
    "LogReg = LogisticRegression()\n",
    "\n",
    "trainer = ModelTrainer(LogReg)\n",
    "\n",
    "acc = trainer.train(X_train, y_train, X_val, y_val)\n",
    "\n",
    "model_acc.append(acc)\n",
    "model_name.append(\"LogReg\")"
   ]
  },
  {
   "cell_type": "markdown",
   "metadata": {},
   "source": [
    "## Decision Tree"
   ]
  },
  {
   "cell_type": "code",
   "execution_count": 124,
   "metadata": {},
   "outputs": [
    {
     "name": "stdout",
     "output_type": "stream",
     "text": [
      "Best Parameters: {'max_depth': 7, 'min_samples_leaf': 2, 'min_samples_split': 2}\n",
      "Cross Validation Scores: [0.80177515 0.78994083 0.84615385 0.82248521 0.79525223]\n",
      "Mean Cross Validation Score: 0.8111214510210173\n",
      "Training Set Scores in Each Fold:\n",
      "[1.         0.9674369  0.93132    0.95085889 0.94464193 0.91770275\n",
      " 0.90734061 0.90763668 0.90438006 0.78389501 0.78389501 0.78389501\n",
      " 0.78389501 0.78389501 0.78389501 0.78389501 0.78389501 0.78389501\n",
      " 0.84176941 0.84088151 0.83969753 0.84132562 0.84058565 0.8395496\n",
      " 0.8379214  0.8379214  0.8379214  0.89476029 0.88972797 0.88158695\n",
      " 0.88587908 0.88410305 0.8786264  0.87048494 0.87048494 0.8695967 ]\n",
      "validation Set Score: 0.8031914893617021\n",
      "Confusion Matrix:\n",
      "[[334  19   6]\n",
      " [ 34  49  20]\n",
      " [ 11  21  70]]\n",
      "F1 Score: 0.7972387203421519\n",
      "Accuracy Score: 0.8031914893617021\n",
      "Classification Report:\n",
      "              precision    recall  f1-score   support\n",
      "\n",
      "        1800       0.88      0.93      0.91       359\n",
      "        4200       0.55      0.48      0.51       103\n",
      "        8500       0.73      0.69      0.71       102\n",
      "\n",
      "    accuracy                           0.80       564\n",
      "   macro avg       0.72      0.70      0.71       564\n",
      "weighted avg       0.79      0.80      0.80       564\n",
      "\n"
     ]
    }
   ],
   "source": [
    "tree_clf = DecisionTreeClassifier()\n",
    "param_grid = {'max_depth': [None, 3, 5, 7], 'min_samples_split': [2, 5, 10], 'min_samples_leaf': [1, 2, 4]}\n",
    "\n",
    "trainer = ModelTrainer(tree_clf,param_grid)\n",
    "\n",
    "\n",
    "acc = trainer.train(X_train, y_train, X_val, y_val)\n",
    "\n",
    "model_acc.append(acc)\n",
    "model_name.append(\"DTC\")"
   ]
  },
  {
   "cell_type": "markdown",
   "metadata": {},
   "source": [
    "## SVC"
   ]
  },
  {
   "cell_type": "code",
   "execution_count": 125,
   "metadata": {},
   "outputs": [
    {
     "name": "stdout",
     "output_type": "stream",
     "text": [
      "Best Parameters: {'C': 10, 'gamma': 'auto', 'kernel': 'rbf'}\n",
      "Cross Validation Scores: [0.80769231 0.83431953 0.83431953 0.81360947 0.79821958]\n",
      "Mean Cross Validation Score: 0.8176320825944199\n",
      "Training Set Scores in Each Fold:\n",
      "[0.83540485 0.68250397 0.73889755 0.74052641 0.83540485 0.68043165\n",
      " 0.73874951 0.73978644 0.84310066 0.81009366 0.84472876 0.75088659\n",
      " 0.84310066 0.80269229 0.8441366  0.75133136 0.8441366  0.91933008\n",
      " 0.93250408 0.70722257 0.8441366  0.91681376 0.93161585 0.70811113]\n",
      "validation Set Score: 0.8280141843971631\n",
      "Confusion Matrix:\n",
      "[[329  24   6]\n",
      " [ 31  58  14]\n",
      " [  8  14  80]]\n",
      "F1 Score: 0.8258144997776045\n",
      "Accuracy Score: 0.8280141843971631\n",
      "Classification Report:\n",
      "              precision    recall  f1-score   support\n",
      "\n",
      "        1800       0.89      0.92      0.91       359\n",
      "        4200       0.60      0.56      0.58       103\n",
      "        8500       0.80      0.78      0.79       102\n",
      "\n",
      "    accuracy                           0.83       564\n",
      "   macro avg       0.77      0.75      0.76       564\n",
      "weighted avg       0.82      0.83      0.83       564\n",
      "\n"
     ]
    }
   ],
   "source": [
    "svc = SVC()\n",
    "\n",
    "param_grid = {'C': [0.1, 1, 10], 'kernel': ['linear', 'poly', 'rbf', 'sigmoid'], 'gamma': ['scale', 'auto']}\n",
    "\n",
    "trainer = ModelTrainer(svc,param_grid)\n",
    "\n",
    "acc = trainer.train(X_train, y_train, X_val, y_val)\n",
    "\n",
    "model_acc.append(acc)\n",
    "model_name.append(\"SVC\")"
   ]
  },
  {
   "cell_type": "markdown",
   "metadata": {},
   "source": [
    "## Random Forest"
   ]
  },
  {
   "cell_type": "code",
   "execution_count": 126,
   "metadata": {},
   "outputs": [
    {
     "name": "stdout",
     "output_type": "stream",
     "text": [
      "Best Parameters: {'max_depth': None, 'min_samples_leaf': 1, 'min_samples_split': 2, 'n_estimators': 300}\n",
      "Cross Validation Scores: [0.85502959 0.86686391 0.87869822 0.86390533 0.85756677]\n",
      "Mean Cross Validation Score: 0.8644127613997508\n",
      "Training Set Scores in Each Fold:\n",
      "[1.         1.         1.         0.98164618 0.9828306  0.98208975\n",
      " 0.94138464 0.94449356 0.94242091 0.95766669 0.95811036 0.95811113\n",
      " 0.95367063 0.95367019 0.95100605 0.92865574 0.92421513 0.92643505\n",
      " 0.90571284 0.90452864 0.90600903 0.90423256 0.90438093 0.90586077\n",
      " 0.89875525 0.90067997 0.90112419 0.83644079 0.83451717 0.83185138\n",
      " 0.83140956 0.83170334 0.83066762 0.8274122  0.8314077  0.82785609\n",
      " 0.83037286 0.8336285  0.8325919  0.82504248 0.83125923 0.83066795\n",
      " 0.82948419 0.82933505 0.82622778 0.82948342 0.82726306 0.82504336\n",
      " 0.82696753 0.82430295 0.82578333 0.82711667 0.82297104 0.82489401\n",
      " 0.96713984 0.97069254 0.96995279 0.94641729 0.94834179 0.94893362\n",
      " 0.91962649 0.92021842 0.92243856 0.9327995  0.93220768 0.93457608\n",
      " 0.92865497 0.92717481 0.92924713 0.91044909 0.90970955 0.90926544\n",
      " 0.89490702 0.89564743 0.89594329 0.89165072 0.8963874  0.89505527\n",
      " 0.89209428 0.89535113 0.89298263]\n",
      "validation Set Score: 0.8581560283687943\n",
      "Confusion Matrix:\n",
      "[[342  14   3]\n",
      " [ 30  58  15]\n",
      " [  7  11  84]]\n",
      "F1 Score: 0.8527806142852095\n",
      "Accuracy Score: 0.8581560283687943\n",
      "Classification Report:\n",
      "              precision    recall  f1-score   support\n",
      "\n",
      "        1800       0.90      0.95      0.93       359\n",
      "        4200       0.70      0.56      0.62       103\n",
      "        8500       0.82      0.82      0.82       102\n",
      "\n",
      "    accuracy                           0.86       564\n",
      "   macro avg       0.81      0.78      0.79       564\n",
      "weighted avg       0.85      0.86      0.85       564\n",
      "\n"
     ]
    }
   ],
   "source": [
    "rf = RandomForestClassifier()\n",
    "\n",
    "param_grid = {\n",
    "    'n_estimators': [100, 200, 300],\n",
    "    'max_depth': [None, 5, 10],\n",
    "    'min_samples_split': [2, 5, 10],\n",
    "    'min_samples_leaf': [1, 2, 4]\n",
    "}\n",
    "\n",
    "trainer = ModelTrainer(rf,param_grid)\n",
    "acc = trainer.train(X_train, y_train, X_val, y_val)\n",
    "\n",
    "model_acc.append(acc)\n",
    "model_name.append(\"RF\")"
   ]
  },
  {
   "cell_type": "markdown",
   "metadata": {},
   "source": [
    "## Choosing the best model and fitting on the test data"
   ]
  },
  {
   "cell_type": "code",
   "execution_count": 127,
   "metadata": {},
   "outputs": [
    {
     "data": {
      "text/plain": [
       "[<matplotlib.lines.Line2D at 0x215f140b2e0>]"
      ]
     },
     "execution_count": 127,
     "metadata": {},
     "output_type": "execute_result"
    },
    {
     "data": {
      "image/png": "[encoded data removed]",
      "text/plain": [
       "<Figure size 2000x1000 with 1 Axes>"
      ]
     },
     "metadata": {},
     "output_type": "display_data"
    }
   ],
   "source": [
    "ax = plt.subplots(figsize=(20,10))\n",
    "ax = plt.plot(model_name , model_acc)\n",
    "ax"
   ]
  },
  {
   "cell_type": "code",
   "execution_count": 128,
   "metadata": {},
   "outputs": [
    {
     "name": "stdout",
     "output_type": "stream",
     "text": [
      "Confusion Matrix:\n",
      "[[244   6   2]\n",
      " [ 20  49   9]\n",
      " [  4   3  61]] \n",
      "\n",
      "F1 Score: 0.8843098816643009 \n",
      "\n",
      "Accuracy Score: 0.8894472361809045 \n",
      "\n",
      "Classification Report:\n",
      "              precision    recall  f1-score   support\n",
      "\n",
      "        1800       0.91      0.97      0.94       252\n",
      "        4200       0.84      0.63      0.72        78\n",
      "        8500       0.85      0.90      0.87        68\n",
      "\n",
      "    accuracy                           0.89       398\n",
      "   macro avg       0.87      0.83      0.84       398\n",
      "weighted avg       0.89      0.89      0.88       398\n",
      " \n",
      "\n"
     ]
    }
   ],
   "source": [
    "rf = RandomForestClassifier(max_depth=None, min_samples_leaf=1, min_samples_split= 2, n_estimators=300)\n",
    "\n",
    "rf.fit(X_train, y_train)\n",
    "\n",
    "y_pred=rf.predict(X_test)\n",
    "\n",
    "cm = confusion_matrix(y_test , y_pred)\n",
    "\n",
    "print(\"Confusion Matrix:\")\n",
    "print(cm,'\\n')\n",
    "\n",
    "print(\"F1 Score:\", f1_score(y_test , y_pred ,average='weighted'),'\\n')\n",
    "\n",
    "print(\"Accuracy Score:\", accuracy_score(y_test , y_pred),'\\n')\n",
    "\n",
    "print(\"Classification Report:\")\n",
    "print(classification_report(y_test , y_pred),'\\n')"
   ]
  },
  {
   "cell_type": "code",
   "execution_count": null,
   "metadata": {},
   "outputs": [],
   "source": []
  }
 ],
 "metadata": {
  "kernelspec": {
   "display_name": "Python 3 (ipykernel)",
   "language": "python",
   "name": "python3"
  },
  "language_info": {
   "codemirror_mode": {
    "name": "ipython",
    "version": 3
   },
   "file_extension": ".py",
   "mimetype": "text/x-python",
   "name": "python",
   "nbconvert_exporter": "python",
   "pygments_lexer": "ipython3",
   "version": "3.9.13"
  }
 },
 "nbformat": 4,
 "nbformat_minor": 2
}
